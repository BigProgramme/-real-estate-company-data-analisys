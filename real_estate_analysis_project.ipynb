{
 "cells": [
  {
   "cell_type": "code",
   "execution_count": 132,
   "metadata": {},
   "outputs": [],
   "source": [
    "import pandas as pd\n",
    "import numpy as np\n",
    "import seaborn as sns\n",
    "import matplotlib.pyplot as plt\n",
    "import plotly.express as px\n",
    "from scipy import stats\n",
    "\n",
    "from sklearn.linear_model import LinearRegression\n",
    "from sklearn.model_selection import train_test_split\n",
    "from sklearn.metrics import mean_squared_error\n",
    "sns.set_theme(style=\"darkgrid\")"
   ]
  },
  {
   "cell_type": "code",
   "execution_count": 3,
   "metadata": {},
   "outputs": [
    {
     "data": {
      "text/html": [
       "<div>\n",
       "<style scoped>\n",
       "    .dataframe tbody tr th:only-of-type {\n",
       "        vertical-align: middle;\n",
       "    }\n",
       "\n",
       "    .dataframe tbody tr th {\n",
       "        vertical-align: top;\n",
       "    }\n",
       "\n",
       "    .dataframe thead th {\n",
       "        text-align: right;\n",
       "    }\n",
       "</style>\n",
       "<table border=\"1\" class=\"dataframe\">\n",
       "  <thead>\n",
       "    <tr style=\"text-align: right;\">\n",
       "      <th></th>\n",
       "      <th>total_images</th>\n",
       "      <th>last_price</th>\n",
       "      <th>total_area</th>\n",
       "      <th>rooms</th>\n",
       "      <th>ceiling_height</th>\n",
       "      <th>floors_total</th>\n",
       "      <th>living_area</th>\n",
       "      <th>floor</th>\n",
       "      <th>kitchen_area</th>\n",
       "      <th>balcony</th>\n",
       "      <th>...</th>\n",
       "      <th>cityCenters_nearest</th>\n",
       "      <th>parks_around3000</th>\n",
       "      <th>parks_nearest</th>\n",
       "      <th>ponds_around3000</th>\n",
       "      <th>ponds_nearest</th>\n",
       "      <th>days_exposition</th>\n",
       "      <th>year_publication</th>\n",
       "      <th>month_publication</th>\n",
       "      <th>day_of_week_publication</th>\n",
       "      <th>price_meter</th>\n",
       "    </tr>\n",
       "  </thead>\n",
       "  <tbody>\n",
       "    <tr>\n",
       "      <th>0</th>\n",
       "      <td>10</td>\n",
       "      <td>95000</td>\n",
       "      <td>111.0</td>\n",
       "      <td>3</td>\n",
       "      <td>NaN</td>\n",
       "      <td>16.0</td>\n",
       "      <td>65.3</td>\n",
       "      <td>7</td>\n",
       "      <td>14.0</td>\n",
       "      <td>1</td>\n",
       "      <td>...</td>\n",
       "      <td>22175.0</td>\n",
       "      <td>0.0</td>\n",
       "      <td>NaN</td>\n",
       "      <td>1.0</td>\n",
       "      <td>649.0</td>\n",
       "      <td>98.0</td>\n",
       "      <td>2017</td>\n",
       "      <td>5</td>\n",
       "      <td>4</td>\n",
       "      <td>855.855856</td>\n",
       "    </tr>\n",
       "    <tr>\n",
       "      <th>1</th>\n",
       "      <td>10</td>\n",
       "      <td>232857</td>\n",
       "      <td>98.4</td>\n",
       "      <td>0</td>\n",
       "      <td>3.1</td>\n",
       "      <td>5.0</td>\n",
       "      <td>60.5</td>\n",
       "      <td>2</td>\n",
       "      <td>NaN</td>\n",
       "      <td>0</td>\n",
       "      <td>...</td>\n",
       "      <td>5819.0</td>\n",
       "      <td>0.0</td>\n",
       "      <td>NaN</td>\n",
       "      <td>1.0</td>\n",
       "      <td>674.0</td>\n",
       "      <td>537.0</td>\n",
       "      <td>2017</td>\n",
       "      <td>11</td>\n",
       "      <td>2</td>\n",
       "      <td>2366.432927</td>\n",
       "    </tr>\n",
       "    <tr>\n",
       "      <th>2</th>\n",
       "      <td>19</td>\n",
       "      <td>55714</td>\n",
       "      <td>64.0</td>\n",
       "      <td>2</td>\n",
       "      <td>2.8</td>\n",
       "      <td>5.0</td>\n",
       "      <td>33.0</td>\n",
       "      <td>1</td>\n",
       "      <td>10.0</td>\n",
       "      <td>0</td>\n",
       "      <td>...</td>\n",
       "      <td>25274.0</td>\n",
       "      <td>0.0</td>\n",
       "      <td>NaN</td>\n",
       "      <td>1.0</td>\n",
       "      <td>591.0</td>\n",
       "      <td>45.0</td>\n",
       "      <td>2017</td>\n",
       "      <td>9</td>\n",
       "      <td>5</td>\n",
       "      <td>870.531250</td>\n",
       "    </tr>\n",
       "    <tr>\n",
       "      <th>3</th>\n",
       "      <td>5</td>\n",
       "      <td>91429</td>\n",
       "      <td>52.2</td>\n",
       "      <td>2</td>\n",
       "      <td>3.0</td>\n",
       "      <td>5.0</td>\n",
       "      <td>32.8</td>\n",
       "      <td>4</td>\n",
       "      <td>7.9</td>\n",
       "      <td>0</td>\n",
       "      <td>...</td>\n",
       "      <td>4725.0</td>\n",
       "      <td>1.0</td>\n",
       "      <td>549.0</td>\n",
       "      <td>3.0</td>\n",
       "      <td>174.0</td>\n",
       "      <td>68.0</td>\n",
       "      <td>2016</td>\n",
       "      <td>6</td>\n",
       "      <td>3</td>\n",
       "      <td>1751.513410</td>\n",
       "    </tr>\n",
       "    <tr>\n",
       "      <th>4</th>\n",
       "      <td>19</td>\n",
       "      <td>70000</td>\n",
       "      <td>42.0</td>\n",
       "      <td>1</td>\n",
       "      <td>27.5</td>\n",
       "      <td>24.0</td>\n",
       "      <td>37.7</td>\n",
       "      <td>19</td>\n",
       "      <td>11.0</td>\n",
       "      <td>2</td>\n",
       "      <td>...</td>\n",
       "      <td>9760.0</td>\n",
       "      <td>0.0</td>\n",
       "      <td>NaN</td>\n",
       "      <td>0.0</td>\n",
       "      <td>NaN</td>\n",
       "      <td>61.0</td>\n",
       "      <td>2017</td>\n",
       "      <td>4</td>\n",
       "      <td>1</td>\n",
       "      <td>1666.666667</td>\n",
       "    </tr>\n",
       "    <tr>\n",
       "      <th>...</th>\n",
       "      <td>...</td>\n",
       "      <td>...</td>\n",
       "      <td>...</td>\n",
       "      <td>...</td>\n",
       "      <td>...</td>\n",
       "      <td>...</td>\n",
       "      <td>...</td>\n",
       "      <td>...</td>\n",
       "      <td>...</td>\n",
       "      <td>...</td>\n",
       "      <td>...</td>\n",
       "      <td>...</td>\n",
       "      <td>...</td>\n",
       "      <td>...</td>\n",
       "      <td>...</td>\n",
       "      <td>...</td>\n",
       "      <td>...</td>\n",
       "      <td>...</td>\n",
       "      <td>...</td>\n",
       "      <td>...</td>\n",
       "      <td>...</td>\n",
       "    </tr>\n",
       "    <tr>\n",
       "      <th>495</th>\n",
       "      <td>9</td>\n",
       "      <td>74286</td>\n",
       "      <td>57.1</td>\n",
       "      <td>3</td>\n",
       "      <td>2.5</td>\n",
       "      <td>9.0</td>\n",
       "      <td>49.1</td>\n",
       "      <td>3</td>\n",
       "      <td>6.4</td>\n",
       "      <td>1</td>\n",
       "      <td>...</td>\n",
       "      <td>15391.0</td>\n",
       "      <td>0.0</td>\n",
       "      <td>NaN</td>\n",
       "      <td>0.0</td>\n",
       "      <td>NaN</td>\n",
       "      <td>146.0</td>\n",
       "      <td>2018</td>\n",
       "      <td>2</td>\n",
       "      <td>0</td>\n",
       "      <td>1300.980736</td>\n",
       "    </tr>\n",
       "    <tr>\n",
       "      <th>496</th>\n",
       "      <td>15</td>\n",
       "      <td>58571</td>\n",
       "      <td>37.6</td>\n",
       "      <td>1</td>\n",
       "      <td>2.7</td>\n",
       "      <td>17.0</td>\n",
       "      <td>14.4</td>\n",
       "      <td>3</td>\n",
       "      <td>9.7</td>\n",
       "      <td>1</td>\n",
       "      <td>...</td>\n",
       "      <td>12665.0</td>\n",
       "      <td>0.0</td>\n",
       "      <td>NaN</td>\n",
       "      <td>0.0</td>\n",
       "      <td>NaN</td>\n",
       "      <td>207.0</td>\n",
       "      <td>2017</td>\n",
       "      <td>11</td>\n",
       "      <td>0</td>\n",
       "      <td>1557.739362</td>\n",
       "    </tr>\n",
       "    <tr>\n",
       "      <th>497</th>\n",
       "      <td>7</td>\n",
       "      <td>50000</td>\n",
       "      <td>37.0</td>\n",
       "      <td>1</td>\n",
       "      <td>NaN</td>\n",
       "      <td>9.0</td>\n",
       "      <td>20.5</td>\n",
       "      <td>5</td>\n",
       "      <td>6.5</td>\n",
       "      <td>1</td>\n",
       "      <td>...</td>\n",
       "      <td>13568.0</td>\n",
       "      <td>0.0</td>\n",
       "      <td>NaN</td>\n",
       "      <td>1.0</td>\n",
       "      <td>837.0</td>\n",
       "      <td>34.0</td>\n",
       "      <td>2017</td>\n",
       "      <td>5</td>\n",
       "      <td>4</td>\n",
       "      <td>1351.351351</td>\n",
       "    </tr>\n",
       "    <tr>\n",
       "      <th>498</th>\n",
       "      <td>12</td>\n",
       "      <td>77143</td>\n",
       "      <td>43.0</td>\n",
       "      <td>1</td>\n",
       "      <td>NaN</td>\n",
       "      <td>18.0</td>\n",
       "      <td>18.0</td>\n",
       "      <td>12</td>\n",
       "      <td>10.0</td>\n",
       "      <td>0</td>\n",
       "      <td>...</td>\n",
       "      <td>14296.0</td>\n",
       "      <td>1.0</td>\n",
       "      <td>401.0</td>\n",
       "      <td>0.0</td>\n",
       "      <td>NaN</td>\n",
       "      <td>57.0</td>\n",
       "      <td>2017</td>\n",
       "      <td>11</td>\n",
       "      <td>0</td>\n",
       "      <td>1794.023256</td>\n",
       "    </tr>\n",
       "    <tr>\n",
       "      <th>499</th>\n",
       "      <td>10</td>\n",
       "      <td>112857</td>\n",
       "      <td>76.0</td>\n",
       "      <td>3</td>\n",
       "      <td>2.8</td>\n",
       "      <td>25.0</td>\n",
       "      <td>48.0</td>\n",
       "      <td>4</td>\n",
       "      <td>10.0</td>\n",
       "      <td>1</td>\n",
       "      <td>...</td>\n",
       "      <td>10890.0</td>\n",
       "      <td>1.0</td>\n",
       "      <td>212.0</td>\n",
       "      <td>0.0</td>\n",
       "      <td>NaN</td>\n",
       "      <td>10.0</td>\n",
       "      <td>2018</td>\n",
       "      <td>1</td>\n",
       "      <td>5</td>\n",
       "      <td>1484.960526</td>\n",
       "    </tr>\n",
       "  </tbody>\n",
       "</table>\n",
       "<p>500 rows × 21 columns</p>\n",
       "</div>"
      ],
      "text/plain": [
       "     total_images  last_price  total_area  rooms  ceiling_height  \\\n",
       "0              10       95000       111.0      3             NaN   \n",
       "1              10      232857        98.4      0             3.1   \n",
       "2              19       55714        64.0      2             2.8   \n",
       "3               5       91429        52.2      2             3.0   \n",
       "4              19       70000        42.0      1            27.5   \n",
       "..            ...         ...         ...    ...             ...   \n",
       "495             9       74286        57.1      3             2.5   \n",
       "496            15       58571        37.6      1             2.7   \n",
       "497             7       50000        37.0      1             NaN   \n",
       "498            12       77143        43.0      1             NaN   \n",
       "499            10      112857        76.0      3             2.8   \n",
       "\n",
       "     floors_total  living_area  floor  kitchen_area  balcony  ...  \\\n",
       "0            16.0         65.3      7          14.0        1  ...   \n",
       "1             5.0         60.5      2           NaN        0  ...   \n",
       "2             5.0         33.0      1          10.0        0  ...   \n",
       "3             5.0         32.8      4           7.9        0  ...   \n",
       "4            24.0         37.7     19          11.0        2  ...   \n",
       "..            ...          ...    ...           ...      ...  ...   \n",
       "495           9.0         49.1      3           6.4        1  ...   \n",
       "496          17.0         14.4      3           9.7        1  ...   \n",
       "497           9.0         20.5      5           6.5        1  ...   \n",
       "498          18.0         18.0     12          10.0        0  ...   \n",
       "499          25.0         48.0      4          10.0        1  ...   \n",
       "\n",
       "     cityCenters_nearest  parks_around3000  parks_nearest  ponds_around3000  \\\n",
       "0                22175.0               0.0            NaN               1.0   \n",
       "1                 5819.0               0.0            NaN               1.0   \n",
       "2                25274.0               0.0            NaN               1.0   \n",
       "3                 4725.0               1.0          549.0               3.0   \n",
       "4                 9760.0               0.0            NaN               0.0   \n",
       "..                   ...               ...            ...               ...   \n",
       "495              15391.0               0.0            NaN               0.0   \n",
       "496              12665.0               0.0            NaN               0.0   \n",
       "497              13568.0               0.0            NaN               1.0   \n",
       "498              14296.0               1.0          401.0               0.0   \n",
       "499              10890.0               1.0          212.0               0.0   \n",
       "\n",
       "     ponds_nearest  days_exposition  year_publication  month_publication  \\\n",
       "0            649.0             98.0              2017                  5   \n",
       "1            674.0            537.0              2017                 11   \n",
       "2            591.0             45.0              2017                  9   \n",
       "3            174.0             68.0              2016                  6   \n",
       "4              NaN             61.0              2017                  4   \n",
       "..             ...              ...               ...                ...   \n",
       "495            NaN            146.0              2018                  2   \n",
       "496            NaN            207.0              2017                 11   \n",
       "497          837.0             34.0              2017                  5   \n",
       "498            NaN             57.0              2017                 11   \n",
       "499            NaN             10.0              2018                  1   \n",
       "\n",
       "     day_of_week_publication  price_meter  \n",
       "0                          4   855.855856  \n",
       "1                          2  2366.432927  \n",
       "2                          5   870.531250  \n",
       "3                          3  1751.513410  \n",
       "4                          1  1666.666667  \n",
       "..                       ...          ...  \n",
       "495                        0  1300.980736  \n",
       "496                        0  1557.739362  \n",
       "497                        4  1351.351351  \n",
       "498                        0  1794.023256  \n",
       "499                        5  1484.960526  \n",
       "\n",
       "[500 rows x 21 columns]"
      ]
     },
     "execution_count": 3,
     "metadata": {},
     "output_type": "execute_result"
    }
   ],
   "source": [
    "#load data\n",
    "df = pd.read_csv('real_estate_data_500.csv', sep=';')\n",
    "df.replace(',', '.')\n",
    "\n",
    "\n"
   ]
  },
  {
   "cell_type": "code",
   "execution_count": 4,
   "metadata": {},
   "outputs": [],
   "source": [
    "#Examine the following parameters: price, total area, number of rooms, ceiling height, \n",
    "#distance from the center. Use descriptive statistics. Visualize these variables. Draw \n",
    "#conclusions:\n",
    "\n",
    "key_vars = ['last_price', 'total_area', 'rooms', 'ceiling_height', 'cityCenters_nearest']\n",
    "\n",
    "# descriptive statistics /transposed for better readability\n",
    "missing_values = df[key_vars].isnull().sum()"
   ]
  },
  {
   "cell_type": "code",
   "execution_count": 5,
   "metadata": {},
   "outputs": [
    {
     "data": {
      "text/html": [
       "<div>\n",
       "<style scoped>\n",
       "    .dataframe tbody tr th:only-of-type {\n",
       "        vertical-align: middle;\n",
       "    }\n",
       "\n",
       "    .dataframe tbody tr th {\n",
       "        vertical-align: top;\n",
       "    }\n",
       "\n",
       "    .dataframe thead th {\n",
       "        text-align: right;\n",
       "    }\n",
       "</style>\n",
       "<table border=\"1\" class=\"dataframe\">\n",
       "  <thead>\n",
       "    <tr style=\"text-align: right;\">\n",
       "      <th></th>\n",
       "      <th>count</th>\n",
       "      <th>mean</th>\n",
       "      <th>std</th>\n",
       "      <th>min</th>\n",
       "      <th>25%</th>\n",
       "      <th>50%</th>\n",
       "      <th>75%</th>\n",
       "      <th>max</th>\n",
       "    </tr>\n",
       "  </thead>\n",
       "  <tbody>\n",
       "    <tr>\n",
       "      <th>last_price</th>\n",
       "      <td>500.0</td>\n",
       "      <td>105451.164000</td>\n",
       "      <td>81849.964208</td>\n",
       "      <td>32143.0</td>\n",
       "      <td>60000.0</td>\n",
       "      <td>78571.00</td>\n",
       "      <td>114071.50</td>\n",
       "      <td>785714.0</td>\n",
       "    </tr>\n",
       "    <tr>\n",
       "      <th>total_area</th>\n",
       "      <td>500.0</td>\n",
       "      <td>65.468400</td>\n",
       "      <td>41.703327</td>\n",
       "      <td>19.0</td>\n",
       "      <td>41.0</td>\n",
       "      <td>54.95</td>\n",
       "      <td>75.00</td>\n",
       "      <td>374.6</td>\n",
       "    </tr>\n",
       "    <tr>\n",
       "      <th>rooms</th>\n",
       "      <td>500.0</td>\n",
       "      <td>2.192000</td>\n",
       "      <td>1.462674</td>\n",
       "      <td>0.0</td>\n",
       "      <td>1.0</td>\n",
       "      <td>2.00</td>\n",
       "      <td>3.00</td>\n",
       "      <td>19.0</td>\n",
       "    </tr>\n",
       "    <tr>\n",
       "      <th>ceiling_height</th>\n",
       "      <td>349.0</td>\n",
       "      <td>2.914040</td>\n",
       "      <td>1.870615</td>\n",
       "      <td>2.4</td>\n",
       "      <td>2.6</td>\n",
       "      <td>2.70</td>\n",
       "      <td>3.00</td>\n",
       "      <td>27.5</td>\n",
       "    </tr>\n",
       "    <tr>\n",
       "      <th>cityCenters_nearest</th>\n",
       "      <td>496.0</td>\n",
       "      <td>11562.707661</td>\n",
       "      <td>4735.071753</td>\n",
       "      <td>387.0</td>\n",
       "      <td>8520.0</td>\n",
       "      <td>12178.00</td>\n",
       "      <td>14765.25</td>\n",
       "      <td>28018.0</td>\n",
       "    </tr>\n",
       "  </tbody>\n",
       "</table>\n",
       "</div>"
      ],
      "text/plain": [
       "                     count           mean           std      min      25%  \\\n",
       "last_price           500.0  105451.164000  81849.964208  32143.0  60000.0   \n",
       "total_area           500.0      65.468400     41.703327     19.0     41.0   \n",
       "rooms                500.0       2.192000      1.462674      0.0      1.0   \n",
       "ceiling_height       349.0       2.914040      1.870615      2.4      2.6   \n",
       "cityCenters_nearest  496.0   11562.707661   4735.071753    387.0   8520.0   \n",
       "\n",
       "                          50%        75%       max  \n",
       "last_price           78571.00  114071.50  785714.0  \n",
       "total_area              54.95      75.00     374.6  \n",
       "rooms                    2.00       3.00      19.0  \n",
       "ceiling_height           2.70       3.00      27.5  \n",
       "cityCenters_nearest  12178.00   14765.25   28018.0  "
      ]
     },
     "metadata": {},
     "output_type": "display_data"
    }
   ],
   "source": [
    "#now the descriptive statistics\n",
    "display(df[key_vars].describe().T)\n"
   ]
  },
  {
   "cell_type": "code",
   "execution_count": null,
   "metadata": {},
   "outputs": [],
   "source": []
  },
  {
   "cell_type": "markdown",
   "metadata": {},
   "source": [
    "RESULT OF DESCRIPTIVE ANALISYS\n",
    "\n",
    " - last_price: \n",
    " The average price at time of unpublication of apartments is around €105,451.2, but the high \n",
    "standard deviation (€81,849.96) indicates a large variation in prices. This suggests there is a wide \n",
    "range of prices in the market.\n",
    " The minimum price €32,143 and the maximum price €785,714 show that there are very low\n",
    "priced apartments as well as very high-end properties.\n",
    " \n",
    " - total_area (total_area - area of the apartment in square meters (m²)):\n",
    " The average total area of apartments is 65.47 m², with a standard deviation of 41.70 m², \n",
    "suggesting significant diversity in apartment sizes.\n",
    " The minimum area (19 m²) indicates very small apartments, while the maximum (374.6 m²) \n",
    "suggests the existence of large apartments or possibly houses.\n",
    " \n",
    " - rooms - number of rooms:\n",
    " On average, apartments have a little over 2 rooms, which is quite standard. The standard deviation \n",
    "(1.46) indicates that there is a wide variety in the number of rooms.\n",
    " The presence of apartments with 0 rooms might indicate studios or data entry errors.\n",
    " \n",
    " - ceiling_height - ceiling height (m):\n",
    " The average ceiling height is around 2.91 m, which is relatively standard for apartments.\n",
    " The high standard deviation (1.87 m) and the maximum height (27.5 m) might be attributed to \n",
    "unique properties, such as lofts or commercial spaces converted into residences.\n",
    " The difference in the number of observations for \n",
    "ceiling_height (349) compared to other variables (500) may indicate missing or unrecorded data.\n",
    "\n",
    "- cityCenters_nearest - distance au centre-ville (m):\n",
    " On average, the apartments are located about 11.56 km from the city center, with distances ranging \n",
    "from 387 m to 28 km"
   ]
  },
  {
   "cell_type": "code",
   "execution_count": 6,
   "metadata": {},
   "outputs": [
    {
     "name": "stdout",
     "output_type": "stream",
     "text": [
      "0 last_price\n",
      "1 total_area\n",
      "2 rooms\n",
      "3 ceiling_height\n",
      "4 cityCenters_nearest\n"
     ]
    },
    {
     "data": {
      "image/png": "[encoded data removed]",
      "text/plain": [
       "<Figure size 2500x700 with 5 Axes>"
      ]
     },
     "metadata": {},
     "output_type": "display_data"
    }
   ],
   "source": [
    "# let's visualize the data\n",
    "# Boxplot\n",
    "fig, ax = plt.subplots(1, 5, figsize=(25, 7))\n",
    "for i, var in enumerate(key_vars):\n",
    "    print(i, var)\n",
    "    sns.boxplot(y=var, data=df, ax=ax[i])\n",
    "    ax[i].set_title(var)\n",
    "plt.show()\n"
   ]
  },
  {
   "cell_type": "code",
   "execution_count": 7,
   "metadata": {},
   "outputs": [
    {
     "data": {
      "image/png": "[encoded data removed]",
      "text/plain": [
       "<Figure size 2500x700 with 1 Axes>"
      ]
     },
     "metadata": {},
     "output_type": "display_data"
    }
   ],
   "source": [
    "# Histogram\n",
    "fig= plt.subplots(figsize=(25, 7))\n",
    "\n",
    "# get the total_area data and show the density\n",
    "\n",
    "total_area = df['total_area']\n",
    "# plot the histogram with sns and show the density in y axis instead of count\n",
    "sns.histplot(total_area, kde=True, stat='density')\n",
    "plt.title('Total Area')\n",
    "plt.show()\n"
   ]
  },
  {
   "cell_type": "markdown",
   "metadata": {},
   "source": []
  },
  {
   "cell_type": "markdown",
   "metadata": {},
   "source": [
    "2-  Make a hypothesis about 3 other variables that you think affect the price significantly.\n",
    " Visualize the interaction of price and each of these variables. Draw conclusions:\n",
    " About 3 variables that i think can affect the price significantly:\n",
    " \n",
    " - living area: a larger living areas are typically valued higher , when the living area increases, the price tends \n",
    "to increas too…\n",
    " - parks nearest: More the parks are nearest to the apartments, more the price is higher\n",
    " - kitchen area: More the kitchen area is  large, more the price is high."
   ]
  },
  {
   "cell_type": "code",
   "execution_count": 8,
   "metadata": {},
   "outputs": [
    {
     "data": {
      "text/plain": [
       "<seaborn.axisgrid.FacetGrid at 0x1beaf291a80>"
      ]
     },
     "execution_count": 8,
     "metadata": {},
     "output_type": "execute_result"
    },
    {
     "data": {
      "image/png": "[encoded data removed]",
      "text/plain": [
       "<Figure size 500x500 with 1 Axes>"
      ]
     },
     "metadata": {},
     "output_type": "display_data"
    }
   ],
   "source": [
    "# lets visualize the interaction between these 3 variables vs price\n",
    "# use sns express for this.\n",
    "\n",
    "# last_price vs total_area\n",
    "sns.relplot(data=df, y=df[\"last_price\"], x=df[\"living_area\"])\n"
   ]
  },
  {
   "cell_type": "markdown",
   "metadata": {},
   "source": [
    " The scatter plot  shows a clear upward trend (strong correlation). Larger living areas lead to higher prices."
   ]
  },
  {
   "cell_type": "code",
   "execution_count": 9,
   "metadata": {},
   "outputs": [
    {
     "data": {
      "text/plain": [
       "<seaborn.axisgrid.FacetGrid at 0x1beaf38b790>"
      ]
     },
     "execution_count": 9,
     "metadata": {},
     "output_type": "execute_result"
    },
    {
     "data": {
      "image/png": "[encoded data removed]",
      "text/plain": [
       "<Figure size 500x500 with 1 Axes>"
      ]
     },
     "metadata": {},
     "output_type": "display_data"
    }
   ],
   "source": [
    "# last_price vs park_nearest\n",
    "sns.relplot(data=df, y=df[\"last_price\"], x=df[\"parks_nearest\"])\n"
   ]
  },
  {
   "cell_type": "markdown",
   "metadata": {},
   "source": [
    "The scatter plot  appear random, with no distinct trend, confirming the weak correlation. This suggests \n",
    "that distance to parks isn't a key determinant of price in this dataset."
   ]
  },
  {
   "cell_type": "code",
   "execution_count": 10,
   "metadata": {},
   "outputs": [
    {
     "data": {
      "text/plain": [
       "<seaborn.axisgrid.FacetGrid at 0x1beaf51ec50>"
      ]
     },
     "execution_count": 10,
     "metadata": {},
     "output_type": "execute_result"
    },
    {
     "data": {
      "image/png": "[encoded data removed]",
      "text/plain": [
       "<Figure size 500x500 with 1 Axes>"
      ]
     },
     "metadata": {},
     "output_type": "display_data"
    }
   ],
   "source": [
    "# last_price vs kitchen_area\n",
    "sns.relplot(data=df, y=df[\"last_price\"], x=df[\"kitchen_area\"])"
   ]
  },
  {
   "cell_type": "markdown",
   "metadata": {},
   "source": [
    " There appears to be a general positive relationship: apartments with larger kitchen areas tend to have \n",
    "higher prices. This supports the hypothesis that larger kitchens are associated with higher property \n",
    "values."
   ]
  },
  {
   "cell_type": "markdown",
   "metadata": {},
   "source": [
    " 3- Study the duration of the apartment sale process. Plot a histogram and a boxplot.\n",
    " Calculate descriptive statistics and describe the usual duration of a sale. When can\n",
    " sales be considered too fast and when too long?"
   ]
  },
  {
   "cell_type": "code",
   "execution_count": 11,
   "metadata": {},
   "outputs": [
    {
     "data": {
      "image/png": "[encoded data removed]",
      "text/plain": [
       "<Figure size 2500x700 with 2 Axes>"
      ]
     },
     "metadata": {},
     "output_type": "display_data"
    }
   ],
   "source": [
    "# Histogram and box of days_exposition\n",
    "fig, ax = plt.subplots(1, 2, figsize=(25, 7))\n",
    "sns.histplot(df['days_exposition'], kde=True, stat='density', ax=ax[0])\n",
    "sns.boxplot(y='days_exposition', data=df, ax=ax[1])\n",
    "plt.show()"
   ]
  },
  {
   "cell_type": "code",
   "execution_count": 12,
   "metadata": {},
   "outputs": [
    {
     "data": {
      "text/plain": [
       "count     428.000000\n",
       "mean      175.934579\n",
       "std       229.413804\n",
       "min         3.000000\n",
       "25%        38.750000\n",
       "50%        90.000000\n",
       "75%       201.250000\n",
       "max      1497.000000\n",
       "Name: days_exposition, dtype: float64"
      ]
     },
     "metadata": {},
     "output_type": "display_data"
    }
   ],
   "source": [
    "# Descriptive analysis of days_exposition\n",
    "display(df['days_exposition'].describe())\n"
   ]
  },
  {
   "cell_type": "markdown",
   "metadata": {},
   "source": [
    " - Fast sale: From 39 days (25th percentile), which is less than 1.5 months, we can consider the sale \n",
    "to be relatively fast.\n",
    " - Too long sale:  Beyond 202 days (75th percentile), which is more than 6.5 months, we can consider \n",
    "the sale to be taking too long.\n",
    " - Between 39 days and 176 days, we are in the range of \"normal\" or usual sale duration, with half of \n",
    "the sales being completed within this window.\n",
    " Additionally, sales over 447 days (90th percentile) can be considered aberrant or outliers."
   ]
  },
  {
   "cell_type": "markdown",
   "metadata": {},
   "source": [
    " 4-  Find out which apartments are in the center. Create a column with the distance to the \n",
    "center in kilometers, round to whole numbers (distance_km = \n",
    "round(cityCenters_nearest / 1000)). After that, calculate the average price for each \n",
    "kilometer. Build a graph: it should show how the price depends on the distance from the \n",
    "center. Define the border where the graph changes a lot - this will be the central area."
   ]
  },
  {
   "cell_type": "code",
   "execution_count": 24,
   "metadata": {},
   "outputs": [
    {
     "data": {
      "text/html": [
       "<div>\n",
       "<style scoped>\n",
       "    .dataframe tbody tr th:only-of-type {\n",
       "        vertical-align: middle;\n",
       "    }\n",
       "\n",
       "    .dataframe tbody tr th {\n",
       "        vertical-align: top;\n",
       "    }\n",
       "\n",
       "    .dataframe thead th {\n",
       "        text-align: right;\n",
       "    }\n",
       "</style>\n",
       "<table border=\"1\" class=\"dataframe\">\n",
       "  <thead>\n",
       "    <tr style=\"text-align: right;\">\n",
       "      <th></th>\n",
       "      <th>avg_price_by_km</th>\n",
       "      <th>disante_to_center_km</th>\n",
       "    </tr>\n",
       "  </thead>\n",
       "  <tbody>\n",
       "    <tr>\n",
       "      <th>0</th>\n",
       "      <td>73493.625000</td>\n",
       "      <td>22.0</td>\n",
       "    </tr>\n",
       "    <tr>\n",
       "      <th>1</th>\n",
       "      <td>186551.533333</td>\n",
       "      <td>6.0</td>\n",
       "    </tr>\n",
       "    <tr>\n",
       "      <th>2</th>\n",
       "      <td>55714.000000</td>\n",
       "      <td>25.0</td>\n",
       "    </tr>\n",
       "    <tr>\n",
       "      <th>3</th>\n",
       "      <td>169553.407407</td>\n",
       "      <td>5.0</td>\n",
       "    </tr>\n",
       "    <tr>\n",
       "      <th>4</th>\n",
       "      <td>90872.700000</td>\n",
       "      <td>10.0</td>\n",
       "    </tr>\n",
       "    <tr>\n",
       "      <th>...</th>\n",
       "      <td>...</td>\n",
       "      <td>...</td>\n",
       "    </tr>\n",
       "    <tr>\n",
       "      <th>495</th>\n",
       "      <td>93271.740741</td>\n",
       "      <td>15.0</td>\n",
       "    </tr>\n",
       "    <tr>\n",
       "      <th>496</th>\n",
       "      <td>83066.733333</td>\n",
       "      <td>13.0</td>\n",
       "    </tr>\n",
       "    <tr>\n",
       "      <th>497</th>\n",
       "      <td>84068.530612</td>\n",
       "      <td>14.0</td>\n",
       "    </tr>\n",
       "    <tr>\n",
       "      <th>498</th>\n",
       "      <td>84068.530612</td>\n",
       "      <td>14.0</td>\n",
       "    </tr>\n",
       "    <tr>\n",
       "      <th>499</th>\n",
       "      <td>85033.075000</td>\n",
       "      <td>11.0</td>\n",
       "    </tr>\n",
       "  </tbody>\n",
       "</table>\n",
       "<p>500 rows × 2 columns</p>\n",
       "</div>"
      ],
      "text/plain": [
       "     avg_price_by_km  disante_to_center_km\n",
       "0       73493.625000                  22.0\n",
       "1      186551.533333                   6.0\n",
       "2       55714.000000                  25.0\n",
       "3      169553.407407                   5.0\n",
       "4       90872.700000                  10.0\n",
       "..               ...                   ...\n",
       "495     93271.740741                  15.0\n",
       "496     83066.733333                  13.0\n",
       "497     84068.530612                  14.0\n",
       "498     84068.530612                  14.0\n",
       "499     85033.075000                  11.0\n",
       "\n",
       "[500 rows x 2 columns]"
      ]
     },
     "metadata": {},
     "output_type": "display_data"
    }
   ],
   "source": [
    "# a new column with the distance to the center in km\n",
    "df['disante_to_center_km'] = round(df['cityCenters_nearest'] / 1000)\n",
    "\n",
    "\n",
    "# clacul of the average price for each km to the center\n",
    "avg_price_by_km = df.groupby('disante_to_center_km')['last_price'].mean().sort_index()\n",
    "#print(avg_price_by_km)\n",
    "# a new column with the price by km to the center \n",
    "df['avg_price_by_km'] = df['disante_to_center_km'].map(avg_price_by_km)\n",
    "\n",
    "display(df[['avg_price_by_km', 'disante_to_center_km']])"
   ]
  },
  {
   "cell_type": "code",
   "execution_count": 96,
   "metadata": {},
   "outputs": [
    {
     "data": {
      "application/vnd.plotly.v1+json": {
       "config": {
        "plotlyServerURL": "https://plot.ly"
       },
       "data": [
        {
         "hovertemplate": "x=%{x}<br>y=%{y}<extra></extra>",
         "legendgroup": "",
         "line": {
          "color": "#636efa",
          "dash": "solid"
         },
         "marker": {
          "symbol": "circle"
         },
         "mode": "lines",
         "name": "",
         "orientation": "v",
         "showlegend": false,
         "type": "scatter",
         "x": [
          0,
          1,
          1,
          1,
          1,
          1,
          1,
          2,
          2,
          2,
          3,
          3,
          3,
          3,
          3,
          3,
          3,
          3,
          3,
          3,
          3,
          4,
          4,
          4,
          4,
          4,
          4,
          4,
          4,
          4,
          4,
          4,
          4,
          4,
          4,
          4,
          4,
          4,
          4,
          4,
          4,
          4,
          4,
          4,
          4,
          4,
          4,
          4,
          4,
          4,
          4,
          5,
          5,
          5,
          5,
          5,
          5,
          5,
          5,
          5,
          5,
          5,
          5,
          5,
          5,
          5,
          5,
          5,
          5,
          5,
          5,
          5,
          5,
          5,
          5,
          5,
          5,
          5,
          6,
          6,
          6,
          6,
          6,
          6,
          6,
          6,
          6,
          6,
          6,
          6,
          6,
          6,
          6,
          7,
          7,
          7,
          7,
          7,
          7,
          7,
          7,
          7,
          7,
          7,
          8,
          8,
          8,
          8,
          8,
          8,
          8,
          8,
          8,
          8,
          8,
          8,
          8,
          8,
          8,
          8,
          8,
          8,
          8,
          9,
          9,
          9,
          9,
          9,
          9,
          9,
          9,
          9,
          9,
          9,
          9,
          9,
          9,
          9,
          9,
          9,
          9,
          9,
          9,
          9,
          9,
          9,
          9,
          9,
          10,
          10,
          10,
          10,
          10,
          10,
          10,
          10,
          10,
          10,
          10,
          10,
          10,
          10,
          10,
          10,
          10,
          10,
          10,
          10,
          10,
          10,
          10,
          10,
          10,
          10,
          10,
          10,
          10,
          10,
          11,
          11,
          11,
          11,
          11,
          11,
          11,
          11,
          11,
          11,
          11,
          11,
          11,
          11,
          11,
          11,
          11,
          11,
          11,
          11,
          11,
          11,
          11,
          11,
          11,
          11,
          11,
          11,
          11,
          11,
          11,
          11,
          11,
          11,
          11,
          11,
          11,
          11,
          11,
          11,
          12,
          12,
          12,
          12,
          12,
          12,
          12,
          12,
          12,
          12,
          12,
          12,
          12,
          12,
          12,
          12,
          12,
          12,
          12,
          12,
          12,
          12,
          12,
          12,
          12,
          12,
          12,
          12,
          12,
          12,
          12,
          12,
          12,
          12,
          12,
          12,
          12,
          12,
          12,
          12,
          12,
          12,
          12,
          12,
          12,
          12,
          13,
          13,
          13,
          13,
          13,
          13,
          13,
          13,
          13,
          13,
          13,
          13,
          13,
          13,
          13,
          13,
          13,
          13,
          13,
          13,
          13,
          13,
          13,
          13,
          13,
          13,
          13,
          13,
          13,
          13,
          13,
          13,
          13,
          13,
          13,
          13,
          13,
          13,
          13,
          13,
          13,
          13,
          13,
          13,
          13,
          14,
          14,
          14,
          14,
          14,
          14,
          14,
          14,
          14,
          14,
          14,
          14,
          14,
          14,
          14,
          14,
          14,
          14,
          14,
          14,
          14,
          14,
          14,
          14,
          14,
          14,
          14,
          14,
          14,
          14,
          14,
          14,
          14,
          14,
          14,
          14,
          14,
          14,
          14,
          14,
          14,
          14,
          14,
          14,
          14,
          14,
          14,
          14,
          14,
          15,
          15,
          15,
          15,
          15,
          15,
          15,
          15,
          15,
          15,
          15,
          15,
          15,
          15,
          15,
          15,
          15,
          15,
          15,
          15,
          15,
          15,
          15,
          15,
          15,
          15,
          15,
          15,
          15,
          15,
          15,
          15,
          15,
          15,
          15,
          15,
          15,
          15,
          15,
          15,
          15,
          15,
          15,
          15,
          15,
          15,
          15,
          15,
          15,
          15,
          15,
          15,
          15,
          15,
          16,
          16,
          16,
          16,
          16,
          16,
          16,
          16,
          16,
          16,
          16,
          16,
          16,
          16,
          16,
          16,
          16,
          16,
          16,
          16,
          16,
          16,
          16,
          16,
          16,
          16,
          16,
          16,
          16,
          16,
          16,
          16,
          16,
          16,
          16,
          16,
          17,
          17,
          17,
          17,
          17,
          17,
          17,
          17,
          17,
          17,
          17,
          17,
          17,
          17,
          17,
          17,
          17,
          17,
          17,
          17,
          17,
          18,
          18,
          18,
          18,
          18,
          19,
          19,
          20,
          20,
          21,
          21,
          21,
          22,
          22,
          22,
          22,
          22,
          22,
          22,
          22,
          23,
          23,
          23,
          24,
          25,
          26,
          28,
          null,
          null,
          null,
          null
         ],
         "xaxis": "x",
         "y": [
          192857,
          187688.16666666666,
          187688.16666666666,
          187688.16666666666,
          187688.16666666666,
          187688.16666666666,
          187688.16666666666,
          195238.33333333334,
          195238.33333333334,
          195238.33333333334,
          138532.45454545456,
          138532.45454545456,
          138532.45454545456,
          138532.45454545456,
          138532.45454545456,
          138532.45454545456,
          138532.45454545456,
          138532.45454545456,
          138532.45454545456,
          138532.45454545456,
          138532.45454545456,
          151943.8,
          151943.8,
          151943.8,
          151943.8,
          151943.8,
          151943.8,
          151943.8,
          151943.8,
          151943.8,
          151943.8,
          151943.8,
          151943.8,
          151943.8,
          151943.8,
          151943.8,
          151943.8,
          151943.8,
          151943.8,
          151943.8,
          151943.8,
          151943.8,
          151943.8,
          151943.8,
          151943.8,
          151943.8,
          151943.8,
          151943.8,
          151943.8,
          151943.8,
          151943.8,
          169553.40740740742,
          169553.40740740742,
          169553.40740740742,
          169553.40740740742,
          169553.40740740742,
          169553.40740740742,
          169553.40740740742,
          169553.40740740742,
          169553.40740740742,
          169553.40740740742,
          169553.40740740742,
          169553.40740740742,
          169553.40740740742,
          169553.40740740742,
          169553.40740740742,
          169553.40740740742,
          169553.40740740742,
          169553.40740740742,
          169553.40740740742,
          169553.40740740742,
          169553.40740740742,
          169553.40740740742,
          169553.40740740742,
          169553.40740740742,
          169553.40740740742,
          169553.40740740742,
          169553.40740740742,
          186551.53333333333,
          186551.53333333333,
          186551.53333333333,
          186551.53333333333,
          186551.53333333333,
          186551.53333333333,
          186551.53333333333,
          186551.53333333333,
          186551.53333333333,
          186551.53333333333,
          186551.53333333333,
          186551.53333333333,
          186551.53333333333,
          186551.53333333333,
          186551.53333333333,
          132915.72727272726,
          132915.72727272726,
          132915.72727272726,
          132915.72727272726,
          132915.72727272726,
          132915.72727272726,
          132915.72727272726,
          132915.72727272726,
          132915.72727272726,
          132915.72727272726,
          132915.72727272726,
          166804.36842105264,
          166804.36842105264,
          166804.36842105264,
          166804.36842105264,
          166804.36842105264,
          166804.36842105264,
          166804.36842105264,
          166804.36842105264,
          166804.36842105264,
          166804.36842105264,
          166804.36842105264,
          166804.36842105264,
          166804.36842105264,
          166804.36842105264,
          166804.36842105264,
          166804.36842105264,
          166804.36842105264,
          166804.36842105264,
          166804.36842105264,
          85872.48,
          85872.48,
          85872.48,
          85872.48,
          85872.48,
          85872.48,
          85872.48,
          85872.48,
          85872.48,
          85872.48,
          85872.48,
          85872.48,
          85872.48,
          85872.48,
          85872.48,
          85872.48,
          85872.48,
          85872.48,
          85872.48,
          85872.48,
          85872.48,
          85872.48,
          85872.48,
          85872.48,
          85872.48,
          90872.7,
          90872.7,
          90872.7,
          90872.7,
          90872.7,
          90872.7,
          90872.7,
          90872.7,
          90872.7,
          90872.7,
          90872.7,
          90872.7,
          90872.7,
          90872.7,
          90872.7,
          90872.7,
          90872.7,
          90872.7,
          90872.7,
          90872.7,
          90872.7,
          90872.7,
          90872.7,
          90872.7,
          90872.7,
          90872.7,
          90872.7,
          90872.7,
          90872.7,
          90872.7,
          85033.075,
          85033.075,
          85033.075,
          85033.075,
          85033.075,
          85033.075,
          85033.075,
          85033.075,
          85033.075,
          85033.075,
          85033.075,
          85033.075,
          85033.075,
          85033.075,
          85033.075,
          85033.075,
          85033.075,
          85033.075,
          85033.075,
          85033.075,
          85033.075,
          85033.075,
          85033.075,
          85033.075,
          85033.075,
          85033.075,
          85033.075,
          85033.075,
          85033.075,
          85033.075,
          85033.075,
          85033.075,
          85033.075,
          85033.075,
          85033.075,
          85033.075,
          85033.075,
          85033.075,
          85033.075,
          85033.075,
          84225.45652173914,
          84225.45652173914,
          84225.45652173914,
          84225.45652173914,
          84225.45652173914,
          84225.45652173914,
          84225.45652173914,
          84225.45652173914,
          84225.45652173914,
          84225.45652173914,
          84225.45652173914,
          84225.45652173914,
          84225.45652173914,
          84225.45652173914,
          84225.45652173914,
          84225.45652173914,
          84225.45652173914,
          84225.45652173914,
          84225.45652173914,
          84225.45652173914,
          84225.45652173914,
          84225.45652173914,
          84225.45652173914,
          84225.45652173914,
          84225.45652173914,
          84225.45652173914,
          84225.45652173914,
          84225.45652173914,
          84225.45652173914,
          84225.45652173914,
          84225.45652173914,
          84225.45652173914,
          84225.45652173914,
          84225.45652173914,
          84225.45652173914,
          84225.45652173914,
          84225.45652173914,
          84225.45652173914,
          84225.45652173914,
          84225.45652173914,
          84225.45652173914,
          84225.45652173914,
          84225.45652173914,
          84225.45652173914,
          84225.45652173914,
          84225.45652173914,
          83066.73333333334,
          83066.73333333334,
          83066.73333333334,
          83066.73333333334,
          83066.73333333334,
          83066.73333333334,
          83066.73333333334,
          83066.73333333334,
          83066.73333333334,
          83066.73333333334,
          83066.73333333334,
          83066.73333333334,
          83066.73333333334,
          83066.73333333334,
          83066.73333333334,
          83066.73333333334,
          83066.73333333334,
          83066.73333333334,
          83066.73333333334,
          83066.73333333334,
          83066.73333333334,
          83066.73333333334,
          83066.73333333334,
          83066.73333333334,
          83066.73333333334,
          83066.73333333334,
          83066.73333333334,
          83066.73333333334,
          83066.73333333334,
          83066.73333333334,
          83066.73333333334,
          83066.73333333334,
          83066.73333333334,
          83066.73333333334,
          83066.73333333334,
          83066.73333333334,
          83066.73333333334,
          83066.73333333334,
          83066.73333333334,
          83066.73333333334,
          83066.73333333334,
          83066.73333333334,
          83066.73333333334,
          83066.73333333334,
          83066.73333333334,
          84068.5306122449,
          84068.5306122449,
          84068.5306122449,
          84068.5306122449,
          84068.5306122449,
          84068.5306122449,
          84068.5306122449,
          84068.5306122449,
          84068.5306122449,
          84068.5306122449,
          84068.5306122449,
          84068.5306122449,
          84068.5306122449,
          84068.5306122449,
          84068.5306122449,
          84068.5306122449,
          84068.5306122449,
          84068.5306122449,
          84068.5306122449,
          84068.5306122449,
          84068.5306122449,
          84068.5306122449,
          84068.5306122449,
          84068.5306122449,
          84068.5306122449,
          84068.5306122449,
          84068.5306122449,
          84068.5306122449,
          84068.5306122449,
          84068.5306122449,
          84068.5306122449,
          84068.5306122449,
          84068.5306122449,
          84068.5306122449,
          84068.5306122449,
          84068.5306122449,
          84068.5306122449,
          84068.5306122449,
          84068.5306122449,
          84068.5306122449,
          84068.5306122449,
          84068.5306122449,
          84068.5306122449,
          84068.5306122449,
          84068.5306122449,
          84068.5306122449,
          84068.5306122449,
          84068.5306122449,
          84068.5306122449,
          93271.74074074074,
          93271.74074074074,
          93271.74074074074,
          93271.74074074074,
          93271.74074074074,
          93271.74074074074,
          93271.74074074074,
          93271.74074074074,
          93271.74074074074,
          93271.74074074074,
          93271.74074074074,
          93271.74074074074,
          93271.74074074074,
          93271.74074074074,
          93271.74074074074,
          93271.74074074074,
          93271.74074074074,
          93271.74074074074,
          93271.74074074074,
          93271.74074074074,
          93271.74074074074,
          93271.74074074074,
          93271.74074074074,
          93271.74074074074,
          93271.74074074074,
          93271.74074074074,
          93271.74074074074,
          93271.74074074074,
          93271.74074074074,
          93271.74074074074,
          93271.74074074074,
          93271.74074074074,
          93271.74074074074,
          93271.74074074074,
          93271.74074074074,
          93271.74074074074,
          93271.74074074074,
          93271.74074074074,
          93271.74074074074,
          93271.74074074074,
          93271.74074074074,
          93271.74074074074,
          93271.74074074074,
          93271.74074074074,
          93271.74074074074,
          93271.74074074074,
          93271.74074074074,
          93271.74074074074,
          93271.74074074074,
          93271.74074074074,
          93271.74074074074,
          93271.74074074074,
          93271.74074074074,
          93271.74074074074,
          80555.52777777778,
          80555.52777777778,
          80555.52777777778,
          80555.52777777778,
          80555.52777777778,
          80555.52777777778,
          80555.52777777778,
          80555.52777777778,
          80555.52777777778,
          80555.52777777778,
          80555.52777777778,
          80555.52777777778,
          80555.52777777778,
          80555.52777777778,
          80555.52777777778,
          80555.52777777778,
          80555.52777777778,
          80555.52777777778,
          80555.52777777778,
          80555.52777777778,
          80555.52777777778,
          80555.52777777778,
          80555.52777777778,
          80555.52777777778,
          80555.52777777778,
          80555.52777777778,
          80555.52777777778,
          80555.52777777778,
          80555.52777777778,
          80555.52777777778,
          80555.52777777778,
          80555.52777777778,
          80555.52777777778,
          80555.52777777778,
          80555.52777777778,
          80555.52777777778,
          76990.57142857143,
          76990.57142857143,
          76990.57142857143,
          76990.57142857143,
          76990.57142857143,
          76990.57142857143,
          76990.57142857143,
          76990.57142857143,
          76990.57142857143,
          76990.57142857143,
          76990.57142857143,
          76990.57142857143,
          76990.57142857143,
          76990.57142857143,
          76990.57142857143,
          76990.57142857143,
          76990.57142857143,
          76990.57142857143,
          76990.57142857143,
          76990.57142857143,
          76990.57142857143,
          61399.8,
          61399.8,
          61399.8,
          61399.8,
          61399.8,
          57564,
          57564,
          113770,
          113770,
          61428.333333333336,
          61428.333333333336,
          61428.333333333336,
          73493.625,
          73493.625,
          73493.625,
          73493.625,
          73493.625,
          73493.625,
          73493.625,
          73493.625,
          113571.33333333333,
          113571.33333333333,
          113571.33333333333,
          85286,
          55714,
          50000,
          52371,
          null,
          null,
          null,
          null
         ],
         "yaxis": "y"
        }
       ],
       "layout": {
        "legend": {
         "tracegroupgap": 0
        },
        "shapes": [
         {
          "line": {
           "color": "red",
           "dash": "dash"
          },
          "type": "line",
          "x0": 9,
          "x1": 9,
          "xref": "x",
          "y0": 0,
          "y1": 1,
          "yref": "y domain"
         }
        ],
        "template": {
         "data": {
          "bar": [
           {
            "error_x": {
             "color": "#2a3f5f"
            },
            "error_y": {
             "color": "#2a3f5f"
            },
            "marker": {
             "line": {
              "color": "#E5ECF6",
              "width": 0.5
             },
             "pattern": {
              "fillmode": "overlay",
              "size": 10,
              "solidity": 0.2
             }
            },
            "type": "bar"
           }
          ],
          "barpolar": [
           {
            "marker": {
             "line": {
              "color": "#E5ECF6",
              "width": 0.5
             },
             "pattern": {
              "fillmode": "overlay",
              "size": 10,
              "solidity": 0.2
             }
            },
            "type": "barpolar"
           }
          ],
          "carpet": [
           {
            "aaxis": {
             "endlinecolor": "#2a3f5f",
             "gridcolor": "white",
             "linecolor": "white",
             "minorgridcolor": "white",
             "startlinecolor": "#2a3f5f"
            },
            "baxis": {
             "endlinecolor": "#2a3f5f",
             "gridcolor": "white",
             "linecolor": "white",
             "minorgridcolor": "white",
             "startlinecolor": "#2a3f5f"
            },
            "type": "carpet"
           }
          ],
          "choropleth": [
           {
            "colorbar": {
             "outlinewidth": 0,
             "ticks": ""
            },
            "type": "choropleth"
           }
          ],
          "contour": [
           {
            "colorbar": {
             "outlinewidth": 0,
             "ticks": ""
            },
            "colorscale": [
             [
              0,
              "#0d0887"
             ],
             [
              0.1111111111111111,
              "#46039f"
             ],
             [
              0.2222222222222222,
              "#7201a8"
             ],
             [
              0.3333333333333333,
              "#9c179e"
             ],
             [
              0.4444444444444444,
              "#bd3786"
             ],
             [
              0.5555555555555556,
              "#d8576b"
             ],
             [
              0.6666666666666666,
              "#ed7953"
             ],
             [
              0.7777777777777778,
              "#fb9f3a"
             ],
             [
              0.8888888888888888,
              "#fdca26"
             ],
             [
              1,
              "#f0f921"
             ]
            ],
            "type": "contour"
           }
          ],
          "contourcarpet": [
           {
            "colorbar": {
             "outlinewidth": 0,
             "ticks": ""
            },
            "type": "contourcarpet"
           }
          ],
          "heatmap": [
           {
            "colorbar": {
             "outlinewidth": 0,
             "ticks": ""
            },
            "colorscale": [
             [
              0,
              "#0d0887"
             ],
             [
              0.1111111111111111,
              "#46039f"
             ],
             [
              0.2222222222222222,
              "#7201a8"
             ],
             [
              0.3333333333333333,
              "#9c179e"
             ],
             [
              0.4444444444444444,
              "#bd3786"
             ],
             [
              0.5555555555555556,
              "#d8576b"
             ],
             [
              0.6666666666666666,
              "#ed7953"
             ],
             [
              0.7777777777777778,
              "#fb9f3a"
             ],
             [
              0.8888888888888888,
              "#fdca26"
             ],
             [
              1,
              "#f0f921"
             ]
            ],
            "type": "heatmap"
           }
          ],
          "heatmapgl": [
           {
            "colorbar": {
             "outlinewidth": 0,
             "ticks": ""
            },
            "colorscale": [
             [
              0,
              "#0d0887"
             ],
             [
              0.1111111111111111,
              "#46039f"
             ],
             [
              0.2222222222222222,
              "#7201a8"
             ],
             [
              0.3333333333333333,
              "#9c179e"
             ],
             [
              0.4444444444444444,
              "#bd3786"
             ],
             [
              0.5555555555555556,
              "#d8576b"
             ],
             [
              0.6666666666666666,
              "#ed7953"
             ],
             [
              0.7777777777777778,
              "#fb9f3a"
             ],
             [
              0.8888888888888888,
              "#fdca26"
             ],
             [
              1,
              "#f0f921"
             ]
            ],
            "type": "heatmapgl"
           }
          ],
          "histogram": [
           {
            "marker": {
             "pattern": {
              "fillmode": "overlay",
              "size": 10,
              "solidity": 0.2
             }
            },
            "type": "histogram"
           }
          ],
          "histogram2d": [
           {
            "colorbar": {
             "outlinewidth": 0,
             "ticks": ""
            },
            "colorscale": [
             [
              0,
              "#0d0887"
             ],
             [
              0.1111111111111111,
              "#46039f"
             ],
             [
              0.2222222222222222,
              "#7201a8"
             ],
             [
              0.3333333333333333,
              "#9c179e"
             ],
             [
              0.4444444444444444,
              "#bd3786"
             ],
             [
              0.5555555555555556,
              "#d8576b"
             ],
             [
              0.6666666666666666,
              "#ed7953"
             ],
             [
              0.7777777777777778,
              "#fb9f3a"
             ],
             [
              0.8888888888888888,
              "#fdca26"
             ],
             [
              1,
              "#f0f921"
             ]
            ],
            "type": "histogram2d"
           }
          ],
          "histogram2dcontour": [
           {
            "colorbar": {
             "outlinewidth": 0,
             "ticks": ""
            },
            "colorscale": [
             [
              0,
              "#0d0887"
             ],
             [
              0.1111111111111111,
              "#46039f"
             ],
             [
              0.2222222222222222,
              "#7201a8"
             ],
             [
              0.3333333333333333,
              "#9c179e"
             ],
             [
              0.4444444444444444,
              "#bd3786"
             ],
             [
              0.5555555555555556,
              "#d8576b"
             ],
             [
              0.6666666666666666,
              "#ed7953"
             ],
             [
              0.7777777777777778,
              "#fb9f3a"
             ],
             [
              0.8888888888888888,
              "#fdca26"
             ],
             [
              1,
              "#f0f921"
             ]
            ],
            "type": "histogram2dcontour"
           }
          ],
          "mesh3d": [
           {
            "colorbar": {
             "outlinewidth": 0,
             "ticks": ""
            },
            "type": "mesh3d"
           }
          ],
          "parcoords": [
           {
            "line": {
             "colorbar": {
              "outlinewidth": 0,
              "ticks": ""
             }
            },
            "type": "parcoords"
           }
          ],
          "pie": [
           {
            "automargin": true,
            "type": "pie"
           }
          ],
          "scatter": [
           {
            "fillpattern": {
             "fillmode": "overlay",
             "size": 10,
             "solidity": 0.2
            },
            "type": "scatter"
           }
          ],
          "scatter3d": [
           {
            "line": {
             "colorbar": {
              "outlinewidth": 0,
              "ticks": ""
             }
            },
            "marker": {
             "colorbar": {
              "outlinewidth": 0,
              "ticks": ""
             }
            },
            "type": "scatter3d"
           }
          ],
          "scattercarpet": [
           {
            "marker": {
             "colorbar": {
              "outlinewidth": 0,
              "ticks": ""
             }
            },
            "type": "scattercarpet"
           }
          ],
          "scattergeo": [
           {
            "marker": {
             "colorbar": {
              "outlinewidth": 0,
              "ticks": ""
             }
            },
            "type": "scattergeo"
           }
          ],
          "scattergl": [
           {
            "marker": {
             "colorbar": {
              "outlinewidth": 0,
              "ticks": ""
             }
            },
            "type": "scattergl"
           }
          ],
          "scattermapbox": [
           {
            "marker": {
             "colorbar": {
              "outlinewidth": 0,
              "ticks": ""
             }
            },
            "type": "scattermapbox"
           }
          ],
          "scatterpolar": [
           {
            "marker": {
             "colorbar": {
              "outlinewidth": 0,
              "ticks": ""
             }
            },
            "type": "scatterpolar"
           }
          ],
          "scatterpolargl": [
           {
            "marker": {
             "colorbar": {
              "outlinewidth": 0,
              "ticks": ""
             }
            },
            "type": "scatterpolargl"
           }
          ],
          "scatterternary": [
           {
            "marker": {
             "colorbar": {
              "outlinewidth": 0,
              "ticks": ""
             }
            },
            "type": "scatterternary"
           }
          ],
          "surface": [
           {
            "colorbar": {
             "outlinewidth": 0,
             "ticks": ""
            },
            "colorscale": [
             [
              0,
              "#0d0887"
             ],
             [
              0.1111111111111111,
              "#46039f"
             ],
             [
              0.2222222222222222,
              "#7201a8"
             ],
             [
              0.3333333333333333,
              "#9c179e"
             ],
             [
              0.4444444444444444,
              "#bd3786"
             ],
             [
              0.5555555555555556,
              "#d8576b"
             ],
             [
              0.6666666666666666,
              "#ed7953"
             ],
             [
              0.7777777777777778,
              "#fb9f3a"
             ],
             [
              0.8888888888888888,
              "#fdca26"
             ],
             [
              1,
              "#f0f921"
             ]
            ],
            "type": "surface"
           }
          ],
          "table": [
           {
            "cells": {
             "fill": {
              "color": "#EBF0F8"
             },
             "line": {
              "color": "white"
             }
            },
            "header": {
             "fill": {
              "color": "#C8D4E3"
             },
             "line": {
              "color": "white"
             }
            },
            "type": "table"
           }
          ]
         },
         "layout": {
          "annotationdefaults": {
           "arrowcolor": "#2a3f5f",
           "arrowhead": 0,
           "arrowwidth": 1
          },
          "autotypenumbers": "strict",
          "coloraxis": {
           "colorbar": {
            "outlinewidth": 0,
            "ticks": ""
           }
          },
          "colorscale": {
           "diverging": [
            [
             0,
             "#8e0152"
            ],
            [
             0.1,
             "#c51b7d"
            ],
            [
             0.2,
             "#de77ae"
            ],
            [
             0.3,
             "#f1b6da"
            ],
            [
             0.4,
             "#fde0ef"
            ],
            [
             0.5,
             "#f7f7f7"
            ],
            [
             0.6,
             "#e6f5d0"
            ],
            [
             0.7,
             "#b8e186"
            ],
            [
             0.8,
             "#7fbc41"
            ],
            [
             0.9,
             "#4d9221"
            ],
            [
             1,
             "#276419"
            ]
           ],
           "sequential": [
            [
             0,
             "#0d0887"
            ],
            [
             0.1111111111111111,
             "#46039f"
            ],
            [
             0.2222222222222222,
             "#7201a8"
            ],
            [
             0.3333333333333333,
             "#9c179e"
            ],
            [
             0.4444444444444444,
             "#bd3786"
            ],
            [
             0.5555555555555556,
             "#d8576b"
            ],
            [
             0.6666666666666666,
             "#ed7953"
            ],
            [
             0.7777777777777778,
             "#fb9f3a"
            ],
            [
             0.8888888888888888,
             "#fdca26"
            ],
            [
             1,
             "#f0f921"
            ]
           ],
           "sequentialminus": [
            [
             0,
             "#0d0887"
            ],
            [
             0.1111111111111111,
             "#46039f"
            ],
            [
             0.2222222222222222,
             "#7201a8"
            ],
            [
             0.3333333333333333,
             "#9c179e"
            ],
            [
             0.4444444444444444,
             "#bd3786"
            ],
            [
             0.5555555555555556,
             "#d8576b"
            ],
            [
             0.6666666666666666,
             "#ed7953"
            ],
            [
             0.7777777777777778,
             "#fb9f3a"
            ],
            [
             0.8888888888888888,
             "#fdca26"
            ],
            [
             1,
             "#f0f921"
            ]
           ]
          },
          "colorway": [
           "#636efa",
           "#EF553B",
           "#00cc96",
           "#ab63fa",
           "#FFA15A",
           "#19d3f3",
           "#FF6692",
           "#B6E880",
           "#FF97FF",
           "#FECB52"
          ],
          "font": {
           "color": "#2a3f5f"
          },
          "geo": {
           "bgcolor": "white",
           "lakecolor": "white",
           "landcolor": "#E5ECF6",
           "showlakes": true,
           "showland": true,
           "subunitcolor": "white"
          },
          "hoverlabel": {
           "align": "left"
          },
          "hovermode": "closest",
          "mapbox": {
           "style": "light"
          },
          "paper_bgcolor": "white",
          "plot_bgcolor": "#E5ECF6",
          "polar": {
           "angularaxis": {
            "gridcolor": "white",
            "linecolor": "white",
            "ticks": ""
           },
           "bgcolor": "#E5ECF6",
           "radialaxis": {
            "gridcolor": "white",
            "linecolor": "white",
            "ticks": ""
           }
          },
          "scene": {
           "xaxis": {
            "backgroundcolor": "#E5ECF6",
            "gridcolor": "white",
            "gridwidth": 2,
            "linecolor": "white",
            "showbackground": true,
            "ticks": "",
            "zerolinecolor": "white"
           },
           "yaxis": {
            "backgroundcolor": "#E5ECF6",
            "gridcolor": "white",
            "gridwidth": 2,
            "linecolor": "white",
            "showbackground": true,
            "ticks": "",
            "zerolinecolor": "white"
           },
           "zaxis": {
            "backgroundcolor": "#E5ECF6",
            "gridcolor": "white",
            "gridwidth": 2,
            "linecolor": "white",
            "showbackground": true,
            "ticks": "",
            "zerolinecolor": "white"
           }
          },
          "shapedefaults": {
           "line": {
            "color": "#2a3f5f"
           }
          },
          "ternary": {
           "aaxis": {
            "gridcolor": "white",
            "linecolor": "white",
            "ticks": ""
           },
           "baxis": {
            "gridcolor": "white",
            "linecolor": "white",
            "ticks": ""
           },
           "bgcolor": "#E5ECF6",
           "caxis": {
            "gridcolor": "white",
            "linecolor": "white",
            "ticks": ""
           }
          },
          "title": {
           "x": 0.05
          },
          "xaxis": {
           "automargin": true,
           "gridcolor": "white",
           "linecolor": "white",
           "ticks": "",
           "title": {
            "standoff": 15
           },
           "zerolinecolor": "white",
           "zerolinewidth": 2
          },
          "yaxis": {
           "automargin": true,
           "gridcolor": "white",
           "linecolor": "white",
           "ticks": "",
           "title": {
            "standoff": 15
           },
           "zerolinecolor": "white",
           "zerolinewidth": 2
          }
         }
        },
        "title": {
         "text": "Price by distance to the center"
        },
        "xaxis": {
         "anchor": "y",
         "domain": [
          0,
          1
         ],
         "title": {
          "text": "Distance to the center (km)"
         }
        },
        "yaxis": {
         "anchor": "x",
         "domain": [
          0,
          1
         ],
         "title": {
          "text": "Average price"
         }
        }
       }
      }
     },
     "metadata": {},
     "output_type": "display_data"
    }
   ],
   "source": [
    "#  Build a line graph with px: it should show how the price depends on the distance from the \n",
    "# center. Define the border where the graph changes a lot - this will be the central area.\n",
    "df_sorted = df.sort_values(by=['disante_to_center_km', 'avg_price_by_km'], ascending=[True, True])\n",
    "\n",
    "x = df_sorted['disante_to_center_km']\n",
    "y = df_sorted['avg_price_by_km']\n",
    "\n",
    "fig = px.line(x=x, y=y, title='Price by distance to the center')\n",
    "\n",
    "# after plotting the graph, we can see that the price changes a lot at 9 km\n",
    "# lets add a vertical line to show this\n",
    "fig.add_vline(x=9, line_dash=\"dash\", line_color=\"red\")\n",
    "\n",
    "#updtae x and y labels\n",
    "fig.update_xaxes(title_text='Distance to the center (km)')\n",
    "fig.update_yaxes(title_text='Average price')\n",
    "fig.show()\n"
   ]
  },
  {
   "cell_type": "markdown",
   "metadata": {},
   "source": [
    " 5- Select a segment of apartments in the center. Analyze this territory with following \n",
    "parameters: total area, price, number of rooms, and ceiling height. Do they differ from the \n",
    "general conclusions in the entire database?\n"
   ]
  },
  {
   "cell_type": "code",
   "execution_count": 53,
   "metadata": {},
   "outputs": [
    {
     "data": {
      "text/html": [
       "<div>\n",
       "<style scoped>\n",
       "    .dataframe tbody tr th:only-of-type {\n",
       "        vertical-align: middle;\n",
       "    }\n",
       "\n",
       "    .dataframe tbody tr th {\n",
       "        vertical-align: top;\n",
       "    }\n",
       "\n",
       "    .dataframe thead th {\n",
       "        text-align: right;\n",
       "    }\n",
       "</style>\n",
       "<table border=\"1\" class=\"dataframe\">\n",
       "  <thead>\n",
       "    <tr style=\"text-align: right;\">\n",
       "      <th></th>\n",
       "      <th>count</th>\n",
       "      <th>mean</th>\n",
       "      <th>std</th>\n",
       "      <th>min</th>\n",
       "      <th>25%</th>\n",
       "      <th>50%</th>\n",
       "      <th>75%</th>\n",
       "      <th>max</th>\n",
       "    </tr>\n",
       "  </thead>\n",
       "  <tbody>\n",
       "    <tr>\n",
       "      <th>total_area</th>\n",
       "      <td>148.0</td>\n",
       "      <td>86.709459</td>\n",
       "      <td>57.438057</td>\n",
       "      <td>19.0</td>\n",
       "      <td>50.0</td>\n",
       "      <td>70.3</td>\n",
       "      <td>104.425</td>\n",
       "      <td>374.6</td>\n",
       "    </tr>\n",
       "    <tr>\n",
       "      <th>last_price</th>\n",
       "      <td>148.0</td>\n",
       "      <td>149603.074324</td>\n",
       "      <td>109981.076362</td>\n",
       "      <td>32143.0</td>\n",
       "      <td>82857.0</td>\n",
       "      <td>117857.0</td>\n",
       "      <td>171429.000</td>\n",
       "      <td>785714.0</td>\n",
       "    </tr>\n",
       "    <tr>\n",
       "      <th>rooms</th>\n",
       "      <td>148.0</td>\n",
       "      <td>2.817568</td>\n",
       "      <td>2.122241</td>\n",
       "      <td>0.0</td>\n",
       "      <td>2.0</td>\n",
       "      <td>2.0</td>\n",
       "      <td>3.000</td>\n",
       "      <td>19.0</td>\n",
       "    </tr>\n",
       "    <tr>\n",
       "      <th>ceiling_height</th>\n",
       "      <td>111.0</td>\n",
       "      <td>2.998198</td>\n",
       "      <td>0.323330</td>\n",
       "      <td>2.5</td>\n",
       "      <td>2.8</td>\n",
       "      <td>3.0</td>\n",
       "      <td>3.200</td>\n",
       "      <td>4.0</td>\n",
       "    </tr>\n",
       "  </tbody>\n",
       "</table>\n",
       "</div>"
      ],
      "text/plain": [
       "                count           mean            std      min      25%  \\\n",
       "total_area      148.0      86.709459      57.438057     19.0     50.0   \n",
       "last_price      148.0  149603.074324  109981.076362  32143.0  82857.0   \n",
       "rooms           148.0       2.817568       2.122241      0.0      2.0   \n",
       "ceiling_height  111.0       2.998198       0.323330      2.5      2.8   \n",
       "\n",
       "                     50%         75%       max  \n",
       "total_area          70.3     104.425     374.6  \n",
       "last_price      117857.0  171429.000  785714.0  \n",
       "rooms                2.0       3.000      19.0  \n",
       "ceiling_height       3.0       3.200       4.0  "
      ]
     },
     "metadata": {},
     "output_type": "display_data"
    }
   ],
   "source": [
    "#  select the segment of apartments in the central area and analyze it.\n",
    "# in this case, we will consider the central area as the first 9 km from the center.\n",
    "# lets create a new column for the appartments in the central (<= 9 km) \n",
    "keys_col = ['total_area', 'last_price', 'rooms', 'ceiling_height']\n",
    "\n",
    "#if the distance is less than 9 km, then it is in the center(1), otherwise it is not(0)\n",
    "df['center_apartments'] = (df['disante_to_center_km'] <= 9)\n",
    "df['center_apartments'] = df['center_apartments'].astype(int)\n",
    "\n",
    "\n",
    "# get the data for the center apartments\n",
    "df_center = df[df['center_apartments'] == 1]\n",
    "\n",
    "#summarize the data\n",
    "display(df_center[keys_col].describe().T)"
   ]
  },
  {
   "cell_type": "markdown",
   "metadata": {},
   "source": [
    "- Area: The average total area (86.7 m²) suggests that the apartments aren't excessively large, possibly indicative of urban dwellings.\n",
    "\n",
    "- Price: The average last price of apartments is quite high (149,603), which supports the idea that apartments in prime locations (e.g., the city center) tend to be more expensive.\n",
    "  \n",
    "- Rooms: The average number of rooms (2.82) suggests many apartments are relatively small, which is typical for city center apartments where space is limited.\n",
    "  \n",
    "- Ceiling Height: The ceiling height average of 3.0 m further suggests these might be more modern or recently renovated apartments, which can often be found in central areas."
   ]
  },
  {
   "cell_type": "markdown",
   "metadata": {},
   "source": [
    "Step 2. Bivariate analysis\n",
    "\n",
    "   1- With an appropriate statistical test, compare the mean prices of apartments in the city \n",
    "center and outside of it. Are they statistically different? (Tip: first, create a separate \n",
    "variable -  a binary indicator of whether the apartment is in the city center.)\n",
    "   2- With an appropriate statistical test, explore whether the mean prices for apartments \n",
    "differ depending on the number of balconies, parks, and ponds within 3 km. Make a \n",
    "conclusion – does having the possibility to enjoy the outside (the nature) matter?\n",
    "   3- Select 5 variables that, at this point, seem to be the most important in determining the \n",
    "prices of apartments. Study their correlation with the prices. Visualize it. \n",
    "   4- Fit a linear regression model with the same 5 variables as predictors, and price as the \n",
    "dependent variable. Comment on the overall significance and quality of the model. \n",
    "Interpret the coefficients. Make conclusions - are these variables important determinants \n",
    "of prices for apartments?\n"
   ]
  },
  {
   "cell_type": "code",
   "execution_count": 74,
   "metadata": {},
   "outputs": [
    {
     "data": {
      "text/html": [
       "<div>\n",
       "<style scoped>\n",
       "    .dataframe tbody tr th:only-of-type {\n",
       "        vertical-align: middle;\n",
       "    }\n",
       "\n",
       "    .dataframe tbody tr th {\n",
       "        vertical-align: top;\n",
       "    }\n",
       "\n",
       "    .dataframe thead th {\n",
       "        text-align: right;\n",
       "    }\n",
       "</style>\n",
       "<table border=\"1\" class=\"dataframe\">\n",
       "  <thead>\n",
       "    <tr style=\"text-align: right;\">\n",
       "      <th></th>\n",
       "      <th>Group</th>\n",
       "      <th>Mean</th>\n",
       "      <th>Standard deviation</th>\n",
       "      <th>Count</th>\n",
       "      <th>Difference of means</th>\n",
       "      <th>combined_count</th>\n",
       "      <th>t-statistic</th>\n",
       "      <th>p-value</th>\n",
       "    </tr>\n",
       "  </thead>\n",
       "  <tbody>\n",
       "    <tr>\n",
       "      <th>0</th>\n",
       "      <td>1</td>\n",
       "      <td>149603.074324</td>\n",
       "      <td>109981.076362</td>\n",
       "      <td>148</td>\n",
       "      <td>-62715.781711</td>\n",
       "      <td>500.0</td>\n",
       "      <td>8.341388</td>\n",
       "      <td>7.252244e-16</td>\n",
       "    </tr>\n",
       "    <tr>\n",
       "      <th>1</th>\n",
       "      <td>0</td>\n",
       "      <td>86887.292614</td>\n",
       "      <td>57366.360226</td>\n",
       "      <td>352</td>\n",
       "      <td>-62715.781711</td>\n",
       "      <td>NaN</td>\n",
       "      <td>NaN</td>\n",
       "      <td>NaN</td>\n",
       "    </tr>\n",
       "  </tbody>\n",
       "</table>\n",
       "</div>"
      ],
      "text/plain": [
       "  Group           Mean  Standard deviation  Count  Difference of means  \\\n",
       "0     1  149603.074324       109981.076362    148        -62715.781711   \n",
       "1     0   86887.292614        57366.360226    352        -62715.781711   \n",
       "\n",
       "   combined_count  t-statistic       p-value  \n",
       "0           500.0     8.341388  7.252244e-16  \n",
       "1             NaN          NaN           NaN  "
      ]
     },
     "metadata": {},
     "output_type": "display_data"
    }
   ],
   "source": [
    "#lets do the test mean comparaison of price between the center(0) and the rest of the apartments\n",
    "# we will use the t-test for this\n",
    "\n",
    "# get the data for the center and rest of the apartments\n",
    "df_center = df[df['center_apartments'] == 1]\n",
    "df_rest = df[df['center_apartments'] == 0]\n",
    "\n",
    "# stat desc for each group\n",
    "center_mean = df_center['last_price'].mean()\n",
    "rest_mean = df_rest['last_price'].mean()\n",
    "\n",
    "center_std = df_center['last_price'].std()\n",
    "rest_std = df_rest['last_price'].std()\n",
    "\n",
    "center_count = df_center['last_price'].count()\n",
    "rest_count = df_rest['last_price'].count()\n",
    "\n",
    "# diff of means \n",
    "diff_mean = rest_mean - center_mean\n",
    "\n",
    "\n",
    "# lets do the t-test for each key variable\n",
    "t_stat, p_value = stats.ttest_ind(df_center['last_price'], df_rest['last_price'], nan_policy='omit')\n",
    "\n",
    "table = pd.DataFrame({\n",
    "    \"Group\": ['1', '0'],\n",
    "    \"Mean\": [center_mean, rest_mean],\n",
    "    \"Standard deviation\": [center_std, rest_std],\n",
    "    \"Count\": [center_count, rest_count],\n",
    "    \"Difference of means\": diff_mean,\n",
    "    \"combined_count\": [center_count + rest_count, np.nan],\n",
    "    \n",
    "    \"t-statistic\": [t_stat, np.nan],\n",
    "    \"p-value\": [p_value, np.nan]\n",
    "    \n",
    "})\n",
    "\n",
    "display(table)\n",
    "\n"
   ]
  },
  {
   "cell_type": "markdown",
   "metadata": {},
   "source": [
    "Yes They are statistically different --> diif of mean is != 0.\n",
    " - Group 0 (Outside the Center) Mean price = 86,887.29, with a standard deviation of 57,366.36.\n",
    " - Group 1 (City Center): Mean price = 149,603.1, with a standard deviation of 109,981.1.\n",
    " The apartments in the city center are, on average, significantly more expensive than those outside \n",
    "the center.\n",
    " The difference in mean prices is negative and indicates that apartments in the city center are more \n",
    "expensive than those outside.\n",
    " the p-value = 7.252244e-16, which is well below the standard significance level of 0.050, so\n",
    " we can  reject the null hypothesis Ho Mean(Outside Center)=Mean(City Center):  This means that \n",
    "the difference in mean prices is statistically significant"
   ]
  },
  {
   "cell_type": "markdown",
   "metadata": {},
   "source": [
    " ### 2- With an appropriate statistical test, explore whether the mean prices for apartments \n",
    "### differ depending on the number of balconies, parks, and ponds within 3 km. Make a \n",
    "### conclusion – does having the possibility to enjoy the outside (the nature) matter?"
   ]
  },
  {
   "cell_type": "code",
   "execution_count": 106,
   "metadata": {},
   "outputs": [
    {
     "data": {
      "text/html": [
       "<div>\n",
       "<style scoped>\n",
       "    .dataframe tbody tr th:only-of-type {\n",
       "        vertical-align: middle;\n",
       "    }\n",
       "\n",
       "    .dataframe tbody tr th {\n",
       "        vertical-align: top;\n",
       "    }\n",
       "\n",
       "    .dataframe thead th {\n",
       "        text-align: right;\n",
       "    }\n",
       "</style>\n",
       "<table border=\"1\" class=\"dataframe\">\n",
       "  <thead>\n",
       "    <tr style=\"text-align: right;\">\n",
       "      <th></th>\n",
       "      <th>Variable</th>\n",
       "      <th>F-statistic</th>\n",
       "      <th>p-value</th>\n",
       "    </tr>\n",
       "  </thead>\n",
       "  <tbody>\n",
       "    <tr>\n",
       "      <th>0</th>\n",
       "      <td>Balconies</td>\n",
       "      <td>2.199883</td>\n",
       "      <td>6.794246e-02</td>\n",
       "    </tr>\n",
       "    <tr>\n",
       "      <th>1</th>\n",
       "      <td>Parks</td>\n",
       "      <td>11.521941</td>\n",
       "      <td>2.601677e-07</td>\n",
       "    </tr>\n",
       "    <tr>\n",
       "      <th>2</th>\n",
       "      <td>Ponds</td>\n",
       "      <td>5.888097</td>\n",
       "      <td>5.924909e-04</td>\n",
       "    </tr>\n",
       "  </tbody>\n",
       "</table>\n",
       "</div>"
      ],
      "text/plain": [
       "    Variable  F-statistic       p-value\n",
       "0  Balconies     2.199883  6.794246e-02\n",
       "1      Parks    11.521941  2.601677e-07\n",
       "2      Ponds     5.888097  5.924909e-04"
      ]
     },
     "metadata": {},
     "output_type": "display_data"
    }
   ],
   "source": [
    "## With an appropriate statistical test, explore whether the mean prices for apartments \n",
    "# differ depending on the number of balconies, parks, and ponds within 3 km\n",
    "\n",
    "# THE ANOVA TEST\n",
    "# we will use the ANOVA test to compare the mean prices of the apartments depending on the number of balconies, parks, and ponds\n",
    "# within 3 km\n",
    "\n",
    "# get the data for the number of balconies, parks, and ponds within 3 km\n",
    "df_balconies = df.groupby('balcony')['last_price'].apply(list)\n",
    "df_parks = df.groupby('parks_around3000')['last_price'].apply(list)\n",
    "df_ponds = df.groupby('ponds_around3000')['last_price'].apply(list)\n",
    "\n",
    "\n",
    "# ANOVA test for the number of balconies\n",
    "f_stat_balconies, p_value_balconies = stats.f_oneway(*df_balconies)\n",
    "f_stat_parks, p_value_parks = stats.f_oneway(*df_parks)\n",
    "f_stat_ponds, p_value_ponds = stats.f_oneway(*df_ponds)\n",
    "\n",
    "table = pd.DataFrame({\n",
    "    \"Variable\": ['Balconies', 'Parks', 'Ponds'],\n",
    "    \"F-statistic\": [f_stat_balconies, f_stat_parks, f_stat_ponds],\n",
    "    \"p-value\": [p_value_balconies, p_value_parks, p_value_ponds]\n",
    "})\n",
    "\n",
    "display(table)\n",
    "\n"
   ]
  },
  {
   "cell_type": "markdown",
   "metadata": {},
   "source": [
    "- #### number of balconies conclusions:\n",
    "F-statistic: 2.20\n",
    " p-value: 0.0679 (not statistically significant at the 5% level), Ho accept\n",
    " Conclusion: The number of balconies does not have a statistically significant impact on the \n",
    "average price of apartments.\n",
    " Balconies might still contribute qualitatively, but the effect is not strong enough to show up in \n",
    "the overall variance of price.\n",
    "\n",
    "- ####  The number of parks within 3 km conclusion:\n",
    "F-statistic: 11.52\n",
    " p-value: 0.0000 (highly statistically significant)\n",
    " Conclusion: The number of parks within 3 km has a significant effect on the price of \n",
    "apartments.\n",
    " This implies that the availability of parks in the city positively or negatively influences \n",
    "prices, depending on the number of parks.\n",
    "\n",
    "- ####  number of ponds within 3 km conclusion:\n",
    " F-statistic: 5.89\n",
    " p-value: 0.0006 (statistically significant)\n",
    " Conclusion: The number of ponds within 3 km also significantly affects the average price of \n",
    "apartments.\n",
    " While the effect might not be as strong as parks, proximity to ponds contributes to the variance \n",
    "in apartment prices."
   ]
  },
  {
   "cell_type": "markdown",
   "metadata": {},
   "source": [
    " 3-  Select 5 variables that, at this point, seem to be the most important in determining the\n",
    " prices of apartments. Study their correlation with the prices. Visualize it."
   ]
  },
  {
   "cell_type": "code",
   "execution_count": 108,
   "metadata": {},
   "outputs": [
    {
     "data": {
      "text/html": [
       "<div>\n",
       "<style scoped>\n",
       "    .dataframe tbody tr th:only-of-type {\n",
       "        vertical-align: middle;\n",
       "    }\n",
       "\n",
       "    .dataframe tbody tr th {\n",
       "        vertical-align: top;\n",
       "    }\n",
       "\n",
       "    .dataframe thead th {\n",
       "        text-align: right;\n",
       "    }\n",
       "</style>\n",
       "<table border=\"1\" class=\"dataframe\">\n",
       "  <thead>\n",
       "    <tr style=\"text-align: right;\">\n",
       "      <th></th>\n",
       "      <th>total_area</th>\n",
       "      <th>rooms</th>\n",
       "      <th>kitchen_area</th>\n",
       "      <th>living_area</th>\n",
       "      <th>parks_nearest</th>\n",
       "    </tr>\n",
       "  </thead>\n",
       "  <tbody>\n",
       "    <tr>\n",
       "      <th>total_area</th>\n",
       "      <td>1.000000</td>\n",
       "      <td>0.835327</td>\n",
       "      <td>0.616371</td>\n",
       "      <td>0.940513</td>\n",
       "      <td>-0.073610</td>\n",
       "    </tr>\n",
       "    <tr>\n",
       "      <th>rooms</th>\n",
       "      <td>0.835327</td>\n",
       "      <td>1.000000</td>\n",
       "      <td>0.298088</td>\n",
       "      <td>0.900928</td>\n",
       "      <td>-0.077594</td>\n",
       "    </tr>\n",
       "    <tr>\n",
       "      <th>kitchen_area</th>\n",
       "      <td>0.616371</td>\n",
       "      <td>0.298088</td>\n",
       "      <td>1.000000</td>\n",
       "      <td>0.403405</td>\n",
       "      <td>-0.077167</td>\n",
       "    </tr>\n",
       "    <tr>\n",
       "      <th>living_area</th>\n",
       "      <td>0.940513</td>\n",
       "      <td>0.900928</td>\n",
       "      <td>0.403405</td>\n",
       "      <td>1.000000</td>\n",
       "      <td>-0.083432</td>\n",
       "    </tr>\n",
       "    <tr>\n",
       "      <th>parks_nearest</th>\n",
       "      <td>-0.073610</td>\n",
       "      <td>-0.077594</td>\n",
       "      <td>-0.077167</td>\n",
       "      <td>-0.083432</td>\n",
       "      <td>1.000000</td>\n",
       "    </tr>\n",
       "  </tbody>\n",
       "</table>\n",
       "</div>"
      ],
      "text/plain": [
       "               total_area     rooms  kitchen_area  living_area  parks_nearest\n",
       "total_area       1.000000  0.835327      0.616371     0.940513      -0.073610\n",
       "rooms            0.835327  1.000000      0.298088     0.900928      -0.077594\n",
       "kitchen_area     0.616371  0.298088      1.000000     0.403405      -0.077167\n",
       "living_area      0.940513  0.900928      0.403405     1.000000      -0.083432\n",
       "parks_nearest   -0.073610 -0.077594     -0.077167    -0.083432       1.000000"
      ]
     },
     "metadata": {},
     "output_type": "display_data"
    }
   ],
   "source": [
    "# selection of the 5 variables\n",
    "vars = ['total_area', 'rooms', 'kitchen_area', 'living_area', 'parks_nearest']\n",
    "\n",
    "# correlation matrix\n",
    "corr_matrix = df[vars].corr()\n",
    "display(corr_matrix)"
   ]
  },
  {
   "cell_type": "code",
   "execution_count": 134,
   "metadata": {},
   "outputs": [
    {
     "data": {
      "application/vnd.plotly.v1+json": {
       "config": {
        "plotlyServerURL": "https://plot.ly"
       },
       "data": [
        {
         "hovertemplate": "total_area=%{x}<br>last_price=%{y}<extra></extra>",
         "legendgroup": "",
         "marker": {
          "color": "#636efa",
          "symbol": "circle"
         },
         "mode": "markers",
         "name": "",
         "orientation": "v",
         "showlegend": false,
         "type": "scatter",
         "x": [
          111,
          98.4,
          64,
          52.2,
          42,
          98,
          43,
          45.1,
          87,
          35.2,
          66,
          104.1,
          96.9,
          131.8,
          288,
          56.6,
          75,
          59,
          57.4,
          153,
          39,
          107.9,
          69.8,
          54.4,
          126.3,
          49.5,
          50.2,
          32,
          61,
          363,
          43,
          44.7,
          49.1,
          160,
          71,
          58.1,
          52,
          39,
          41.7,
          75,
          43,
          114.1,
          80,
          151,
          33.6,
          82.1,
          47.8,
          19,
          75,
          43,
          75.2,
          29.6,
          77,
          37.8,
          47,
          43,
          36,
          53.7,
          35.2,
          41,
          61.7,
          31,
          68,
          80,
          42.3,
          37.2,
          80,
          60.3,
          29,
          53,
          51,
          56,
          31,
          60,
          52,
          37,
          181.5,
          40,
          48.1,
          51.3,
          50,
          57,
          56.8,
          38.2,
          43.6,
          38,
          55,
          38,
          43,
          37,
          94,
          65.6,
          62,
          58.4,
          52.1,
          81.2,
          70,
          31,
          44.2,
          42,
          56,
          44,
          57.6,
          70,
          60,
          31,
          83.7,
          62,
          168,
          46,
          33,
          30.8,
          40.8,
          46,
          105.4,
          54,
          106,
          121,
          62.5,
          32.4,
          111,
          45,
          53,
          47,
          41.3,
          160,
          39.7,
          43.4,
          45,
          42,
          47.2,
          55,
          38.4,
          34.2,
          60.2,
          81,
          39,
          70.8,
          106,
          39,
          56,
          38.2,
          31.2,
          55.5,
          55,
          43,
          38,
          50,
          45,
          78.9,
          38,
          100,
          34.8,
          85.8,
          39,
          37.2,
          32,
          108.7,
          55.7,
          39,
          45,
          56,
          70,
          65.6,
          44,
          41.8,
          290,
          76,
          91,
          56,
          32,
          62,
          35,
          191,
          47,
          98.1,
          33,
          72.1,
          214,
          46.4,
          374.6,
          35,
          39,
          63.3,
          42.5,
          38,
          55,
          37.9,
          69,
          50.8,
          112.6,
          38.8,
          87.3,
          80,
          36.4,
          55.8,
          52.7,
          53,
          65,
          43,
          35,
          77.6,
          37,
          75,
          52,
          68,
          31,
          82.4,
          32,
          56.6,
          35.1,
          53.5,
          32,
          198,
          44.5,
          60,
          70.2,
          72,
          54.2,
          45,
          56,
          49.4,
          147,
          43,
          42,
          78,
          80,
          210.4,
          41.8,
          56,
          55,
          88.7,
          53.4,
          92.2,
          52,
          43.7,
          83.4,
          35,
          174,
          77.1,
          50,
          75.7,
          38,
          92,
          69,
          95.3,
          58.6,
          60.2,
          46.2,
          39.8,
          108.7,
          75,
          118,
          59,
          67.8,
          49,
          64,
          55,
          56.3,
          56,
          91.5,
          67.7,
          44.6,
          32.6,
          68.2,
          68.8,
          35,
          45.1,
          56,
          66.5,
          36,
          42,
          41,
          65,
          50,
          69,
          97,
          131,
          64.8,
          30,
          38,
          44,
          78.4,
          66.4,
          58.9,
          38.8,
          35.4,
          37.3,
          108.6,
          57,
          33.4,
          53.9,
          102.4,
          50,
          82,
          37,
          65.6,
          93.4,
          49,
          99.1,
          92,
          69.4,
          75,
          122.7,
          55,
          35.3,
          38.7,
          57.1,
          54,
          75.8,
          32,
          44.3,
          33,
          41,
          38.8,
          46,
          39.7,
          132.4,
          67.6,
          54.9,
          33.9,
          34,
          78,
          54,
          38,
          68,
          55,
          32.3,
          55,
          84,
          43,
          45,
          39,
          110,
          32.6,
          60,
          47.8,
          100,
          40.4,
          89.3,
          42.8,
          61.9,
          36.3,
          41,
          133,
          38,
          52.5,
          51.8,
          55,
          40.4,
          36,
          44,
          38,
          100,
          70,
          70.4,
          49,
          108,
          94,
          48,
          40,
          38.7,
          48,
          51.4,
          36.1,
          116,
          162.4,
          63.7,
          88,
          30.4,
          75,
          50.4,
          55.4,
          62.2,
          61,
          39,
          110,
          47,
          48,
          37,
          38.1,
          41,
          32.2,
          65.6,
          70.8,
          88.2,
          32,
          35,
          157.4,
          51.4,
          38.1,
          59,
          93.6,
          39,
          57.8,
          42,
          33,
          36,
          134,
          54,
          85.5,
          65,
          105.5,
          90.4,
          60,
          55.2,
          59.3,
          42.1,
          64,
          112.2,
          139.5,
          60.1,
          43.4,
          103.4,
          80,
          34.5,
          38,
          86.5,
          63.7,
          32.7,
          42.4,
          53,
          58,
          65.9,
          72.2,
          31.2,
          38,
          93.4,
          38.2,
          37.1,
          46.2,
          48.7,
          40.1,
          69,
          40,
          54.3,
          52.2,
          58,
          54,
          57.9,
          103.9,
          59.9,
          69,
          64.3,
          73.1,
          44,
          36,
          35.7,
          92,
          37,
          136,
          31.5,
          95,
          57.8,
          54,
          77.1,
          41.1,
          231.2,
          127.4,
          33,
          44,
          47.9,
          41.3,
          108.4,
          47.8,
          95.8,
          35,
          48.1,
          46,
          45.8,
          47.4,
          364.7,
          98,
          33.2,
          69,
          84,
          47,
          66.5,
          95.2,
          75.2,
          58.2,
          80,
          51.2,
          57.5,
          39,
          46.6,
          72,
          146.5,
          75,
          32,
          68.6,
          77.4,
          60.8,
          145,
          31.3,
          57.1,
          37.6,
          37,
          43,
          76
         ],
         "xaxis": "x",
         "y": [
          95000,
          232857,
          55714,
          91429,
          70000,
          107143,
          53571,
          108571,
          155714,
          53071,
          97857,
          171414,
          192857,
          250000,
          785714,
          80714,
          127143,
          91429,
          90000,
          571429,
          54286,
          192857,
          128571,
          104286,
          202857,
          64286,
          72714,
          39714,
          108571,
          357143,
          87286,
          52571,
          62857,
          250000,
          91429,
          74286,
          77143,
          52714,
          52857,
          199857,
          78571,
          162857,
          117143,
          251429,
          67857,
          127143,
          56429,
          32143,
          94286,
          107143,
          120714,
          47143,
          120000,
          65000,
          86446,
          82857,
          75000,
          79286,
          54286,
          56429,
          77143,
          50000,
          118571,
          104286,
          71429,
          46571,
          85000,
          75000,
          45000,
          50000,
          70714,
          67843,
          38571,
          62857,
          70714,
          60714,
          268243,
          85000,
          74714,
          71429,
          91714,
          77143,
          75000,
          57857,
          72857,
          49143,
          65000,
          70000,
          65000,
          66429,
          132857,
          74303,
          92143,
          95714,
          78571,
          120714,
          92857,
          41357,
          59286,
          64286,
          71286,
          45286,
          75000,
          75000,
          75714,
          40000,
          148093,
          145714,
          428571,
          55000,
          47143,
          59286,
          111286,
          52857,
          153571,
          82857,
          171429,
          357143,
          71286,
          45000,
          91286,
          55714,
          65000,
          54286,
          57143,
          314286,
          58571,
          78571,
          52857,
          71429,
          60000,
          92143,
          72857,
          59286,
          60746,
          145714,
          52371,
          132857,
          151429,
          60000,
          72857,
          79286,
          44286,
          68571,
          78571,
          58571,
          77129,
          74286,
          51429,
          92857,
          60000,
          184286,
          64143,
          174286,
          52000,
          50714,
          50000,
          211429,
          77302,
          66429,
          83571,
          99857,
          122857,
          104286,
          72857,
          88571,
          371429,
          111100,
          214286,
          77143,
          47143,
          84143,
          53071,
          471429,
          50000,
          124286,
          62857,
          82857,
          237143,
          53571,
          460714,
          72857,
          57143,
          80714,
          53714,
          53571,
          95714,
          56143,
          111429,
          78571,
          118571,
          52857,
          97143,
          93571,
          57000,
          67857,
          65714,
          65714,
          81786,
          71429,
          60714,
          87143,
          54286,
          111111,
          74286,
          80000,
          38571,
          111429,
          42857,
          102143,
          62714,
          105714,
          35714,
          499700,
          54286,
          63571,
          87857,
          90714,
          86429,
          54286,
          85143,
          71286,
          371429,
          49714,
          67143,
          142286,
          116429,
          232143,
          69286,
          83557,
          113571,
          77143,
          88571,
          207143,
          85429,
          75714,
          98429,
          55571,
          364286,
          211143,
          58571,
          131429,
          60714,
          114286,
          109857,
          205714,
          79929,
          95000,
          71429,
          74286,
          414286,
          70000,
          225729,
          55714,
          78429,
          47143,
          121714,
          64271,
          71429,
          85000,
          107143,
          92857,
          71286,
          57143,
          96429,
          87143,
          52143,
          60714,
          88500,
          112143,
          71429,
          67143,
          58571,
          142855,
          120286,
          73857,
          117143,
          270000,
          129600,
          48143,
          92843,
          71286,
          111429,
          126429,
          78571,
          59286,
          50000,
          52143,
          207143,
          75000,
          49786,
          87143,
          246429,
          73571,
          271429,
          62143,
          78571,
          164286,
          60000,
          134286,
          171429,
          118571,
          100000,
          231102,
          88571,
          80000,
          64143,
          82857,
          91429,
          111429,
          40714,
          54286,
          78429,
          52143,
          52677,
          50714,
          56714,
          328571,
          100000,
          79286,
          52857,
          52957,
          137143,
          64286,
          71286,
          108571,
          67857,
          45714,
          92857,
          141429,
          63571,
          60714,
          60000,
          257143,
          40000,
          57143,
          132857,
          142857,
          72857,
          214286,
          48571,
          79857,
          70000,
          64286,
          255000,
          54857,
          82986,
          92857,
          52857,
          91939,
          52143,
          60714,
          60000,
          135714,
          85571,
          90000,
          56714,
          185714,
          122571,
          70000,
          55714,
          58571,
          76143,
          74286,
          55714,
          124286,
          207143,
          85714,
          92857,
          52857,
          117143,
          67857,
          73571,
          121429,
          82857,
          62857,
          171429,
          85714,
          82714,
          58571,
          64286,
          67857,
          45714,
          114000,
          111429,
          141429,
          48571,
          48571,
          360000,
          102143,
          62714,
          80000,
          149857,
          56857,
          100000,
          61429,
          53571,
          54643,
          171414,
          109286,
          121429,
          67143,
          238571,
          227857,
          101429,
          67143,
          58414,
          56429,
          114286,
          132857,
          260094,
          124286,
          88571,
          171429,
          132000,
          64286,
          54286,
          161714,
          104357,
          57143,
          65000,
          64286,
          201429,
          107143,
          85714,
          52143,
          57143,
          253621,
          56429,
          47143,
          54857,
          54286,
          63357,
          150000,
          72714,
          76714,
          84571,
          75714,
          99857,
          71143,
          235111,
          69286,
          85286,
          105000,
          82857,
          92143,
          45686,
          52143,
          180000,
          53571,
          168500,
          61571,
          135714,
          72857,
          92143,
          92857,
          94643,
          354286,
          134000,
          47000,
          57000,
          68214,
          59286,
          185714,
          64143,
          167857,
          93571,
          63571,
          55571,
          58429,
          115714,
          469915,
          131429,
          52143,
          112857,
          465000,
          72843,
          145714,
          174080,
          107143,
          78571,
          98571,
          70000,
          128571,
          64286,
          59286,
          125714,
          184286,
          99857,
          44286,
          113602,
          120700,
          79143,
          285714,
          37857,
          74286,
          58571,
          50000,
          77143,
          112857
         ],
         "yaxis": "y"
        }
       ],
       "layout": {
        "legend": {
         "tracegroupgap": 0
        },
        "template": {
         "data": {
          "bar": [
           {
            "error_x": {
             "color": "#2a3f5f"
            },
            "error_y": {
             "color": "#2a3f5f"
            },
            "marker": {
             "line": {
              "color": "#E5ECF6",
              "width": 0.5
             },
             "pattern": {
              "fillmode": "overlay",
              "size": 10,
              "solidity": 0.2
             }
            },
            "type": "bar"
           }
          ],
          "barpolar": [
           {
            "marker": {
             "line": {
              "color": "#E5ECF6",
              "width": 0.5
             },
             "pattern": {
              "fillmode": "overlay",
              "size": 10,
              "solidity": 0.2
             }
            },
            "type": "barpolar"
           }
          ],
          "carpet": [
           {
            "aaxis": {
             "endlinecolor": "#2a3f5f",
             "gridcolor": "white",
             "linecolor": "white",
             "minorgridcolor": "white",
             "startlinecolor": "#2a3f5f"
            },
            "baxis": {
             "endlinecolor": "#2a3f5f",
             "gridcolor": "white",
             "linecolor": "white",
             "minorgridcolor": "white",
             "startlinecolor": "#2a3f5f"
            },
            "type": "carpet"
           }
          ],
          "choropleth": [
           {
            "colorbar": {
             "outlinewidth": 0,
             "ticks": ""
            },
            "type": "choropleth"
           }
          ],
          "contour": [
           {
            "colorbar": {
             "outlinewidth": 0,
             "ticks": ""
            },
            "colorscale": [
             [
              0,
              "#0d0887"
             ],
             [
              0.1111111111111111,
              "#46039f"
             ],
             [
              0.2222222222222222,
              "#7201a8"
             ],
             [
              0.3333333333333333,
              "#9c179e"
             ],
             [
              0.4444444444444444,
              "#bd3786"
             ],
             [
              0.5555555555555556,
              "#d8576b"
             ],
             [
              0.6666666666666666,
              "#ed7953"
             ],
             [
              0.7777777777777778,
              "#fb9f3a"
             ],
             [
              0.8888888888888888,
              "#fdca26"
             ],
             [
              1,
              "#f0f921"
             ]
            ],
            "type": "contour"
           }
          ],
          "contourcarpet": [
           {
            "colorbar": {
             "outlinewidth": 0,
             "ticks": ""
            },
            "type": "contourcarpet"
           }
          ],
          "heatmap": [
           {
            "colorbar": {
             "outlinewidth": 0,
             "ticks": ""
            },
            "colorscale": [
             [
              0,
              "#0d0887"
             ],
             [
              0.1111111111111111,
              "#46039f"
             ],
             [
              0.2222222222222222,
              "#7201a8"
             ],
             [
              0.3333333333333333,
              "#9c179e"
             ],
             [
              0.4444444444444444,
              "#bd3786"
             ],
             [
              0.5555555555555556,
              "#d8576b"
             ],
             [
              0.6666666666666666,
              "#ed7953"
             ],
             [
              0.7777777777777778,
              "#fb9f3a"
             ],
             [
              0.8888888888888888,
              "#fdca26"
             ],
             [
              1,
              "#f0f921"
             ]
            ],
            "type": "heatmap"
           }
          ],
          "heatmapgl": [
           {
            "colorbar": {
             "outlinewidth": 0,
             "ticks": ""
            },
            "colorscale": [
             [
              0,
              "#0d0887"
             ],
             [
              0.1111111111111111,
              "#46039f"
             ],
             [
              0.2222222222222222,
              "#7201a8"
             ],
             [
              0.3333333333333333,
              "#9c179e"
             ],
             [
              0.4444444444444444,
              "#bd3786"
             ],
             [
              0.5555555555555556,
              "#d8576b"
             ],
             [
              0.6666666666666666,
              "#ed7953"
             ],
             [
              0.7777777777777778,
              "#fb9f3a"
             ],
             [
              0.8888888888888888,
              "#fdca26"
             ],
             [
              1,
              "#f0f921"
             ]
            ],
            "type": "heatmapgl"
           }
          ],
          "histogram": [
           {
            "marker": {
             "pattern": {
              "fillmode": "overlay",
              "size": 10,
              "solidity": 0.2
             }
            },
            "type": "histogram"
           }
          ],
          "histogram2d": [
           {
            "colorbar": {
             "outlinewidth": 0,
             "ticks": ""
            },
            "colorscale": [
             [
              0,
              "#0d0887"
             ],
             [
              0.1111111111111111,
              "#46039f"
             ],
             [
              0.2222222222222222,
              "#7201a8"
             ],
             [
              0.3333333333333333,
              "#9c179e"
             ],
             [
              0.4444444444444444,
              "#bd3786"
             ],
             [
              0.5555555555555556,
              "#d8576b"
             ],
             [
              0.6666666666666666,
              "#ed7953"
             ],
             [
              0.7777777777777778,
              "#fb9f3a"
             ],
             [
              0.8888888888888888,
              "#fdca26"
             ],
             [
              1,
              "#f0f921"
             ]
            ],
            "type": "histogram2d"
           }
          ],
          "histogram2dcontour": [
           {
            "colorbar": {
             "outlinewidth": 0,
             "ticks": ""
            },
            "colorscale": [
             [
              0,
              "#0d0887"
             ],
             [
              0.1111111111111111,
              "#46039f"
             ],
             [
              0.2222222222222222,
              "#7201a8"
             ],
             [
              0.3333333333333333,
              "#9c179e"
             ],
             [
              0.4444444444444444,
              "#bd3786"
             ],
             [
              0.5555555555555556,
              "#d8576b"
             ],
             [
              0.6666666666666666,
              "#ed7953"
             ],
             [
              0.7777777777777778,
              "#fb9f3a"
             ],
             [
              0.8888888888888888,
              "#fdca26"
             ],
             [
              1,
              "#f0f921"
             ]
            ],
            "type": "histogram2dcontour"
           }
          ],
          "mesh3d": [
           {
            "colorbar": {
             "outlinewidth": 0,
             "ticks": ""
            },
            "type": "mesh3d"
           }
          ],
          "parcoords": [
           {
            "line": {
             "colorbar": {
              "outlinewidth": 0,
              "ticks": ""
             }
            },
            "type": "parcoords"
           }
          ],
          "pie": [
           {
            "automargin": true,
            "type": "pie"
           }
          ],
          "scatter": [
           {
            "fillpattern": {
             "fillmode": "overlay",
             "size": 10,
             "solidity": 0.2
            },
            "type": "scatter"
           }
          ],
          "scatter3d": [
           {
            "line": {
             "colorbar": {
              "outlinewidth": 0,
              "ticks": ""
             }
            },
            "marker": {
             "colorbar": {
              "outlinewidth": 0,
              "ticks": ""
             }
            },
            "type": "scatter3d"
           }
          ],
          "scattercarpet": [
           {
            "marker": {
             "colorbar": {
              "outlinewidth": 0,
              "ticks": ""
             }
            },
            "type": "scattercarpet"
           }
          ],
          "scattergeo": [
           {
            "marker": {
             "colorbar": {
              "outlinewidth": 0,
              "ticks": ""
             }
            },
            "type": "scattergeo"
           }
          ],
          "scattergl": [
           {
            "marker": {
             "colorbar": {
              "outlinewidth": 0,
              "ticks": ""
             }
            },
            "type": "scattergl"
           }
          ],
          "scattermapbox": [
           {
            "marker": {
             "colorbar": {
              "outlinewidth": 0,
              "ticks": ""
             }
            },
            "type": "scattermapbox"
           }
          ],
          "scatterpolar": [
           {
            "marker": {
             "colorbar": {
              "outlinewidth": 0,
              "ticks": ""
             }
            },
            "type": "scatterpolar"
           }
          ],
          "scatterpolargl": [
           {
            "marker": {
             "colorbar": {
              "outlinewidth": 0,
              "ticks": ""
             }
            },
            "type": "scatterpolargl"
           }
          ],
          "scatterternary": [
           {
            "marker": {
             "colorbar": {
              "outlinewidth": 0,
              "ticks": ""
             }
            },
            "type": "scatterternary"
           }
          ],
          "surface": [
           {
            "colorbar": {
             "outlinewidth": 0,
             "ticks": ""
            },
            "colorscale": [
             [
              0,
              "#0d0887"
             ],
             [
              0.1111111111111111,
              "#46039f"
             ],
             [
              0.2222222222222222,
              "#7201a8"
             ],
             [
              0.3333333333333333,
              "#9c179e"
             ],
             [
              0.4444444444444444,
              "#bd3786"
             ],
             [
              0.5555555555555556,
              "#d8576b"
             ],
             [
              0.6666666666666666,
              "#ed7953"
             ],
             [
              0.7777777777777778,
              "#fb9f3a"
             ],
             [
              0.8888888888888888,
              "#fdca26"
             ],
             [
              1,
              "#f0f921"
             ]
            ],
            "type": "surface"
           }
          ],
          "table": [
           {
            "cells": {
             "fill": {
              "color": "#EBF0F8"
             },
             "line": {
              "color": "white"
             }
            },
            "header": {
             "fill": {
              "color": "#C8D4E3"
             },
             "line": {
              "color": "white"
             }
            },
            "type": "table"
           }
          ]
         },
         "layout": {
          "annotationdefaults": {
           "arrowcolor": "#2a3f5f",
           "arrowhead": 0,
           "arrowwidth": 1
          },
          "autotypenumbers": "strict",
          "coloraxis": {
           "colorbar": {
            "outlinewidth": 0,
            "ticks": ""
           }
          },
          "colorscale": {
           "diverging": [
            [
             0,
             "#8e0152"
            ],
            [
             0.1,
             "#c51b7d"
            ],
            [
             0.2,
             "#de77ae"
            ],
            [
             0.3,
             "#f1b6da"
            ],
            [
             0.4,
             "#fde0ef"
            ],
            [
             0.5,
             "#f7f7f7"
            ],
            [
             0.6,
             "#e6f5d0"
            ],
            [
             0.7,
             "#b8e186"
            ],
            [
             0.8,
             "#7fbc41"
            ],
            [
             0.9,
             "#4d9221"
            ],
            [
             1,
             "#276419"
            ]
           ],
           "sequential": [
            [
             0,
             "#0d0887"
            ],
            [
             0.1111111111111111,
             "#46039f"
            ],
            [
             0.2222222222222222,
             "#7201a8"
            ],
            [
             0.3333333333333333,
             "#9c179e"
            ],
            [
             0.4444444444444444,
             "#bd3786"
            ],
            [
             0.5555555555555556,
             "#d8576b"
            ],
            [
             0.6666666666666666,
             "#ed7953"
            ],
            [
             0.7777777777777778,
             "#fb9f3a"
            ],
            [
             0.8888888888888888,
             "#fdca26"
            ],
            [
             1,
             "#f0f921"
            ]
           ],
           "sequentialminus": [
            [
             0,
             "#0d0887"
            ],
            [
             0.1111111111111111,
             "#46039f"
            ],
            [
             0.2222222222222222,
             "#7201a8"
            ],
            [
             0.3333333333333333,
             "#9c179e"
            ],
            [
             0.4444444444444444,
             "#bd3786"
            ],
            [
             0.5555555555555556,
             "#d8576b"
            ],
            [
             0.6666666666666666,
             "#ed7953"
            ],
            [
             0.7777777777777778,
             "#fb9f3a"
            ],
            [
             0.8888888888888888,
             "#fdca26"
            ],
            [
             1,
             "#f0f921"
            ]
           ]
          },
          "colorway": [
           "#636efa",
           "#EF553B",
           "#00cc96",
           "#ab63fa",
           "#FFA15A",
           "#19d3f3",
           "#FF6692",
           "#B6E880",
           "#FF97FF",
           "#FECB52"
          ],
          "font": {
           "color": "#2a3f5f"
          },
          "geo": {
           "bgcolor": "white",
           "lakecolor": "white",
           "landcolor": "#E5ECF6",
           "showlakes": true,
           "showland": true,
           "subunitcolor": "white"
          },
          "hoverlabel": {
           "align": "left"
          },
          "hovermode": "closest",
          "mapbox": {
           "style": "light"
          },
          "paper_bgcolor": "white",
          "plot_bgcolor": "#E5ECF6",
          "polar": {
           "angularaxis": {
            "gridcolor": "white",
            "linecolor": "white",
            "ticks": ""
           },
           "bgcolor": "#E5ECF6",
           "radialaxis": {
            "gridcolor": "white",
            "linecolor": "white",
            "ticks": ""
           }
          },
          "scene": {
           "xaxis": {
            "backgroundcolor": "#E5ECF6",
            "gridcolor": "white",
            "gridwidth": 2,
            "linecolor": "white",
            "showbackground": true,
            "ticks": "",
            "zerolinecolor": "white"
           },
           "yaxis": {
            "backgroundcolor": "#E5ECF6",
            "gridcolor": "white",
            "gridwidth": 2,
            "linecolor": "white",
            "showbackground": true,
            "ticks": "",
            "zerolinecolor": "white"
           },
           "zaxis": {
            "backgroundcolor": "#E5ECF6",
            "gridcolor": "white",
            "gridwidth": 2,
            "linecolor": "white",
            "showbackground": true,
            "ticks": "",
            "zerolinecolor": "white"
           }
          },
          "shapedefaults": {
           "line": {
            "color": "#2a3f5f"
           }
          },
          "ternary": {
           "aaxis": {
            "gridcolor": "white",
            "linecolor": "white",
            "ticks": ""
           },
           "baxis": {
            "gridcolor": "white",
            "linecolor": "white",
            "ticks": ""
           },
           "bgcolor": "#E5ECF6",
           "caxis": {
            "gridcolor": "white",
            "linecolor": "white",
            "ticks": ""
           }
          },
          "title": {
           "x": 0.05
          },
          "xaxis": {
           "automargin": true,
           "gridcolor": "white",
           "linecolor": "white",
           "ticks": "",
           "title": {
            "standoff": 15
           },
           "zerolinecolor": "white",
           "zerolinewidth": 2
          },
          "yaxis": {
           "automargin": true,
           "gridcolor": "white",
           "linecolor": "white",
           "ticks": "",
           "title": {
            "standoff": 15
           },
           "zerolinecolor": "white",
           "zerolinewidth": 2
          }
         }
        },
        "title": {
         "text": "Price vs total_area"
        },
        "xaxis": {
         "anchor": "y",
         "domain": [
          0,
          1
         ],
         "title": {
          "text": "total_area"
         }
        },
        "yaxis": {
         "anchor": "x",
         "domain": [
          0,
          1
         ],
         "title": {
          "text": "last_price"
         }
        }
       }
      }
     },
     "metadata": {},
     "output_type": "display_data"
    },
    {
     "data": {
      "application/vnd.plotly.v1+json": {
       "config": {
        "plotlyServerURL": "https://plot.ly"
       },
       "data": [
        {
         "hovertemplate": "rooms=%{x}<br>last_price=%{y}<extra></extra>",
         "legendgroup": "",
         "marker": {
          "color": "#636efa",
          "symbol": "circle"
         },
         "mode": "markers",
         "name": "",
         "orientation": "v",
         "showlegend": false,
         "type": "scatter",
         "x": [
          3,
          0,
          2,
          2,
          1,
          4,
          1,
          1,
          3,
          1,
          3,
          4,
          3,
          3,
          5,
          3,
          3,
          2,
          2,
          3,
          1,
          3,
          2,
          2,
          5,
          4,
          2,
          1,
          1,
          14,
          1,
          2,
          4,
          6,
          3,
          3,
          2,
          1,
          2,
          2,
          2,
          3,
          3,
          3,
          1,
          2,
          2,
          0,
          3,
          1,
          2,
          1,
          3,
          1,
          1,
          2,
          1,
          2,
          1,
          1,
          3,
          1,
          2,
          3,
          1,
          1,
          3,
          3,
          1,
          2,
          2,
          2,
          1,
          3,
          1,
          1,
          6,
          1,
          1,
          2,
          2,
          2,
          3,
          1,
          1,
          1,
          2,
          1,
          1,
          1,
          3,
          3,
          3,
          2,
          2,
          3,
          2,
          1,
          2,
          2,
          3,
          2,
          3,
          2,
          3,
          1,
          3,
          2,
          6,
          2,
          1,
          1,
          1,
          2,
          3,
          3,
          6,
          2,
          2,
          1,
          3,
          2,
          2,
          2,
          3,
          4,
          1,
          1,
          2,
          1,
          2,
          2,
          1,
          1,
          2,
          3,
          1,
          2,
          5,
          1,
          2,
          1,
          1,
          3,
          2,
          2,
          1,
          1,
          2,
          3,
          1,
          4,
          1,
          3,
          1,
          1,
          1,
          3,
          3,
          1,
          2,
          2,
          2,
          3,
          2,
          1,
          5,
          2,
          3,
          2,
          1,
          2,
          1,
          5,
          2,
          4,
          1,
          3,
          7,
          2,
          19,
          1,
          1,
          2,
          1,
          1,
          2,
          1,
          2,
          2,
          3,
          1,
          3,
          2,
          1,
          2,
          2,
          2,
          3,
          1,
          1,
          4,
          1,
          2,
          1,
          3,
          0,
          3,
          1,
          2,
          1,
          2,
          1,
          5,
          1,
          3,
          3,
          3,
          2,
          1,
          2,
          1,
          3,
          1,
          2,
          2,
          2,
          7,
          1,
          2,
          2,
          4,
          2,
          3,
          2,
          1,
          2,
          1,
          4,
          2,
          2,
          3,
          1,
          3,
          3,
          3,
          3,
          2,
          2,
          1,
          3,
          3,
          4,
          3,
          2,
          4,
          2,
          2,
          2,
          3,
          3,
          3,
          1,
          1,
          3,
          3,
          0,
          2,
          2,
          2,
          1,
          2,
          1,
          2,
          2,
          3,
          3,
          3,
          2,
          1,
          1,
          1,
          3,
          3,
          2,
          1,
          1,
          1,
          3,
          2,
          1,
          2,
          3,
          2,
          3,
          1,
          3,
          3,
          2,
          2,
          3,
          3,
          3,
          3,
          2,
          1,
          1,
          3,
          1,
          3,
          1,
          2,
          1,
          1,
          1,
          2,
          1,
          3,
          3,
          2,
          1,
          1,
          2,
          2,
          1,
          2,
          3,
          1,
          1,
          3,
          2,
          2,
          1,
          3,
          1,
          2,
          1,
          2,
          1,
          4,
          2,
          3,
          1,
          1,
          3,
          1,
          2,
          2,
          3,
          1,
          1,
          2,
          1,
          4,
          3,
          3,
          1,
          3,
          4,
          2,
          1,
          1,
          2,
          2,
          1,
          5,
          5,
          2,
          3,
          1,
          3,
          2,
          3,
          2,
          2,
          1,
          4,
          2,
          2,
          1,
          1,
          1,
          1,
          2,
          3,
          3,
          1,
          1,
          3,
          2,
          1,
          3,
          3,
          1,
          2,
          1,
          1,
          1,
          5,
          2,
          4,
          3,
          3,
          2,
          2,
          1,
          2,
          1,
          2,
          3,
          4,
          2,
          1,
          3,
          3,
          1,
          1,
          1,
          2,
          1,
          1,
          2,
          1,
          2,
          3,
          1,
          1,
          3,
          1,
          1,
          2,
          4,
          1,
          2,
          1,
          2,
          2,
          3,
          2,
          3,
          3,
          3,
          2,
          2,
          2,
          1,
          1,
          1,
          3,
          1,
          6,
          1,
          3,
          3,
          2,
          4,
          1,
          6,
          5,
          1,
          2,
          2,
          3,
          3,
          2,
          3,
          1,
          2,
          2,
          2,
          1,
          7,
          3,
          1,
          2,
          2,
          2,
          3,
          3,
          3,
          3,
          3,
          2,
          2,
          1,
          2,
          3,
          3,
          3,
          1,
          2,
          2,
          3,
          3,
          1,
          3,
          1,
          1,
          1,
          3
         ],
         "xaxis": "x",
         "y": [
          95000,
          232857,
          55714,
          91429,
          70000,
          107143,
          53571,
          108571,
          155714,
          53071,
          97857,
          171414,
          192857,
          250000,
          785714,
          80714,
          127143,
          91429,
          90000,
          571429,
          54286,
          192857,
          128571,
          104286,
          202857,
          64286,
          72714,
          39714,
          108571,
          357143,
          87286,
          52571,
          62857,
          250000,
          91429,
          74286,
          77143,
          52714,
          52857,
          199857,
          78571,
          162857,
          117143,
          251429,
          67857,
          127143,
          56429,
          32143,
          94286,
          107143,
          120714,
          47143,
          120000,
          65000,
          86446,
          82857,
          75000,
          79286,
          54286,
          56429,
          77143,
          50000,
          118571,
          104286,
          71429,
          46571,
          85000,
          75000,
          45000,
          50000,
          70714,
          67843,
          38571,
          62857,
          70714,
          60714,
          268243,
          85000,
          74714,
          71429,
          91714,
          77143,
          75000,
          57857,
          72857,
          49143,
          65000,
          70000,
          65000,
          66429,
          132857,
          74303,
          92143,
          95714,
          78571,
          120714,
          92857,
          41357,
          59286,
          64286,
          71286,
          45286,
          75000,
          75000,
          75714,
          40000,
          148093,
          145714,
          428571,
          55000,
          47143,
          59286,
          111286,
          52857,
          153571,
          82857,
          171429,
          357143,
          71286,
          45000,
          91286,
          55714,
          65000,
          54286,
          57143,
          314286,
          58571,
          78571,
          52857,
          71429,
          60000,
          92143,
          72857,
          59286,
          60746,
          145714,
          52371,
          132857,
          151429,
          60000,
          72857,
          79286,
          44286,
          68571,
          78571,
          58571,
          77129,
          74286,
          51429,
          92857,
          60000,
          184286,
          64143,
          174286,
          52000,
          50714,
          50000,
          211429,
          77302,
          66429,
          83571,
          99857,
          122857,
          104286,
          72857,
          88571,
          371429,
          111100,
          214286,
          77143,
          47143,
          84143,
          53071,
          471429,
          50000,
          124286,
          62857,
          82857,
          237143,
          53571,
          460714,
          72857,
          57143,
          80714,
          53714,
          53571,
          95714,
          56143,
          111429,
          78571,
          118571,
          52857,
          97143,
          93571,
          57000,
          67857,
          65714,
          65714,
          81786,
          71429,
          60714,
          87143,
          54286,
          111111,
          74286,
          80000,
          38571,
          111429,
          42857,
          102143,
          62714,
          105714,
          35714,
          499700,
          54286,
          63571,
          87857,
          90714,
          86429,
          54286,
          85143,
          71286,
          371429,
          49714,
          67143,
          142286,
          116429,
          232143,
          69286,
          83557,
          113571,
          77143,
          88571,
          207143,
          85429,
          75714,
          98429,
          55571,
          364286,
          211143,
          58571,
          131429,
          60714,
          114286,
          109857,
          205714,
          79929,
          95000,
          71429,
          74286,
          414286,
          70000,
          225729,
          55714,
          78429,
          47143,
          121714,
          64271,
          71429,
          85000,
          107143,
          92857,
          71286,
          57143,
          96429,
          87143,
          52143,
          60714,
          88500,
          112143,
          71429,
          67143,
          58571,
          142855,
          120286,
          73857,
          117143,
          270000,
          129600,
          48143,
          92843,
          71286,
          111429,
          126429,
          78571,
          59286,
          50000,
          52143,
          207143,
          75000,
          49786,
          87143,
          246429,
          73571,
          271429,
          62143,
          78571,
          164286,
          60000,
          134286,
          171429,
          118571,
          100000,
          231102,
          88571,
          80000,
          64143,
          82857,
          91429,
          111429,
          40714,
          54286,
          78429,
          52143,
          52677,
          50714,
          56714,
          328571,
          100000,
          79286,
          52857,
          52957,
          137143,
          64286,
          71286,
          108571,
          67857,
          45714,
          92857,
          141429,
          63571,
          60714,
          60000,
          257143,
          40000,
          57143,
          132857,
          142857,
          72857,
          214286,
          48571,
          79857,
          70000,
          64286,
          255000,
          54857,
          82986,
          92857,
          52857,
          91939,
          52143,
          60714,
          60000,
          135714,
          85571,
          90000,
          56714,
          185714,
          122571,
          70000,
          55714,
          58571,
          76143,
          74286,
          55714,
          124286,
          207143,
          85714,
          92857,
          52857,
          117143,
          67857,
          73571,
          121429,
          82857,
          62857,
          171429,
          85714,
          82714,
          58571,
          64286,
          67857,
          45714,
          114000,
          111429,
          141429,
          48571,
          48571,
          360000,
          102143,
          62714,
          80000,
          149857,
          56857,
          100000,
          61429,
          53571,
          54643,
          171414,
          109286,
          121429,
          67143,
          238571,
          227857,
          101429,
          67143,
          58414,
          56429,
          114286,
          132857,
          260094,
          124286,
          88571,
          171429,
          132000,
          64286,
          54286,
          161714,
          104357,
          57143,
          65000,
          64286,
          201429,
          107143,
          85714,
          52143,
          57143,
          253621,
          56429,
          47143,
          54857,
          54286,
          63357,
          150000,
          72714,
          76714,
          84571,
          75714,
          99857,
          71143,
          235111,
          69286,
          85286,
          105000,
          82857,
          92143,
          45686,
          52143,
          180000,
          53571,
          168500,
          61571,
          135714,
          72857,
          92143,
          92857,
          94643,
          354286,
          134000,
          47000,
          57000,
          68214,
          59286,
          185714,
          64143,
          167857,
          93571,
          63571,
          55571,
          58429,
          115714,
          469915,
          131429,
          52143,
          112857,
          465000,
          72843,
          145714,
          174080,
          107143,
          78571,
          98571,
          70000,
          128571,
          64286,
          59286,
          125714,
          184286,
          99857,
          44286,
          113602,
          120700,
          79143,
          285714,
          37857,
          74286,
          58571,
          50000,
          77143,
          112857
         ],
         "yaxis": "y"
        }
       ],
       "layout": {
        "legend": {
         "tracegroupgap": 0
        },
        "template": {
         "data": {
          "bar": [
           {
            "error_x": {
             "color": "#2a3f5f"
            },
            "error_y": {
             "color": "#2a3f5f"
            },
            "marker": {
             "line": {
              "color": "#E5ECF6",
              "width": 0.5
             },
             "pattern": {
              "fillmode": "overlay",
              "size": 10,
              "solidity": 0.2
             }
            },
            "type": "bar"
           }
          ],
          "barpolar": [
           {
            "marker": {
             "line": {
              "color": "#E5ECF6",
              "width": 0.5
             },
             "pattern": {
              "fillmode": "overlay",
              "size": 10,
              "solidity": 0.2
             }
            },
            "type": "barpolar"
           }
          ],
          "carpet": [
           {
            "aaxis": {
             "endlinecolor": "#2a3f5f",
             "gridcolor": "white",
             "linecolor": "white",
             "minorgridcolor": "white",
             "startlinecolor": "#2a3f5f"
            },
            "baxis": {
             "endlinecolor": "#2a3f5f",
             "gridcolor": "white",
             "linecolor": "white",
             "minorgridcolor": "white",
             "startlinecolor": "#2a3f5f"
            },
            "type": "carpet"
           }
          ],
          "choropleth": [
           {
            "colorbar": {
             "outlinewidth": 0,
             "ticks": ""
            },
            "type": "choropleth"
           }
          ],
          "contour": [
           {
            "colorbar": {
             "outlinewidth": 0,
             "ticks": ""
            },
            "colorscale": [
             [
              0,
              "#0d0887"
             ],
             [
              0.1111111111111111,
              "#46039f"
             ],
             [
              0.2222222222222222,
              "#7201a8"
             ],
             [
              0.3333333333333333,
              "#9c179e"
             ],
             [
              0.4444444444444444,
              "#bd3786"
             ],
             [
              0.5555555555555556,
              "#d8576b"
             ],
             [
              0.6666666666666666,
              "#ed7953"
             ],
             [
              0.7777777777777778,
              "#fb9f3a"
             ],
             [
              0.8888888888888888,
              "#fdca26"
             ],
             [
              1,
              "#f0f921"
             ]
            ],
            "type": "contour"
           }
          ],
          "contourcarpet": [
           {
            "colorbar": {
             "outlinewidth": 0,
             "ticks": ""
            },
            "type": "contourcarpet"
           }
          ],
          "heatmap": [
           {
            "colorbar": {
             "outlinewidth": 0,
             "ticks": ""
            },
            "colorscale": [
             [
              0,
              "#0d0887"
             ],
             [
              0.1111111111111111,
              "#46039f"
             ],
             [
              0.2222222222222222,
              "#7201a8"
             ],
             [
              0.3333333333333333,
              "#9c179e"
             ],
             [
              0.4444444444444444,
              "#bd3786"
             ],
             [
              0.5555555555555556,
              "#d8576b"
             ],
             [
              0.6666666666666666,
              "#ed7953"
             ],
             [
              0.7777777777777778,
              "#fb9f3a"
             ],
             [
              0.8888888888888888,
              "#fdca26"
             ],
             [
              1,
              "#f0f921"
             ]
            ],
            "type": "heatmap"
           }
          ],
          "heatmapgl": [
           {
            "colorbar": {
             "outlinewidth": 0,
             "ticks": ""
            },
            "colorscale": [
             [
              0,
              "#0d0887"
             ],
             [
              0.1111111111111111,
              "#46039f"
             ],
             [
              0.2222222222222222,
              "#7201a8"
             ],
             [
              0.3333333333333333,
              "#9c179e"
             ],
             [
              0.4444444444444444,
              "#bd3786"
             ],
             [
              0.5555555555555556,
              "#d8576b"
             ],
             [
              0.6666666666666666,
              "#ed7953"
             ],
             [
              0.7777777777777778,
              "#fb9f3a"
             ],
             [
              0.8888888888888888,
              "#fdca26"
             ],
             [
              1,
              "#f0f921"
             ]
            ],
            "type": "heatmapgl"
           }
          ],
          "histogram": [
           {
            "marker": {
             "pattern": {
              "fillmode": "overlay",
              "size": 10,
              "solidity": 0.2
             }
            },
            "type": "histogram"
           }
          ],
          "histogram2d": [
           {
            "colorbar": {
             "outlinewidth": 0,
             "ticks": ""
            },
            "colorscale": [
             [
              0,
              "#0d0887"
             ],
             [
              0.1111111111111111,
              "#46039f"
             ],
             [
              0.2222222222222222,
              "#7201a8"
             ],
             [
              0.3333333333333333,
              "#9c179e"
             ],
             [
              0.4444444444444444,
              "#bd3786"
             ],
             [
              0.5555555555555556,
              "#d8576b"
             ],
             [
              0.6666666666666666,
              "#ed7953"
             ],
             [
              0.7777777777777778,
              "#fb9f3a"
             ],
             [
              0.8888888888888888,
              "#fdca26"
             ],
             [
              1,
              "#f0f921"
             ]
            ],
            "type": "histogram2d"
           }
          ],
          "histogram2dcontour": [
           {
            "colorbar": {
             "outlinewidth": 0,
             "ticks": ""
            },
            "colorscale": [
             [
              0,
              "#0d0887"
             ],
             [
              0.1111111111111111,
              "#46039f"
             ],
             [
              0.2222222222222222,
              "#7201a8"
             ],
             [
              0.3333333333333333,
              "#9c179e"
             ],
             [
              0.4444444444444444,
              "#bd3786"
             ],
             [
              0.5555555555555556,
              "#d8576b"
             ],
             [
              0.6666666666666666,
              "#ed7953"
             ],
             [
              0.7777777777777778,
              "#fb9f3a"
             ],
             [
              0.8888888888888888,
              "#fdca26"
             ],
             [
              1,
              "#f0f921"
             ]
            ],
            "type": "histogram2dcontour"
           }
          ],
          "mesh3d": [
           {
            "colorbar": {
             "outlinewidth": 0,
             "ticks": ""
            },
            "type": "mesh3d"
           }
          ],
          "parcoords": [
           {
            "line": {
             "colorbar": {
              "outlinewidth": 0,
              "ticks": ""
             }
            },
            "type": "parcoords"
           }
          ],
          "pie": [
           {
            "automargin": true,
            "type": "pie"
           }
          ],
          "scatter": [
           {
            "fillpattern": {
             "fillmode": "overlay",
             "size": 10,
             "solidity": 0.2
            },
            "type": "scatter"
           }
          ],
          "scatter3d": [
           {
            "line": {
             "colorbar": {
              "outlinewidth": 0,
              "ticks": ""
             }
            },
            "marker": {
             "colorbar": {
              "outlinewidth": 0,
              "ticks": ""
             }
            },
            "type": "scatter3d"
           }
          ],
          "scattercarpet": [
           {
            "marker": {
             "colorbar": {
              "outlinewidth": 0,
              "ticks": ""
             }
            },
            "type": "scattercarpet"
           }
          ],
          "scattergeo": [
           {
            "marker": {
             "colorbar": {
              "outlinewidth": 0,
              "ticks": ""
             }
            },
            "type": "scattergeo"
           }
          ],
          "scattergl": [
           {
            "marker": {
             "colorbar": {
              "outlinewidth": 0,
              "ticks": ""
             }
            },
            "type": "scattergl"
           }
          ],
          "scattermapbox": [
           {
            "marker": {
             "colorbar": {
              "outlinewidth": 0,
              "ticks": ""
             }
            },
            "type": "scattermapbox"
           }
          ],
          "scatterpolar": [
           {
            "marker": {
             "colorbar": {
              "outlinewidth": 0,
              "ticks": ""
             }
            },
            "type": "scatterpolar"
           }
          ],
          "scatterpolargl": [
           {
            "marker": {
             "colorbar": {
              "outlinewidth": 0,
              "ticks": ""
             }
            },
            "type": "scatterpolargl"
           }
          ],
          "scatterternary": [
           {
            "marker": {
             "colorbar": {
              "outlinewidth": 0,
              "ticks": ""
             }
            },
            "type": "scatterternary"
           }
          ],
          "surface": [
           {
            "colorbar": {
             "outlinewidth": 0,
             "ticks": ""
            },
            "colorscale": [
             [
              0,
              "#0d0887"
             ],
             [
              0.1111111111111111,
              "#46039f"
             ],
             [
              0.2222222222222222,
              "#7201a8"
             ],
             [
              0.3333333333333333,
              "#9c179e"
             ],
             [
              0.4444444444444444,
              "#bd3786"
             ],
             [
              0.5555555555555556,
              "#d8576b"
             ],
             [
              0.6666666666666666,
              "#ed7953"
             ],
             [
              0.7777777777777778,
              "#fb9f3a"
             ],
             [
              0.8888888888888888,
              "#fdca26"
             ],
             [
              1,
              "#f0f921"
             ]
            ],
            "type": "surface"
           }
          ],
          "table": [
           {
            "cells": {
             "fill": {
              "color": "#EBF0F8"
             },
             "line": {
              "color": "white"
             }
            },
            "header": {
             "fill": {
              "color": "#C8D4E3"
             },
             "line": {
              "color": "white"
             }
            },
            "type": "table"
           }
          ]
         },
         "layout": {
          "annotationdefaults": {
           "arrowcolor": "#2a3f5f",
           "arrowhead": 0,
           "arrowwidth": 1
          },
          "autotypenumbers": "strict",
          "coloraxis": {
           "colorbar": {
            "outlinewidth": 0,
            "ticks": ""
           }
          },
          "colorscale": {
           "diverging": [
            [
             0,
             "#8e0152"
            ],
            [
             0.1,
             "#c51b7d"
            ],
            [
             0.2,
             "#de77ae"
            ],
            [
             0.3,
             "#f1b6da"
            ],
            [
             0.4,
             "#fde0ef"
            ],
            [
             0.5,
             "#f7f7f7"
            ],
            [
             0.6,
             "#e6f5d0"
            ],
            [
             0.7,
             "#b8e186"
            ],
            [
             0.8,
             "#7fbc41"
            ],
            [
             0.9,
             "#4d9221"
            ],
            [
             1,
             "#276419"
            ]
           ],
           "sequential": [
            [
             0,
             "#0d0887"
            ],
            [
             0.1111111111111111,
             "#46039f"
            ],
            [
             0.2222222222222222,
             "#7201a8"
            ],
            [
             0.3333333333333333,
             "#9c179e"
            ],
            [
             0.4444444444444444,
             "#bd3786"
            ],
            [
             0.5555555555555556,
             "#d8576b"
            ],
            [
             0.6666666666666666,
             "#ed7953"
            ],
            [
             0.7777777777777778,
             "#fb9f3a"
            ],
            [
             0.8888888888888888,
             "#fdca26"
            ],
            [
             1,
             "#f0f921"
            ]
           ],
           "sequentialminus": [
            [
             0,
             "#0d0887"
            ],
            [
             0.1111111111111111,
             "#46039f"
            ],
            [
             0.2222222222222222,
             "#7201a8"
            ],
            [
             0.3333333333333333,
             "#9c179e"
            ],
            [
             0.4444444444444444,
             "#bd3786"
            ],
            [
             0.5555555555555556,
             "#d8576b"
            ],
            [
             0.6666666666666666,
             "#ed7953"
            ],
            [
             0.7777777777777778,
             "#fb9f3a"
            ],
            [
             0.8888888888888888,
             "#fdca26"
            ],
            [
             1,
             "#f0f921"
            ]
           ]
          },
          "colorway": [
           "#636efa",
           "#EF553B",
           "#00cc96",
           "#ab63fa",
           "#FFA15A",
           "#19d3f3",
           "#FF6692",
           "#B6E880",
           "#FF97FF",
           "#FECB52"
          ],
          "font": {
           "color": "#2a3f5f"
          },
          "geo": {
           "bgcolor": "white",
           "lakecolor": "white",
           "landcolor": "#E5ECF6",
           "showlakes": true,
           "showland": true,
           "subunitcolor": "white"
          },
          "hoverlabel": {
           "align": "left"
          },
          "hovermode": "closest",
          "mapbox": {
           "style": "light"
          },
          "paper_bgcolor": "white",
          "plot_bgcolor": "#E5ECF6",
          "polar": {
           "angularaxis": {
            "gridcolor": "white",
            "linecolor": "white",
            "ticks": ""
           },
           "bgcolor": "#E5ECF6",
           "radialaxis": {
            "gridcolor": "white",
            "linecolor": "white",
            "ticks": ""
           }
          },
          "scene": {
           "xaxis": {
            "backgroundcolor": "#E5ECF6",
            "gridcolor": "white",
            "gridwidth": 2,
            "linecolor": "white",
            "showbackground": true,
            "ticks": "",
            "zerolinecolor": "white"
           },
           "yaxis": {
            "backgroundcolor": "#E5ECF6",
            "gridcolor": "white",
            "gridwidth": 2,
            "linecolor": "white",
            "showbackground": true,
            "ticks": "",
            "zerolinecolor": "white"
           },
           "zaxis": {
            "backgroundcolor": "#E5ECF6",
            "gridcolor": "white",
            "gridwidth": 2,
            "linecolor": "white",
            "showbackground": true,
            "ticks": "",
            "zerolinecolor": "white"
           }
          },
          "shapedefaults": {
           "line": {
            "color": "#2a3f5f"
           }
          },
          "ternary": {
           "aaxis": {
            "gridcolor": "white",
            "linecolor": "white",
            "ticks": ""
           },
           "baxis": {
            "gridcolor": "white",
            "linecolor": "white",
            "ticks": ""
           },
           "bgcolor": "#E5ECF6",
           "caxis": {
            "gridcolor": "white",
            "linecolor": "white",
            "ticks": ""
           }
          },
          "title": {
           "x": 0.05
          },
          "xaxis": {
           "automargin": true,
           "gridcolor": "white",
           "linecolor": "white",
           "ticks": "",
           "title": {
            "standoff": 15
           },
           "zerolinecolor": "white",
           "zerolinewidth": 2
          },
          "yaxis": {
           "automargin": true,
           "gridcolor": "white",
           "linecolor": "white",
           "ticks": "",
           "title": {
            "standoff": 15
           },
           "zerolinecolor": "white",
           "zerolinewidth": 2
          }
         }
        },
        "title": {
         "text": "Price vs rooms"
        },
        "xaxis": {
         "anchor": "y",
         "domain": [
          0,
          1
         ],
         "title": {
          "text": "rooms"
         }
        },
        "yaxis": {
         "anchor": "x",
         "domain": [
          0,
          1
         ],
         "title": {
          "text": "last_price"
         }
        }
       }
      }
     },
     "metadata": {},
     "output_type": "display_data"
    },
    {
     "data": {
      "application/vnd.plotly.v1+json": {
       "config": {
        "plotlyServerURL": "https://plot.ly"
       },
       "data": [
        {
         "hovertemplate": "kitchen_area=%{x}<br>last_price=%{y}<extra></extra>",
         "legendgroup": "",
         "marker": {
          "color": "#636efa",
          "symbol": "circle"
         },
         "mode": "markers",
         "name": "",
         "orientation": "v",
         "showlegend": false,
         "type": "scatter",
         "x": [
          14,
          null,
          10,
          7.9,
          11,
          12,
          null,
          13.6,
          26,
          9.7,
          11,
          12.1,
          14.8,
          17.7,
          62,
          8.1,
          8.1,
          8.1,
          8,
          63,
          null,
          19.7,
          13,
          8.8,
          13.1,
          5.4,
          9.5,
          7,
          15,
          16.6,
          10.7,
          6.1,
          5.8,
          15.4,
          8,
          6.3,
          8,
          9,
          5,
          13.4,
          7,
          null,
          15,
          12.4,
          8.4,
          10,
          7.1,
          null,
          6,
          12,
          12.2,
          null,
          11,
          10.1,
          13.6,
          12,
          11.5,
          8,
          6.6,
          8.5,
          7,
          6,
          15,
          8.5,
          14,
          10.9,
          13.4,
          6.3,
          null,
          8,
          8.1,
          10,
          8.1,
          null,
          16.2,
          10,
          16.9,
          14,
          8.6,
          null,
          10.3,
          8,
          6.5,
          null,
          13.2,
          8,
          8,
          6.5,
          9.5,
          8.6,
          12,
          null,
          8,
          12,
          5.7,
          11.3,
          11,
          6,
          6.7,
          8,
          7,
          6,
          6.2,
          11,
          6,
          5.6,
          11.8,
          7.7,
          22,
          5,
          null,
          8.7,
          11.7,
          6.6,
          13,
          6,
          15,
          42.4,
          12.1,
          6,
          14,
          7.5,
          8,
          7,
          5.4,
          45,
          6.7,
          12,
          6,
          null,
          6,
          7.4,
          null,
          8.7,
          12.1,
          11,
          11,
          13.2,
          10,
          9,
          15,
          10.1,
          6.4,
          null,
          10,
          6.5,
          10.6,
          15,
          5.1,
          15.1,
          10,
          15,
          8.4,
          16.8,
          8.2,
          null,
          6.3,
          8,
          20.5,
          10.3,
          12,
          8.5,
          10,
          10,
          6,
          7.7,
          45,
          13,
          26,
          8.2,
          6,
          11,
          11,
          15,
          null,
          null,
          9,
          11,
          14.4,
          5.6,
          27.6,
          null,
          11,
          10.7,
          12.9,
          8,
          10,
          8.3,
          14,
          9.5,
          11,
          10.3,
          5.9,
          11,
          9.5,
          null,
          6.7,
          8.5,
          6.3,
          10.1,
          null,
          9.8,
          8,
          11.7,
          12,
          10,
          null,
          11.9,
          9.3,
          8,
          8.3,
          10.3,
          6,
          16,
          9.7,
          6.5,
          8,
          8,
          8.8,
          12.6,
          11,
          10.4,
          29,
          10,
          7,
          12,
          12,
          15.4,
          10.6,
          11,
          null,
          9,
          7,
          12,
          7.5,
          11.5,
          15.3,
          10.7,
          31,
          15.8,
          6,
          9.7,
          10.9,
          11.5,
          8.3,
          33.9,
          null,
          null,
          7.2,
          16,
          24.7,
          13,
          21.5,
          6,
          13.1,
          null,
          11,
          null,
          10,
          8.5,
          11.3,
          8.4,
          8,
          6.4,
          7.5,
          7.8,
          null,
          6.2,
          8.3,
          10.4,
          10,
          5,
          10,
          null,
          9.1,
          8.5,
          13.7,
          18.1,
          13.8,
          7,
          11,
          12.3,
          14.8,
          9,
          11.5,
          10.7,
          14.3,
          10.1,
          24.3,
          12,
          null,
          13,
          19.3,
          8.5,
          9,
          11,
          10.5,
          18.8,
          6,
          26,
          16.9,
          11.5,
          7.5,
          10.2,
          8.4,
          10,
          7.5,
          6.2,
          14,
          9.1,
          6,
          6.9,
          10,
          11,
          7.4,
          6,
          14.3,
          19,
          9,
          7.4,
          8.4,
          null,
          15,
          10,
          10,
          13,
          5.3,
          6.2,
          12,
          10,
          8.4,
          7,
          8,
          42.8,
          6.3,
          19,
          17.1,
          41,
          19.9,
          10,
          5.8,
          7.1,
          8,
          11,
          17.7,
          10.2,
          8.1,
          7.3,
          7.1,
          9.8,
          7,
          6,
          8,
          10,
          12.5,
          11.2,
          14.5,
          25,
          10.4,
          8.9,
          10,
          8.1,
          8.7,
          10.2,
          6.7,
          10.6,
          13.6,
          11.4,
          10,
          6.6,
          9,
          8.3,
          5,
          19.9,
          13,
          9.5,
          10,
          9,
          8,
          6,
          null,
          11,
          7,
          13,
          7.6,
          14.2,
          6,
          8.7,
          40.3,
          8.4,
          null,
          7,
          12.1,
          13,
          11.5,
          9.1,
          8.1,
          10.4,
          30,
          8.5,
          10,
          10,
          9.1,
          12.8,
          10.5,
          15.4,
          10.7,
          9.5,
          null,
          11.8,
          13.8,
          11.3,
          13,
          10.2,
          7.3,
          null,
          10,
          15.6,
          10.6,
          12,
          11.9,
          7.5,
          22.9,
          13,
          7.9,
          8.2,
          9,
          14.2,
          9.7,
          8.4,
          7.1,
          5.2,
          10.2,
          15,
          10,
          9.2,
          8.6,
          6,
          12,
          6.2,
          15.9,
          6.2,
          13.5,
          10.6,
          8.1,
          null,
          8,
          10.4,
          15,
          8.3,
          11,
          10,
          null,
          6.2,
          6.5,
          10,
          9.2,
          27.4,
          19.5,
          8,
          6.5,
          10.2,
          5.5,
          10.2,
          8.1,
          12.1,
          10,
          5.7,
          7.7,
          7.8,
          13,
          null,
          12,
          7,
          11,
          null,
          8.3,
          5.3,
          12.6,
          10.4,
          6.9,
          15,
          6.9,
          10.6,
          9,
          5.6,
          null,
          20.9,
          8.5,
          5,
          10.7,
          15.4,
          7,
          14.5,
          5.7,
          6.4,
          9.7,
          6.5,
          10,
          10
         ],
         "xaxis": "x",
         "y": [
          95000,
          232857,
          55714,
          91429,
          70000,
          107143,
          53571,
          108571,
          155714,
          53071,
          97857,
          171414,
          192857,
          250000,
          785714,
          80714,
          127143,
          91429,
          90000,
          571429,
          54286,
          192857,
          128571,
          104286,
          202857,
          64286,
          72714,
          39714,
          108571,
          357143,
          87286,
          52571,
          62857,
          250000,
          91429,
          74286,
          77143,
          52714,
          52857,
          199857,
          78571,
          162857,
          117143,
          251429,
          67857,
          127143,
          56429,
          32143,
          94286,
          107143,
          120714,
          47143,
          120000,
          65000,
          86446,
          82857,
          75000,
          79286,
          54286,
          56429,
          77143,
          50000,
          118571,
          104286,
          71429,
          46571,
          85000,
          75000,
          45000,
          50000,
          70714,
          67843,
          38571,
          62857,
          70714,
          60714,
          268243,
          85000,
          74714,
          71429,
          91714,
          77143,
          75000,
          57857,
          72857,
          49143,
          65000,
          70000,
          65000,
          66429,
          132857,
          74303,
          92143,
          95714,
          78571,
          120714,
          92857,
          41357,
          59286,
          64286,
          71286,
          45286,
          75000,
          75000,
          75714,
          40000,
          148093,
          145714,
          428571,
          55000,
          47143,
          59286,
          111286,
          52857,
          153571,
          82857,
          171429,
          357143,
          71286,
          45000,
          91286,
          55714,
          65000,
          54286,
          57143,
          314286,
          58571,
          78571,
          52857,
          71429,
          60000,
          92143,
          72857,
          59286,
          60746,
          145714,
          52371,
          132857,
          151429,
          60000,
          72857,
          79286,
          44286,
          68571,
          78571,
          58571,
          77129,
          74286,
          51429,
          92857,
          60000,
          184286,
          64143,
          174286,
          52000,
          50714,
          50000,
          211429,
          77302,
          66429,
          83571,
          99857,
          122857,
          104286,
          72857,
          88571,
          371429,
          111100,
          214286,
          77143,
          47143,
          84143,
          53071,
          471429,
          50000,
          124286,
          62857,
          82857,
          237143,
          53571,
          460714,
          72857,
          57143,
          80714,
          53714,
          53571,
          95714,
          56143,
          111429,
          78571,
          118571,
          52857,
          97143,
          93571,
          57000,
          67857,
          65714,
          65714,
          81786,
          71429,
          60714,
          87143,
          54286,
          111111,
          74286,
          80000,
          38571,
          111429,
          42857,
          102143,
          62714,
          105714,
          35714,
          499700,
          54286,
          63571,
          87857,
          90714,
          86429,
          54286,
          85143,
          71286,
          371429,
          49714,
          67143,
          142286,
          116429,
          232143,
          69286,
          83557,
          113571,
          77143,
          88571,
          207143,
          85429,
          75714,
          98429,
          55571,
          364286,
          211143,
          58571,
          131429,
          60714,
          114286,
          109857,
          205714,
          79929,
          95000,
          71429,
          74286,
          414286,
          70000,
          225729,
          55714,
          78429,
          47143,
          121714,
          64271,
          71429,
          85000,
          107143,
          92857,
          71286,
          57143,
          96429,
          87143,
          52143,
          60714,
          88500,
          112143,
          71429,
          67143,
          58571,
          142855,
          120286,
          73857,
          117143,
          270000,
          129600,
          48143,
          92843,
          71286,
          111429,
          126429,
          78571,
          59286,
          50000,
          52143,
          207143,
          75000,
          49786,
          87143,
          246429,
          73571,
          271429,
          62143,
          78571,
          164286,
          60000,
          134286,
          171429,
          118571,
          100000,
          231102,
          88571,
          80000,
          64143,
          82857,
          91429,
          111429,
          40714,
          54286,
          78429,
          52143,
          52677,
          50714,
          56714,
          328571,
          100000,
          79286,
          52857,
          52957,
          137143,
          64286,
          71286,
          108571,
          67857,
          45714,
          92857,
          141429,
          63571,
          60714,
          60000,
          257143,
          40000,
          57143,
          132857,
          142857,
          72857,
          214286,
          48571,
          79857,
          70000,
          64286,
          255000,
          54857,
          82986,
          92857,
          52857,
          91939,
          52143,
          60714,
          60000,
          135714,
          85571,
          90000,
          56714,
          185714,
          122571,
          70000,
          55714,
          58571,
          76143,
          74286,
          55714,
          124286,
          207143,
          85714,
          92857,
          52857,
          117143,
          67857,
          73571,
          121429,
          82857,
          62857,
          171429,
          85714,
          82714,
          58571,
          64286,
          67857,
          45714,
          114000,
          111429,
          141429,
          48571,
          48571,
          360000,
          102143,
          62714,
          80000,
          149857,
          56857,
          100000,
          61429,
          53571,
          54643,
          171414,
          109286,
          121429,
          67143,
          238571,
          227857,
          101429,
          67143,
          58414,
          56429,
          114286,
          132857,
          260094,
          124286,
          88571,
          171429,
          132000,
          64286,
          54286,
          161714,
          104357,
          57143,
          65000,
          64286,
          201429,
          107143,
          85714,
          52143,
          57143,
          253621,
          56429,
          47143,
          54857,
          54286,
          63357,
          150000,
          72714,
          76714,
          84571,
          75714,
          99857,
          71143,
          235111,
          69286,
          85286,
          105000,
          82857,
          92143,
          45686,
          52143,
          180000,
          53571,
          168500,
          61571,
          135714,
          72857,
          92143,
          92857,
          94643,
          354286,
          134000,
          47000,
          57000,
          68214,
          59286,
          185714,
          64143,
          167857,
          93571,
          63571,
          55571,
          58429,
          115714,
          469915,
          131429,
          52143,
          112857,
          465000,
          72843,
          145714,
          174080,
          107143,
          78571,
          98571,
          70000,
          128571,
          64286,
          59286,
          125714,
          184286,
          99857,
          44286,
          113602,
          120700,
          79143,
          285714,
          37857,
          74286,
          58571,
          50000,
          77143,
          112857
         ],
         "yaxis": "y"
        }
       ],
       "layout": {
        "legend": {
         "tracegroupgap": 0
        },
        "template": {
         "data": {
          "bar": [
           {
            "error_x": {
             "color": "#2a3f5f"
            },
            "error_y": {
             "color": "#2a3f5f"
            },
            "marker": {
             "line": {
              "color": "#E5ECF6",
              "width": 0.5
             },
             "pattern": {
              "fillmode": "overlay",
              "size": 10,
              "solidity": 0.2
             }
            },
            "type": "bar"
           }
          ],
          "barpolar": [
           {
            "marker": {
             "line": {
              "color": "#E5ECF6",
              "width": 0.5
             },
             "pattern": {
              "fillmode": "overlay",
              "size": 10,
              "solidity": 0.2
             }
            },
            "type": "barpolar"
           }
          ],
          "carpet": [
           {
            "aaxis": {
             "endlinecolor": "#2a3f5f",
             "gridcolor": "white",
             "linecolor": "white",
             "minorgridcolor": "white",
             "startlinecolor": "#2a3f5f"
            },
            "baxis": {
             "endlinecolor": "#2a3f5f",
             "gridcolor": "white",
             "linecolor": "white",
             "minorgridcolor": "white",
             "startlinecolor": "#2a3f5f"
            },
            "type": "carpet"
           }
          ],
          "choropleth": [
           {
            "colorbar": {
             "outlinewidth": 0,
             "ticks": ""
            },
            "type": "choropleth"
           }
          ],
          "contour": [
           {
            "colorbar": {
             "outlinewidth": 0,
             "ticks": ""
            },
            "colorscale": [
             [
              0,
              "#0d0887"
             ],
             [
              0.1111111111111111,
              "#46039f"
             ],
             [
              0.2222222222222222,
              "#7201a8"
             ],
             [
              0.3333333333333333,
              "#9c179e"
             ],
             [
              0.4444444444444444,
              "#bd3786"
             ],
             [
              0.5555555555555556,
              "#d8576b"
             ],
             [
              0.6666666666666666,
              "#ed7953"
             ],
             [
              0.7777777777777778,
              "#fb9f3a"
             ],
             [
              0.8888888888888888,
              "#fdca26"
             ],
             [
              1,
              "#f0f921"
             ]
            ],
            "type": "contour"
           }
          ],
          "contourcarpet": [
           {
            "colorbar": {
             "outlinewidth": 0,
             "ticks": ""
            },
            "type": "contourcarpet"
           }
          ],
          "heatmap": [
           {
            "colorbar": {
             "outlinewidth": 0,
             "ticks": ""
            },
            "colorscale": [
             [
              0,
              "#0d0887"
             ],
             [
              0.1111111111111111,
              "#46039f"
             ],
             [
              0.2222222222222222,
              "#7201a8"
             ],
             [
              0.3333333333333333,
              "#9c179e"
             ],
             [
              0.4444444444444444,
              "#bd3786"
             ],
             [
              0.5555555555555556,
              "#d8576b"
             ],
             [
              0.6666666666666666,
              "#ed7953"
             ],
             [
              0.7777777777777778,
              "#fb9f3a"
             ],
             [
              0.8888888888888888,
              "#fdca26"
             ],
             [
              1,
              "#f0f921"
             ]
            ],
            "type": "heatmap"
           }
          ],
          "heatmapgl": [
           {
            "colorbar": {
             "outlinewidth": 0,
             "ticks": ""
            },
            "colorscale": [
             [
              0,
              "#0d0887"
             ],
             [
              0.1111111111111111,
              "#46039f"
             ],
             [
              0.2222222222222222,
              "#7201a8"
             ],
             [
              0.3333333333333333,
              "#9c179e"
             ],
             [
              0.4444444444444444,
              "#bd3786"
             ],
             [
              0.5555555555555556,
              "#d8576b"
             ],
             [
              0.6666666666666666,
              "#ed7953"
             ],
             [
              0.7777777777777778,
              "#fb9f3a"
             ],
             [
              0.8888888888888888,
              "#fdca26"
             ],
             [
              1,
              "#f0f921"
             ]
            ],
            "type": "heatmapgl"
           }
          ],
          "histogram": [
           {
            "marker": {
             "pattern": {
              "fillmode": "overlay",
              "size": 10,
              "solidity": 0.2
             }
            },
            "type": "histogram"
           }
          ],
          "histogram2d": [
           {
            "colorbar": {
             "outlinewidth": 0,
             "ticks": ""
            },
            "colorscale": [
             [
              0,
              "#0d0887"
             ],
             [
              0.1111111111111111,
              "#46039f"
             ],
             [
              0.2222222222222222,
              "#7201a8"
             ],
             [
              0.3333333333333333,
              "#9c179e"
             ],
             [
              0.4444444444444444,
              "#bd3786"
             ],
             [
              0.5555555555555556,
              "#d8576b"
             ],
             [
              0.6666666666666666,
              "#ed7953"
             ],
             [
              0.7777777777777778,
              "#fb9f3a"
             ],
             [
              0.8888888888888888,
              "#fdca26"
             ],
             [
              1,
              "#f0f921"
             ]
            ],
            "type": "histogram2d"
           }
          ],
          "histogram2dcontour": [
           {
            "colorbar": {
             "outlinewidth": 0,
             "ticks": ""
            },
            "colorscale": [
             [
              0,
              "#0d0887"
             ],
             [
              0.1111111111111111,
              "#46039f"
             ],
             [
              0.2222222222222222,
              "#7201a8"
             ],
             [
              0.3333333333333333,
              "#9c179e"
             ],
             [
              0.4444444444444444,
              "#bd3786"
             ],
             [
              0.5555555555555556,
              "#d8576b"
             ],
             [
              0.6666666666666666,
              "#ed7953"
             ],
             [
              0.7777777777777778,
              "#fb9f3a"
             ],
             [
              0.8888888888888888,
              "#fdca26"
             ],
             [
              1,
              "#f0f921"
             ]
            ],
            "type": "histogram2dcontour"
           }
          ],
          "mesh3d": [
           {
            "colorbar": {
             "outlinewidth": 0,
             "ticks": ""
            },
            "type": "mesh3d"
           }
          ],
          "parcoords": [
           {
            "line": {
             "colorbar": {
              "outlinewidth": 0,
              "ticks": ""
             }
            },
            "type": "parcoords"
           }
          ],
          "pie": [
           {
            "automargin": true,
            "type": "pie"
           }
          ],
          "scatter": [
           {
            "fillpattern": {
             "fillmode": "overlay",
             "size": 10,
             "solidity": 0.2
            },
            "type": "scatter"
           }
          ],
          "scatter3d": [
           {
            "line": {
             "colorbar": {
              "outlinewidth": 0,
              "ticks": ""
             }
            },
            "marker": {
             "colorbar": {
              "outlinewidth": 0,
              "ticks": ""
             }
            },
            "type": "scatter3d"
           }
          ],
          "scattercarpet": [
           {
            "marker": {
             "colorbar": {
              "outlinewidth": 0,
              "ticks": ""
             }
            },
            "type": "scattercarpet"
           }
          ],
          "scattergeo": [
           {
            "marker": {
             "colorbar": {
              "outlinewidth": 0,
              "ticks": ""
             }
            },
            "type": "scattergeo"
           }
          ],
          "scattergl": [
           {
            "marker": {
             "colorbar": {
              "outlinewidth": 0,
              "ticks": ""
             }
            },
            "type": "scattergl"
           }
          ],
          "scattermapbox": [
           {
            "marker": {
             "colorbar": {
              "outlinewidth": 0,
              "ticks": ""
             }
            },
            "type": "scattermapbox"
           }
          ],
          "scatterpolar": [
           {
            "marker": {
             "colorbar": {
              "outlinewidth": 0,
              "ticks": ""
             }
            },
            "type": "scatterpolar"
           }
          ],
          "scatterpolargl": [
           {
            "marker": {
             "colorbar": {
              "outlinewidth": 0,
              "ticks": ""
             }
            },
            "type": "scatterpolargl"
           }
          ],
          "scatterternary": [
           {
            "marker": {
             "colorbar": {
              "outlinewidth": 0,
              "ticks": ""
             }
            },
            "type": "scatterternary"
           }
          ],
          "surface": [
           {
            "colorbar": {
             "outlinewidth": 0,
             "ticks": ""
            },
            "colorscale": [
             [
              0,
              "#0d0887"
             ],
             [
              0.1111111111111111,
              "#46039f"
             ],
             [
              0.2222222222222222,
              "#7201a8"
             ],
             [
              0.3333333333333333,
              "#9c179e"
             ],
             [
              0.4444444444444444,
              "#bd3786"
             ],
             [
              0.5555555555555556,
              "#d8576b"
             ],
             [
              0.6666666666666666,
              "#ed7953"
             ],
             [
              0.7777777777777778,
              "#fb9f3a"
             ],
             [
              0.8888888888888888,
              "#fdca26"
             ],
             [
              1,
              "#f0f921"
             ]
            ],
            "type": "surface"
           }
          ],
          "table": [
           {
            "cells": {
             "fill": {
              "color": "#EBF0F8"
             },
             "line": {
              "color": "white"
             }
            },
            "header": {
             "fill": {
              "color": "#C8D4E3"
             },
             "line": {
              "color": "white"
             }
            },
            "type": "table"
           }
          ]
         },
         "layout": {
          "annotationdefaults": {
           "arrowcolor": "#2a3f5f",
           "arrowhead": 0,
           "arrowwidth": 1
          },
          "autotypenumbers": "strict",
          "coloraxis": {
           "colorbar": {
            "outlinewidth": 0,
            "ticks": ""
           }
          },
          "colorscale": {
           "diverging": [
            [
             0,
             "#8e0152"
            ],
            [
             0.1,
             "#c51b7d"
            ],
            [
             0.2,
             "#de77ae"
            ],
            [
             0.3,
             "#f1b6da"
            ],
            [
             0.4,
             "#fde0ef"
            ],
            [
             0.5,
             "#f7f7f7"
            ],
            [
             0.6,
             "#e6f5d0"
            ],
            [
             0.7,
             "#b8e186"
            ],
            [
             0.8,
             "#7fbc41"
            ],
            [
             0.9,
             "#4d9221"
            ],
            [
             1,
             "#276419"
            ]
           ],
           "sequential": [
            [
             0,
             "#0d0887"
            ],
            [
             0.1111111111111111,
             "#46039f"
            ],
            [
             0.2222222222222222,
             "#7201a8"
            ],
            [
             0.3333333333333333,
             "#9c179e"
            ],
            [
             0.4444444444444444,
             "#bd3786"
            ],
            [
             0.5555555555555556,
             "#d8576b"
            ],
            [
             0.6666666666666666,
             "#ed7953"
            ],
            [
             0.7777777777777778,
             "#fb9f3a"
            ],
            [
             0.8888888888888888,
             "#fdca26"
            ],
            [
             1,
             "#f0f921"
            ]
           ],
           "sequentialminus": [
            [
             0,
             "#0d0887"
            ],
            [
             0.1111111111111111,
             "#46039f"
            ],
            [
             0.2222222222222222,
             "#7201a8"
            ],
            [
             0.3333333333333333,
             "#9c179e"
            ],
            [
             0.4444444444444444,
             "#bd3786"
            ],
            [
             0.5555555555555556,
             "#d8576b"
            ],
            [
             0.6666666666666666,
             "#ed7953"
            ],
            [
             0.7777777777777778,
             "#fb9f3a"
            ],
            [
             0.8888888888888888,
             "#fdca26"
            ],
            [
             1,
             "#f0f921"
            ]
           ]
          },
          "colorway": [
           "#636efa",
           "#EF553B",
           "#00cc96",
           "#ab63fa",
           "#FFA15A",
           "#19d3f3",
           "#FF6692",
           "#B6E880",
           "#FF97FF",
           "#FECB52"
          ],
          "font": {
           "color": "#2a3f5f"
          },
          "geo": {
           "bgcolor": "white",
           "lakecolor": "white",
           "landcolor": "#E5ECF6",
           "showlakes": true,
           "showland": true,
           "subunitcolor": "white"
          },
          "hoverlabel": {
           "align": "left"
          },
          "hovermode": "closest",
          "mapbox": {
           "style": "light"
          },
          "paper_bgcolor": "white",
          "plot_bgcolor": "#E5ECF6",
          "polar": {
           "angularaxis": {
            "gridcolor": "white",
            "linecolor": "white",
            "ticks": ""
           },
           "bgcolor": "#E5ECF6",
           "radialaxis": {
            "gridcolor": "white",
            "linecolor": "white",
            "ticks": ""
           }
          },
          "scene": {
           "xaxis": {
            "backgroundcolor": "#E5ECF6",
            "gridcolor": "white",
            "gridwidth": 2,
            "linecolor": "white",
            "showbackground": true,
            "ticks": "",
            "zerolinecolor": "white"
           },
           "yaxis": {
            "backgroundcolor": "#E5ECF6",
            "gridcolor": "white",
            "gridwidth": 2,
            "linecolor": "white",
            "showbackground": true,
            "ticks": "",
            "zerolinecolor": "white"
           },
           "zaxis": {
            "backgroundcolor": "#E5ECF6",
            "gridcolor": "white",
            "gridwidth": 2,
            "linecolor": "white",
            "showbackground": true,
            "ticks": "",
            "zerolinecolor": "white"
           }
          },
          "shapedefaults": {
           "line": {
            "color": "#2a3f5f"
           }
          },
          "ternary": {
           "aaxis": {
            "gridcolor": "white",
            "linecolor": "white",
            "ticks": ""
           },
           "baxis": {
            "gridcolor": "white",
            "linecolor": "white",
            "ticks": ""
           },
           "bgcolor": "#E5ECF6",
           "caxis": {
            "gridcolor": "white",
            "linecolor": "white",
            "ticks": ""
           }
          },
          "title": {
           "x": 0.05
          },
          "xaxis": {
           "automargin": true,
           "gridcolor": "white",
           "linecolor": "white",
           "ticks": "",
           "title": {
            "standoff": 15
           },
           "zerolinecolor": "white",
           "zerolinewidth": 2
          },
          "yaxis": {
           "automargin": true,
           "gridcolor": "white",
           "linecolor": "white",
           "ticks": "",
           "title": {
            "standoff": 15
           },
           "zerolinecolor": "white",
           "zerolinewidth": 2
          }
         }
        },
        "title": {
         "text": "Price vs kitchen_area"
        },
        "xaxis": {
         "anchor": "y",
         "domain": [
          0,
          1
         ],
         "title": {
          "text": "kitchen_area"
         }
        },
        "yaxis": {
         "anchor": "x",
         "domain": [
          0,
          1
         ],
         "title": {
          "text": "last_price"
         }
        }
       }
      }
     },
     "metadata": {},
     "output_type": "display_data"
    },
    {
     "data": {
      "application/vnd.plotly.v1+json": {
       "config": {
        "plotlyServerURL": "https://plot.ly"
       },
       "data": [
        {
         "hovertemplate": "living_area=%{x}<br>last_price=%{y}<extra></extra>",
         "legendgroup": "",
         "marker": {
          "color": "#636efa",
          "symbol": "circle"
         },
         "mode": "markers",
         "name": "",
         "orientation": "v",
         "showlegend": false,
         "type": "scatter",
         "x": [
          65.3,
          60.5,
          33,
          32.8,
          37.7,
          51.7,
          null,
          16.3,
          47,
          15.6,
          42,
          68.9,
          67.3,
          81.6,
          100.7,
          37.5,
          49.8,
          33.5,
          36,
          45.2,
          30,
          57.2,
          32.3,
          30.2,
          89.5,
          37.7,
          30.5,
          17,
          20,
          222,
          20.8,
          28.7,
          36.9,
          112.7,
          48,
          39.4,
          30,
          17.5,
          26.5,
          34.8,
          30,
          64.5,
          47,
          92.3,
          16.9,
          58,
          28.4,
          null,
          55.5,
          18,
          39.1,
          23,
          50,
          20.1,
          19,
          20.8,
          15.4,
          33.1,
          21.2,
          21,
          42,
          18,
          33.2,
          47,
          19,
          15.4,
          43,
          43.4,
          null,
          31,
          28,
          28,
          15.5,
          null,
          19.3,
          15,
          125.1,
          17,
          27,
          null,
          25.6,
          35.9,
          38.6,
          null,
          16.6,
          18,
          31.5,
          22.5,
          19.8,
          18.4,
          58,
          null,
          40,
          46.4,
          31.8,
          47.1,
          41,
          17.1,
          27.6,
          27,
          38.5,
          27,
          39.4,
          40,
          42,
          17,
          52.2,
          37,
          114,
          29,
          null,
          15.4,
          18.8,
          30.3,
          48.7,
          37,
          70,
          57.7,
          32.3,
          18,
          64,
          null,
          32,
          28.2,
          29.3,
          97,
          20,
          20,
          28,
          18,
          30,
          35.1,
          null,
          17.6,
          31.8,
          48,
          16,
          30.2,
          76.3,
          19.2,
          29,
          17.6,
          18.3,
          41,
          35,
          28,
          19.3,
          20,
          31.6,
          46.6,
          20,
          54,
          16.7,
          47,
          20.1,
          null,
          18.4,
          72.4,
          22.3,
          20,
          25,
          34.5,
          33,
          38,
          28,
          18.6,
          141,
          32,
          43,
          32.4,
          17,
          36,
          16,
          102,
          null,
          71.1,
          14.6,
          43.6,
          131,
          30.3,
          264.5,
          null,
          18,
          37.2,
          19.6,
          21,
          30,
          17.8,
          38,
          null,
          68.7,
          16.3,
          70.5,
          36,
          16.2,
          null,
          37.1,
          30.4,
          46.6,
          17.2,
          16,
          5.4,
          17,
          40.5,
          19.3,
          42.9,
          21.6,
          49.4,
          13.1,
          37,
          18.3,
          26.5,
          18,
          147,
          24.8,
          43,
          44.7,
          49.6,
          30,
          19.3,
          32,
          17.5,
          63,
          18,
          26,
          40,
          41,
          159.2,
          21.7,
          33,
          null,
          65,
          29.3,
          55,
          33,
          21.1,
          44.8,
          16,
          76,
          33.9,
          29.6,
          59,
          17,
          52.7,
          43.1,
          38.3,
          40.5,
          30.5,
          28.6,
          17.4,
          55.7,
          45,
          67.5,
          43,
          37.1,
          37.5,
          33,
          null,
          31.3,
          32.1,
          63.8,
          43.3,
          20,
          17.9,
          40.6,
          46,
          23.4,
          25.1,
          34,
          40,
          16,
          28.2,
          18,
          31,
          28.9,
          32,
          51,
          78.6,
          34.4,
          20,
          20,
          15.5,
          46.5,
          49,
          32,
          20,
          10.4,
          17.7,
          55.2,
          33,
          null,
          30.5,
          53.2,
          28.5,
          56,
          16,
          42.1,
          50,
          27,
          54.7,
          51,
          41.8,
          44.1,
          45.9,
          32.2,
          22.3,
          20.2,
          38.9,
          22.6,
          51.3,
          18,
          28.6,
          17,
          19,
          null,
          30,
          14.8,
          71,
          44.1,
          33.8,
          18.6,
          null,
          36,
          27,
          10,
          39.1,
          39.4,
          17.8,
          25,
          63,
          25,
          29,
          20,
          49.6,
          18,
          27,
          14.9,
          32,
          11,
          63.1,
          27.5,
          42.2,
          19,
          19,
          72,
          20,
          30,
          25.6,
          35.2,
          null,
          18,
          26.2,
          22,
          76,
          42.1,
          42.3,
          19.5,
          51,
          61.4,
          29,
          18,
          19.9,
          26.1,
          29,
          21.3,
          69.8,
          118.9,
          34.1,
          46,
          15.7,
          52.2,
          31.4,
          40.4,
          35.7,
          27.5,
          18.4,
          64,
          27,
          27,
          19,
          14.6,
          19,
          17.3,
          38.4,
          47.2,
          51.6,
          15,
          14.7,
          null,
          31,
          null,
          40,
          54.9,
          18,
          32,
          24.2,
          16.5,
          null,
          95,
          30,
          58,
          37.6,
          75.1,
          40,
          34.9,
          18.4,
          30.7,
          18.6,
          37.2,
          84.5,
          82.6,
          31.2,
          22.4,
          61.1,
          54.4,
          null,
          15,
          53.7,
          null,
          16.7,
          19.4,
          33,
          19.7,
          38.5,
          46,
          15.5,
          17,
          51.7,
          17.3,
          16.1,
          28.5,
          37.1,
          20,
          33,
          17,
          29.2,
          31.4,
          34,
          28,
          39.4,
          58.4,
          43.2,
          37,
          36.6,
          51.2,
          null,
          17.4,
          18.5,
          50,
          18,
          94,
          null,
          null,
          39.2,
          34,
          54.8,
          17.5,
          99.8,
          82,
          14,
          27,
          24,
          30.8,
          90,
          31,
          51.3,
          14,
          29,
          30,
          29.7,
          26,
          null,
          53.4,
          16.2,
          37,
          null,
          30,
          51.7,
          51.1,
          48.8,
          37.2,
          46,
          32.8,
          32.5,
          17,
          30.4,
          null,
          95.2,
          51.1,
          19,
          35.8,
          40.1,
          42.2,
          66.4,
          17.4,
          49.1,
          14.4,
          20.5,
          18,
          48
         ],
         "xaxis": "x",
         "y": [
          95000,
          232857,
          55714,
          91429,
          70000,
          107143,
          53571,
          108571,
          155714,
          53071,
          97857,
          171414,
          192857,
          250000,
          785714,
          80714,
          127143,
          91429,
          90000,
          571429,
          54286,
          192857,
          128571,
          104286,
          202857,
          64286,
          72714,
          39714,
          108571,
          357143,
          87286,
          52571,
          62857,
          250000,
          91429,
          74286,
          77143,
          52714,
          52857,
          199857,
          78571,
          162857,
          117143,
          251429,
          67857,
          127143,
          56429,
          32143,
          94286,
          107143,
          120714,
          47143,
          120000,
          65000,
          86446,
          82857,
          75000,
          79286,
          54286,
          56429,
          77143,
          50000,
          118571,
          104286,
          71429,
          46571,
          85000,
          75000,
          45000,
          50000,
          70714,
          67843,
          38571,
          62857,
          70714,
          60714,
          268243,
          85000,
          74714,
          71429,
          91714,
          77143,
          75000,
          57857,
          72857,
          49143,
          65000,
          70000,
          65000,
          66429,
          132857,
          74303,
          92143,
          95714,
          78571,
          120714,
          92857,
          41357,
          59286,
          64286,
          71286,
          45286,
          75000,
          75000,
          75714,
          40000,
          148093,
          145714,
          428571,
          55000,
          47143,
          59286,
          111286,
          52857,
          153571,
          82857,
          171429,
          357143,
          71286,
          45000,
          91286,
          55714,
          65000,
          54286,
          57143,
          314286,
          58571,
          78571,
          52857,
          71429,
          60000,
          92143,
          72857,
          59286,
          60746,
          145714,
          52371,
          132857,
          151429,
          60000,
          72857,
          79286,
          44286,
          68571,
          78571,
          58571,
          77129,
          74286,
          51429,
          92857,
          60000,
          184286,
          64143,
          174286,
          52000,
          50714,
          50000,
          211429,
          77302,
          66429,
          83571,
          99857,
          122857,
          104286,
          72857,
          88571,
          371429,
          111100,
          214286,
          77143,
          47143,
          84143,
          53071,
          471429,
          50000,
          124286,
          62857,
          82857,
          237143,
          53571,
          460714,
          72857,
          57143,
          80714,
          53714,
          53571,
          95714,
          56143,
          111429,
          78571,
          118571,
          52857,
          97143,
          93571,
          57000,
          67857,
          65714,
          65714,
          81786,
          71429,
          60714,
          87143,
          54286,
          111111,
          74286,
          80000,
          38571,
          111429,
          42857,
          102143,
          62714,
          105714,
          35714,
          499700,
          54286,
          63571,
          87857,
          90714,
          86429,
          54286,
          85143,
          71286,
          371429,
          49714,
          67143,
          142286,
          116429,
          232143,
          69286,
          83557,
          113571,
          77143,
          88571,
          207143,
          85429,
          75714,
          98429,
          55571,
          364286,
          211143,
          58571,
          131429,
          60714,
          114286,
          109857,
          205714,
          79929,
          95000,
          71429,
          74286,
          414286,
          70000,
          225729,
          55714,
          78429,
          47143,
          121714,
          64271,
          71429,
          85000,
          107143,
          92857,
          71286,
          57143,
          96429,
          87143,
          52143,
          60714,
          88500,
          112143,
          71429,
          67143,
          58571,
          142855,
          120286,
          73857,
          117143,
          270000,
          129600,
          48143,
          92843,
          71286,
          111429,
          126429,
          78571,
          59286,
          50000,
          52143,
          207143,
          75000,
          49786,
          87143,
          246429,
          73571,
          271429,
          62143,
          78571,
          164286,
          60000,
          134286,
          171429,
          118571,
          100000,
          231102,
          88571,
          80000,
          64143,
          82857,
          91429,
          111429,
          40714,
          54286,
          78429,
          52143,
          52677,
          50714,
          56714,
          328571,
          100000,
          79286,
          52857,
          52957,
          137143,
          64286,
          71286,
          108571,
          67857,
          45714,
          92857,
          141429,
          63571,
          60714,
          60000,
          257143,
          40000,
          57143,
          132857,
          142857,
          72857,
          214286,
          48571,
          79857,
          70000,
          64286,
          255000,
          54857,
          82986,
          92857,
          52857,
          91939,
          52143,
          60714,
          60000,
          135714,
          85571,
          90000,
          56714,
          185714,
          122571,
          70000,
          55714,
          58571,
          76143,
          74286,
          55714,
          124286,
          207143,
          85714,
          92857,
          52857,
          117143,
          67857,
          73571,
          121429,
          82857,
          62857,
          171429,
          85714,
          82714,
          58571,
          64286,
          67857,
          45714,
          114000,
          111429,
          141429,
          48571,
          48571,
          360000,
          102143,
          62714,
          80000,
          149857,
          56857,
          100000,
          61429,
          53571,
          54643,
          171414,
          109286,
          121429,
          67143,
          238571,
          227857,
          101429,
          67143,
          58414,
          56429,
          114286,
          132857,
          260094,
          124286,
          88571,
          171429,
          132000,
          64286,
          54286,
          161714,
          104357,
          57143,
          65000,
          64286,
          201429,
          107143,
          85714,
          52143,
          57143,
          253621,
          56429,
          47143,
          54857,
          54286,
          63357,
          150000,
          72714,
          76714,
          84571,
          75714,
          99857,
          71143,
          235111,
          69286,
          85286,
          105000,
          82857,
          92143,
          45686,
          52143,
          180000,
          53571,
          168500,
          61571,
          135714,
          72857,
          92143,
          92857,
          94643,
          354286,
          134000,
          47000,
          57000,
          68214,
          59286,
          185714,
          64143,
          167857,
          93571,
          63571,
          55571,
          58429,
          115714,
          469915,
          131429,
          52143,
          112857,
          465000,
          72843,
          145714,
          174080,
          107143,
          78571,
          98571,
          70000,
          128571,
          64286,
          59286,
          125714,
          184286,
          99857,
          44286,
          113602,
          120700,
          79143,
          285714,
          37857,
          74286,
          58571,
          50000,
          77143,
          112857
         ],
         "yaxis": "y"
        }
       ],
       "layout": {
        "legend": {
         "tracegroupgap": 0
        },
        "template": {
         "data": {
          "bar": [
           {
            "error_x": {
             "color": "#2a3f5f"
            },
            "error_y": {
             "color": "#2a3f5f"
            },
            "marker": {
             "line": {
              "color": "#E5ECF6",
              "width": 0.5
             },
             "pattern": {
              "fillmode": "overlay",
              "size": 10,
              "solidity": 0.2
             }
            },
            "type": "bar"
           }
          ],
          "barpolar": [
           {
            "marker": {
             "line": {
              "color": "#E5ECF6",
              "width": 0.5
             },
             "pattern": {
              "fillmode": "overlay",
              "size": 10,
              "solidity": 0.2
             }
            },
            "type": "barpolar"
           }
          ],
          "carpet": [
           {
            "aaxis": {
             "endlinecolor": "#2a3f5f",
             "gridcolor": "white",
             "linecolor": "white",
             "minorgridcolor": "white",
             "startlinecolor": "#2a3f5f"
            },
            "baxis": {
             "endlinecolor": "#2a3f5f",
             "gridcolor": "white",
             "linecolor": "white",
             "minorgridcolor": "white",
             "startlinecolor": "#2a3f5f"
            },
            "type": "carpet"
           }
          ],
          "choropleth": [
           {
            "colorbar": {
             "outlinewidth": 0,
             "ticks": ""
            },
            "type": "choropleth"
           }
          ],
          "contour": [
           {
            "colorbar": {
             "outlinewidth": 0,
             "ticks": ""
            },
            "colorscale": [
             [
              0,
              "#0d0887"
             ],
             [
              0.1111111111111111,
              "#46039f"
             ],
             [
              0.2222222222222222,
              "#7201a8"
             ],
             [
              0.3333333333333333,
              "#9c179e"
             ],
             [
              0.4444444444444444,
              "#bd3786"
             ],
             [
              0.5555555555555556,
              "#d8576b"
             ],
             [
              0.6666666666666666,
              "#ed7953"
             ],
             [
              0.7777777777777778,
              "#fb9f3a"
             ],
             [
              0.8888888888888888,
              "#fdca26"
             ],
             [
              1,
              "#f0f921"
             ]
            ],
            "type": "contour"
           }
          ],
          "contourcarpet": [
           {
            "colorbar": {
             "outlinewidth": 0,
             "ticks": ""
            },
            "type": "contourcarpet"
           }
          ],
          "heatmap": [
           {
            "colorbar": {
             "outlinewidth": 0,
             "ticks": ""
            },
            "colorscale": [
             [
              0,
              "#0d0887"
             ],
             [
              0.1111111111111111,
              "#46039f"
             ],
             [
              0.2222222222222222,
              "#7201a8"
             ],
             [
              0.3333333333333333,
              "#9c179e"
             ],
             [
              0.4444444444444444,
              "#bd3786"
             ],
             [
              0.5555555555555556,
              "#d8576b"
             ],
             [
              0.6666666666666666,
              "#ed7953"
             ],
             [
              0.7777777777777778,
              "#fb9f3a"
             ],
             [
              0.8888888888888888,
              "#fdca26"
             ],
             [
              1,
              "#f0f921"
             ]
            ],
            "type": "heatmap"
           }
          ],
          "heatmapgl": [
           {
            "colorbar": {
             "outlinewidth": 0,
             "ticks": ""
            },
            "colorscale": [
             [
              0,
              "#0d0887"
             ],
             [
              0.1111111111111111,
              "#46039f"
             ],
             [
              0.2222222222222222,
              "#7201a8"
             ],
             [
              0.3333333333333333,
              "#9c179e"
             ],
             [
              0.4444444444444444,
              "#bd3786"
             ],
             [
              0.5555555555555556,
              "#d8576b"
             ],
             [
              0.6666666666666666,
              "#ed7953"
             ],
             [
              0.7777777777777778,
              "#fb9f3a"
             ],
             [
              0.8888888888888888,
              "#fdca26"
             ],
             [
              1,
              "#f0f921"
             ]
            ],
            "type": "heatmapgl"
           }
          ],
          "histogram": [
           {
            "marker": {
             "pattern": {
              "fillmode": "overlay",
              "size": 10,
              "solidity": 0.2
             }
            },
            "type": "histogram"
           }
          ],
          "histogram2d": [
           {
            "colorbar": {
             "outlinewidth": 0,
             "ticks": ""
            },
            "colorscale": [
             [
              0,
              "#0d0887"
             ],
             [
              0.1111111111111111,
              "#46039f"
             ],
             [
              0.2222222222222222,
              "#7201a8"
             ],
             [
              0.3333333333333333,
              "#9c179e"
             ],
             [
              0.4444444444444444,
              "#bd3786"
             ],
             [
              0.5555555555555556,
              "#d8576b"
             ],
             [
              0.6666666666666666,
              "#ed7953"
             ],
             [
              0.7777777777777778,
              "#fb9f3a"
             ],
             [
              0.8888888888888888,
              "#fdca26"
             ],
             [
              1,
              "#f0f921"
             ]
            ],
            "type": "histogram2d"
           }
          ],
          "histogram2dcontour": [
           {
            "colorbar": {
             "outlinewidth": 0,
             "ticks": ""
            },
            "colorscale": [
             [
              0,
              "#0d0887"
             ],
             [
              0.1111111111111111,
              "#46039f"
             ],
             [
              0.2222222222222222,
              "#7201a8"
             ],
             [
              0.3333333333333333,
              "#9c179e"
             ],
             [
              0.4444444444444444,
              "#bd3786"
             ],
             [
              0.5555555555555556,
              "#d8576b"
             ],
             [
              0.6666666666666666,
              "#ed7953"
             ],
             [
              0.7777777777777778,
              "#fb9f3a"
             ],
             [
              0.8888888888888888,
              "#fdca26"
             ],
             [
              1,
              "#f0f921"
             ]
            ],
            "type": "histogram2dcontour"
           }
          ],
          "mesh3d": [
           {
            "colorbar": {
             "outlinewidth": 0,
             "ticks": ""
            },
            "type": "mesh3d"
           }
          ],
          "parcoords": [
           {
            "line": {
             "colorbar": {
              "outlinewidth": 0,
              "ticks": ""
             }
            },
            "type": "parcoords"
           }
          ],
          "pie": [
           {
            "automargin": true,
            "type": "pie"
           }
          ],
          "scatter": [
           {
            "fillpattern": {
             "fillmode": "overlay",
             "size": 10,
             "solidity": 0.2
            },
            "type": "scatter"
           }
          ],
          "scatter3d": [
           {
            "line": {
             "colorbar": {
              "outlinewidth": 0,
              "ticks": ""
             }
            },
            "marker": {
             "colorbar": {
              "outlinewidth": 0,
              "ticks": ""
             }
            },
            "type": "scatter3d"
           }
          ],
          "scattercarpet": [
           {
            "marker": {
             "colorbar": {
              "outlinewidth": 0,
              "ticks": ""
             }
            },
            "type": "scattercarpet"
           }
          ],
          "scattergeo": [
           {
            "marker": {
             "colorbar": {
              "outlinewidth": 0,
              "ticks": ""
             }
            },
            "type": "scattergeo"
           }
          ],
          "scattergl": [
           {
            "marker": {
             "colorbar": {
              "outlinewidth": 0,
              "ticks": ""
             }
            },
            "type": "scattergl"
           }
          ],
          "scattermapbox": [
           {
            "marker": {
             "colorbar": {
              "outlinewidth": 0,
              "ticks": ""
             }
            },
            "type": "scattermapbox"
           }
          ],
          "scatterpolar": [
           {
            "marker": {
             "colorbar": {
              "outlinewidth": 0,
              "ticks": ""
             }
            },
            "type": "scatterpolar"
           }
          ],
          "scatterpolargl": [
           {
            "marker": {
             "colorbar": {
              "outlinewidth": 0,
              "ticks": ""
             }
            },
            "type": "scatterpolargl"
           }
          ],
          "scatterternary": [
           {
            "marker": {
             "colorbar": {
              "outlinewidth": 0,
              "ticks": ""
             }
            },
            "type": "scatterternary"
           }
          ],
          "surface": [
           {
            "colorbar": {
             "outlinewidth": 0,
             "ticks": ""
            },
            "colorscale": [
             [
              0,
              "#0d0887"
             ],
             [
              0.1111111111111111,
              "#46039f"
             ],
             [
              0.2222222222222222,
              "#7201a8"
             ],
             [
              0.3333333333333333,
              "#9c179e"
             ],
             [
              0.4444444444444444,
              "#bd3786"
             ],
             [
              0.5555555555555556,
              "#d8576b"
             ],
             [
              0.6666666666666666,
              "#ed7953"
             ],
             [
              0.7777777777777778,
              "#fb9f3a"
             ],
             [
              0.8888888888888888,
              "#fdca26"
             ],
             [
              1,
              "#f0f921"
             ]
            ],
            "type": "surface"
           }
          ],
          "table": [
           {
            "cells": {
             "fill": {
              "color": "#EBF0F8"
             },
             "line": {
              "color": "white"
             }
            },
            "header": {
             "fill": {
              "color": "#C8D4E3"
             },
             "line": {
              "color": "white"
             }
            },
            "type": "table"
           }
          ]
         },
         "layout": {
          "annotationdefaults": {
           "arrowcolor": "#2a3f5f",
           "arrowhead": 0,
           "arrowwidth": 1
          },
          "autotypenumbers": "strict",
          "coloraxis": {
           "colorbar": {
            "outlinewidth": 0,
            "ticks": ""
           }
          },
          "colorscale": {
           "diverging": [
            [
             0,
             "#8e0152"
            ],
            [
             0.1,
             "#c51b7d"
            ],
            [
             0.2,
             "#de77ae"
            ],
            [
             0.3,
             "#f1b6da"
            ],
            [
             0.4,
             "#fde0ef"
            ],
            [
             0.5,
             "#f7f7f7"
            ],
            [
             0.6,
             "#e6f5d0"
            ],
            [
             0.7,
             "#b8e186"
            ],
            [
             0.8,
             "#7fbc41"
            ],
            [
             0.9,
             "#4d9221"
            ],
            [
             1,
             "#276419"
            ]
           ],
           "sequential": [
            [
             0,
             "#0d0887"
            ],
            [
             0.1111111111111111,
             "#46039f"
            ],
            [
             0.2222222222222222,
             "#7201a8"
            ],
            [
             0.3333333333333333,
             "#9c179e"
            ],
            [
             0.4444444444444444,
             "#bd3786"
            ],
            [
             0.5555555555555556,
             "#d8576b"
            ],
            [
             0.6666666666666666,
             "#ed7953"
            ],
            [
             0.7777777777777778,
             "#fb9f3a"
            ],
            [
             0.8888888888888888,
             "#fdca26"
            ],
            [
             1,
             "#f0f921"
            ]
           ],
           "sequentialminus": [
            [
             0,
             "#0d0887"
            ],
            [
             0.1111111111111111,
             "#46039f"
            ],
            [
             0.2222222222222222,
             "#7201a8"
            ],
            [
             0.3333333333333333,
             "#9c179e"
            ],
            [
             0.4444444444444444,
             "#bd3786"
            ],
            [
             0.5555555555555556,
             "#d8576b"
            ],
            [
             0.6666666666666666,
             "#ed7953"
            ],
            [
             0.7777777777777778,
             "#fb9f3a"
            ],
            [
             0.8888888888888888,
             "#fdca26"
            ],
            [
             1,
             "#f0f921"
            ]
           ]
          },
          "colorway": [
           "#636efa",
           "#EF553B",
           "#00cc96",
           "#ab63fa",
           "#FFA15A",
           "#19d3f3",
           "#FF6692",
           "#B6E880",
           "#FF97FF",
           "#FECB52"
          ],
          "font": {
           "color": "#2a3f5f"
          },
          "geo": {
           "bgcolor": "white",
           "lakecolor": "white",
           "landcolor": "#E5ECF6",
           "showlakes": true,
           "showland": true,
           "subunitcolor": "white"
          },
          "hoverlabel": {
           "align": "left"
          },
          "hovermode": "closest",
          "mapbox": {
           "style": "light"
          },
          "paper_bgcolor": "white",
          "plot_bgcolor": "#E5ECF6",
          "polar": {
           "angularaxis": {
            "gridcolor": "white",
            "linecolor": "white",
            "ticks": ""
           },
           "bgcolor": "#E5ECF6",
           "radialaxis": {
            "gridcolor": "white",
            "linecolor": "white",
            "ticks": ""
           }
          },
          "scene": {
           "xaxis": {
            "backgroundcolor": "#E5ECF6",
            "gridcolor": "white",
            "gridwidth": 2,
            "linecolor": "white",
            "showbackground": true,
            "ticks": "",
            "zerolinecolor": "white"
           },
           "yaxis": {
            "backgroundcolor": "#E5ECF6",
            "gridcolor": "white",
            "gridwidth": 2,
            "linecolor": "white",
            "showbackground": true,
            "ticks": "",
            "zerolinecolor": "white"
           },
           "zaxis": {
            "backgroundcolor": "#E5ECF6",
            "gridcolor": "white",
            "gridwidth": 2,
            "linecolor": "white",
            "showbackground": true,
            "ticks": "",
            "zerolinecolor": "white"
           }
          },
          "shapedefaults": {
           "line": {
            "color": "#2a3f5f"
           }
          },
          "ternary": {
           "aaxis": {
            "gridcolor": "white",
            "linecolor": "white",
            "ticks": ""
           },
           "baxis": {
            "gridcolor": "white",
            "linecolor": "white",
            "ticks": ""
           },
           "bgcolor": "#E5ECF6",
           "caxis": {
            "gridcolor": "white",
            "linecolor": "white",
            "ticks": ""
           }
          },
          "title": {
           "x": 0.05
          },
          "xaxis": {
           "automargin": true,
           "gridcolor": "white",
           "linecolor": "white",
           "ticks": "",
           "title": {
            "standoff": 15
           },
           "zerolinecolor": "white",
           "zerolinewidth": 2
          },
          "yaxis": {
           "automargin": true,
           "gridcolor": "white",
           "linecolor": "white",
           "ticks": "",
           "title": {
            "standoff": 15
           },
           "zerolinecolor": "white",
           "zerolinewidth": 2
          }
         }
        },
        "title": {
         "text": "Price vs living_area"
        },
        "xaxis": {
         "anchor": "y",
         "domain": [
          0,
          1
         ],
         "title": {
          "text": "living_area"
         }
        },
        "yaxis": {
         "anchor": "x",
         "domain": [
          0,
          1
         ],
         "title": {
          "text": "last_price"
         }
        }
       }
      }
     },
     "metadata": {},
     "output_type": "display_data"
    },
    {
     "data": {
      "application/vnd.plotly.v1+json": {
       "config": {
        "plotlyServerURL": "https://plot.ly"
       },
       "data": [
        {
         "hovertemplate": "parks_nearest=%{x}<br>last_price=%{y}<extra></extra>",
         "legendgroup": "",
         "marker": {
          "color": "#636efa",
          "symbol": "circle"
         },
         "mode": "markers",
         "name": "",
         "orientation": "v",
         "showlegend": false,
         "type": "scatter",
         "x": [
          null,
          null,
          null,
          549,
          null,
          493,
          null,
          null,
          null,
          null,
          null,
          null,
          138,
          137,
          175,
          646,
          418,
          197,
          315,
          null,
          null,
          652,
          489,
          null,
          391,
          null,
          null,
          null,
          null,
          null,
          null,
          null,
          null,
          190,
          null,
          null,
          203,
          null,
          410,
          386,
          null,
          689,
          320,
          441,
          714,
          589,
          null,
          238,
          195,
          763,
          null,
          915,
          null,
          524,
          456,
          325,
          null,
          null,
          null,
          null,
          null,
          614,
          null,
          437,
          null,
          null,
          null,
          null,
          null,
          null,
          null,
          null,
          null,
          null,
          null,
          null,
          null,
          null,
          null,
          null,
          null,
          null,
          null,
          null,
          null,
          null,
          512,
          117,
          null,
          370,
          null,
          367,
          320,
          440,
          null,
          null,
          622,
          null,
          null,
          804,
          null,
          569,
          null,
          420,
          null,
          303,
          441,
          null,
          433,
          308,
          null,
          157,
          192,
          null,
          null,
          422,
          null,
          484,
          560,
          306,
          null,
          null,
          552,
          614,
          null,
          363,
          754,
          430,
          null,
          null,
          null,
          null,
          null,
          null,
          null,
          536,
          null,
          117,
          null,
          null,
          602,
          null,
          null,
          303,
          null,
          null,
          541,
          38,
          615,
          null,
          null,
          null,
          null,
          null,
          null,
          null,
          586,
          559,
          null,
          46,
          295,
          null,
          null,
          null,
          230,
          417,
          null,
          null,
          null,
          186,
          null,
          284,
          null,
          null,
          null,
          null,
          318,
          231,
          669,
          null,
          null,
          null,
          null,
          null,
          null,
          null,
          null,
          null,
          null,
          138,
          null,
          null,
          192,
          null,
          355,
          371,
          null,
          null,
          null,
          null,
          370,
          584,
          699,
          null,
          585,
          null,
          null,
          null,
          null,
          500,
          592,
          274,
          null,
          542,
          499,
          null,
          458,
          null,
          null,
          409,
          447,
          null,
          330,
          null,
          null,
          718,
          null,
          null,
          485,
          531,
          null,
          236,
          274,
          null,
          468,
          null,
          183,
          474,
          325,
          1767,
          null,
          85,
          641,
          null,
          null,
          674,
          483,
          598,
          null,
          null,
          194,
          null,
          null,
          270,
          398,
          346,
          null,
          578,
          null,
          null,
          null,
          null,
          null,
          613,
          null,
          null,
          null,
          688,
          288,
          714,
          265,
          650,
          null,
          124,
          742,
          261,
          532,
          114,
          650,
          null,
          null,
          null,
          null,
          null,
          null,
          null,
          126,
          null,
          null,
          1188,
          null,
          null,
          537,
          215,
          708,
          391,
          null,
          null,
          null,
          null,
          194,
          592,
          null,
          null,
          null,
          null,
          null,
          null,
          null,
          null,
          808,
          562,
          null,
          739,
          null,
          351,
          null,
          1114,
          94,
          237,
          null,
          null,
          223,
          315,
          1312,
          501,
          467,
          null,
          null,
          460,
          null,
          870,
          1097,
          563,
          null,
          null,
          23,
          112,
          181,
          379,
          378,
          697,
          null,
          680,
          528,
          null,
          106,
          533,
          null,
          null,
          null,
          597,
          null,
          690,
          null,
          null,
          null,
          482,
          null,
          null,
          315,
          null,
          null,
          674,
          null,
          238,
          349,
          null,
          null,
          112,
          null,
          null,
          519,
          139,
          null,
          null,
          null,
          238,
          414,
          233,
          null,
          null,
          null,
          null,
          null,
          null,
          null,
          null,
          null,
          434,
          468,
          null,
          null,
          null,
          370,
          null,
          null,
          null,
          null,
          null,
          129,
          null,
          489,
          287,
          null,
          null,
          null,
          736,
          null,
          476,
          441,
          428,
          531,
          287,
          505,
          null,
          null,
          null,
          null,
          null,
          null,
          226,
          null,
          null,
          448,
          24,
          null,
          2102,
          651,
          679,
          null,
          null,
          null,
          763,
          842,
          null,
          522,
          null,
          null,
          324,
          173,
          null,
          null,
          null,
          null,
          null,
          608,
          371,
          167,
          346,
          526,
          null,
          null,
          null,
          515,
          300,
          null,
          75,
          185,
          null,
          null,
          1501,
          460,
          null,
          643,
          2102,
          420,
          null,
          74,
          535,
          null,
          null,
          602,
          761,
          null,
          125,
          228,
          385,
          441,
          339,
          null,
          null,
          null,
          417,
          null,
          null,
          544,
          null,
          547,
          null,
          null,
          441,
          null,
          137,
          null,
          null,
          null,
          null,
          401,
          212
         ],
         "xaxis": "x",
         "y": [
          95000,
          232857,
          55714,
          91429,
          70000,
          107143,
          53571,
          108571,
          155714,
          53071,
          97857,
          171414,
          192857,
          250000,
          785714,
          80714,
          127143,
          91429,
          90000,
          571429,
          54286,
          192857,
          128571,
          104286,
          202857,
          64286,
          72714,
          39714,
          108571,
          357143,
          87286,
          52571,
          62857,
          250000,
          91429,
          74286,
          77143,
          52714,
          52857,
          199857,
          78571,
          162857,
          117143,
          251429,
          67857,
          127143,
          56429,
          32143,
          94286,
          107143,
          120714,
          47143,
          120000,
          65000,
          86446,
          82857,
          75000,
          79286,
          54286,
          56429,
          77143,
          50000,
          118571,
          104286,
          71429,
          46571,
          85000,
          75000,
          45000,
          50000,
          70714,
          67843,
          38571,
          62857,
          70714,
          60714,
          268243,
          85000,
          74714,
          71429,
          91714,
          77143,
          75000,
          57857,
          72857,
          49143,
          65000,
          70000,
          65000,
          66429,
          132857,
          74303,
          92143,
          95714,
          78571,
          120714,
          92857,
          41357,
          59286,
          64286,
          71286,
          45286,
          75000,
          75000,
          75714,
          40000,
          148093,
          145714,
          428571,
          55000,
          47143,
          59286,
          111286,
          52857,
          153571,
          82857,
          171429,
          357143,
          71286,
          45000,
          91286,
          55714,
          65000,
          54286,
          57143,
          314286,
          58571,
          78571,
          52857,
          71429,
          60000,
          92143,
          72857,
          59286,
          60746,
          145714,
          52371,
          132857,
          151429,
          60000,
          72857,
          79286,
          44286,
          68571,
          78571,
          58571,
          77129,
          74286,
          51429,
          92857,
          60000,
          184286,
          64143,
          174286,
          52000,
          50714,
          50000,
          211429,
          77302,
          66429,
          83571,
          99857,
          122857,
          104286,
          72857,
          88571,
          371429,
          111100,
          214286,
          77143,
          47143,
          84143,
          53071,
          471429,
          50000,
          124286,
          62857,
          82857,
          237143,
          53571,
          460714,
          72857,
          57143,
          80714,
          53714,
          53571,
          95714,
          56143,
          111429,
          78571,
          118571,
          52857,
          97143,
          93571,
          57000,
          67857,
          65714,
          65714,
          81786,
          71429,
          60714,
          87143,
          54286,
          111111,
          74286,
          80000,
          38571,
          111429,
          42857,
          102143,
          62714,
          105714,
          35714,
          499700,
          54286,
          63571,
          87857,
          90714,
          86429,
          54286,
          85143,
          71286,
          371429,
          49714,
          67143,
          142286,
          116429,
          232143,
          69286,
          83557,
          113571,
          77143,
          88571,
          207143,
          85429,
          75714,
          98429,
          55571,
          364286,
          211143,
          58571,
          131429,
          60714,
          114286,
          109857,
          205714,
          79929,
          95000,
          71429,
          74286,
          414286,
          70000,
          225729,
          55714,
          78429,
          47143,
          121714,
          64271,
          71429,
          85000,
          107143,
          92857,
          71286,
          57143,
          96429,
          87143,
          52143,
          60714,
          88500,
          112143,
          71429,
          67143,
          58571,
          142855,
          120286,
          73857,
          117143,
          270000,
          129600,
          48143,
          92843,
          71286,
          111429,
          126429,
          78571,
          59286,
          50000,
          52143,
          207143,
          75000,
          49786,
          87143,
          246429,
          73571,
          271429,
          62143,
          78571,
          164286,
          60000,
          134286,
          171429,
          118571,
          100000,
          231102,
          88571,
          80000,
          64143,
          82857,
          91429,
          111429,
          40714,
          54286,
          78429,
          52143,
          52677,
          50714,
          56714,
          328571,
          100000,
          79286,
          52857,
          52957,
          137143,
          64286,
          71286,
          108571,
          67857,
          45714,
          92857,
          141429,
          63571,
          60714,
          60000,
          257143,
          40000,
          57143,
          132857,
          142857,
          72857,
          214286,
          48571,
          79857,
          70000,
          64286,
          255000,
          54857,
          82986,
          92857,
          52857,
          91939,
          52143,
          60714,
          60000,
          135714,
          85571,
          90000,
          56714,
          185714,
          122571,
          70000,
          55714,
          58571,
          76143,
          74286,
          55714,
          124286,
          207143,
          85714,
          92857,
          52857,
          117143,
          67857,
          73571,
          121429,
          82857,
          62857,
          171429,
          85714,
          82714,
          58571,
          64286,
          67857,
          45714,
          114000,
          111429,
          141429,
          48571,
          48571,
          360000,
          102143,
          62714,
          80000,
          149857,
          56857,
          100000,
          61429,
          53571,
          54643,
          171414,
          109286,
          121429,
          67143,
          238571,
          227857,
          101429,
          67143,
          58414,
          56429,
          114286,
          132857,
          260094,
          124286,
          88571,
          171429,
          132000,
          64286,
          54286,
          161714,
          104357,
          57143,
          65000,
          64286,
          201429,
          107143,
          85714,
          52143,
          57143,
          253621,
          56429,
          47143,
          54857,
          54286,
          63357,
          150000,
          72714,
          76714,
          84571,
          75714,
          99857,
          71143,
          235111,
          69286,
          85286,
          105000,
          82857,
          92143,
          45686,
          52143,
          180000,
          53571,
          168500,
          61571,
          135714,
          72857,
          92143,
          92857,
          94643,
          354286,
          134000,
          47000,
          57000,
          68214,
          59286,
          185714,
          64143,
          167857,
          93571,
          63571,
          55571,
          58429,
          115714,
          469915,
          131429,
          52143,
          112857,
          465000,
          72843,
          145714,
          174080,
          107143,
          78571,
          98571,
          70000,
          128571,
          64286,
          59286,
          125714,
          184286,
          99857,
          44286,
          113602,
          120700,
          79143,
          285714,
          37857,
          74286,
          58571,
          50000,
          77143,
          112857
         ],
         "yaxis": "y"
        }
       ],
       "layout": {
        "legend": {
         "tracegroupgap": 0
        },
        "template": {
         "data": {
          "bar": [
           {
            "error_x": {
             "color": "#2a3f5f"
            },
            "error_y": {
             "color": "#2a3f5f"
            },
            "marker": {
             "line": {
              "color": "#E5ECF6",
              "width": 0.5
             },
             "pattern": {
              "fillmode": "overlay",
              "size": 10,
              "solidity": 0.2
             }
            },
            "type": "bar"
           }
          ],
          "barpolar": [
           {
            "marker": {
             "line": {
              "color": "#E5ECF6",
              "width": 0.5
             },
             "pattern": {
              "fillmode": "overlay",
              "size": 10,
              "solidity": 0.2
             }
            },
            "type": "barpolar"
           }
          ],
          "carpet": [
           {
            "aaxis": {
             "endlinecolor": "#2a3f5f",
             "gridcolor": "white",
             "linecolor": "white",
             "minorgridcolor": "white",
             "startlinecolor": "#2a3f5f"
            },
            "baxis": {
             "endlinecolor": "#2a3f5f",
             "gridcolor": "white",
             "linecolor": "white",
             "minorgridcolor": "white",
             "startlinecolor": "#2a3f5f"
            },
            "type": "carpet"
           }
          ],
          "choropleth": [
           {
            "colorbar": {
             "outlinewidth": 0,
             "ticks": ""
            },
            "type": "choropleth"
           }
          ],
          "contour": [
           {
            "colorbar": {
             "outlinewidth": 0,
             "ticks": ""
            },
            "colorscale": [
             [
              0,
              "#0d0887"
             ],
             [
              0.1111111111111111,
              "#46039f"
             ],
             [
              0.2222222222222222,
              "#7201a8"
             ],
             [
              0.3333333333333333,
              "#9c179e"
             ],
             [
              0.4444444444444444,
              "#bd3786"
             ],
             [
              0.5555555555555556,
              "#d8576b"
             ],
             [
              0.6666666666666666,
              "#ed7953"
             ],
             [
              0.7777777777777778,
              "#fb9f3a"
             ],
             [
              0.8888888888888888,
              "#fdca26"
             ],
             [
              1,
              "#f0f921"
             ]
            ],
            "type": "contour"
           }
          ],
          "contourcarpet": [
           {
            "colorbar": {
             "outlinewidth": 0,
             "ticks": ""
            },
            "type": "contourcarpet"
           }
          ],
          "heatmap": [
           {
            "colorbar": {
             "outlinewidth": 0,
             "ticks": ""
            },
            "colorscale": [
             [
              0,
              "#0d0887"
             ],
             [
              0.1111111111111111,
              "#46039f"
             ],
             [
              0.2222222222222222,
              "#7201a8"
             ],
             [
              0.3333333333333333,
              "#9c179e"
             ],
             [
              0.4444444444444444,
              "#bd3786"
             ],
             [
              0.5555555555555556,
              "#d8576b"
             ],
             [
              0.6666666666666666,
              "#ed7953"
             ],
             [
              0.7777777777777778,
              "#fb9f3a"
             ],
             [
              0.8888888888888888,
              "#fdca26"
             ],
             [
              1,
              "#f0f921"
             ]
            ],
            "type": "heatmap"
           }
          ],
          "heatmapgl": [
           {
            "colorbar": {
             "outlinewidth": 0,
             "ticks": ""
            },
            "colorscale": [
             [
              0,
              "#0d0887"
             ],
             [
              0.1111111111111111,
              "#46039f"
             ],
             [
              0.2222222222222222,
              "#7201a8"
             ],
             [
              0.3333333333333333,
              "#9c179e"
             ],
             [
              0.4444444444444444,
              "#bd3786"
             ],
             [
              0.5555555555555556,
              "#d8576b"
             ],
             [
              0.6666666666666666,
              "#ed7953"
             ],
             [
              0.7777777777777778,
              "#fb9f3a"
             ],
             [
              0.8888888888888888,
              "#fdca26"
             ],
             [
              1,
              "#f0f921"
             ]
            ],
            "type": "heatmapgl"
           }
          ],
          "histogram": [
           {
            "marker": {
             "pattern": {
              "fillmode": "overlay",
              "size": 10,
              "solidity": 0.2
             }
            },
            "type": "histogram"
           }
          ],
          "histogram2d": [
           {
            "colorbar": {
             "outlinewidth": 0,
             "ticks": ""
            },
            "colorscale": [
             [
              0,
              "#0d0887"
             ],
             [
              0.1111111111111111,
              "#46039f"
             ],
             [
              0.2222222222222222,
              "#7201a8"
             ],
             [
              0.3333333333333333,
              "#9c179e"
             ],
             [
              0.4444444444444444,
              "#bd3786"
             ],
             [
              0.5555555555555556,
              "#d8576b"
             ],
             [
              0.6666666666666666,
              "#ed7953"
             ],
             [
              0.7777777777777778,
              "#fb9f3a"
             ],
             [
              0.8888888888888888,
              "#fdca26"
             ],
             [
              1,
              "#f0f921"
             ]
            ],
            "type": "histogram2d"
           }
          ],
          "histogram2dcontour": [
           {
            "colorbar": {
             "outlinewidth": 0,
             "ticks": ""
            },
            "colorscale": [
             [
              0,
              "#0d0887"
             ],
             [
              0.1111111111111111,
              "#46039f"
             ],
             [
              0.2222222222222222,
              "#7201a8"
             ],
             [
              0.3333333333333333,
              "#9c179e"
             ],
             [
              0.4444444444444444,
              "#bd3786"
             ],
             [
              0.5555555555555556,
              "#d8576b"
             ],
             [
              0.6666666666666666,
              "#ed7953"
             ],
             [
              0.7777777777777778,
              "#fb9f3a"
             ],
             [
              0.8888888888888888,
              "#fdca26"
             ],
             [
              1,
              "#f0f921"
             ]
            ],
            "type": "histogram2dcontour"
           }
          ],
          "mesh3d": [
           {
            "colorbar": {
             "outlinewidth": 0,
             "ticks": ""
            },
            "type": "mesh3d"
           }
          ],
          "parcoords": [
           {
            "line": {
             "colorbar": {
              "outlinewidth": 0,
              "ticks": ""
             }
            },
            "type": "parcoords"
           }
          ],
          "pie": [
           {
            "automargin": true,
            "type": "pie"
           }
          ],
          "scatter": [
           {
            "fillpattern": {
             "fillmode": "overlay",
             "size": 10,
             "solidity": 0.2
            },
            "type": "scatter"
           }
          ],
          "scatter3d": [
           {
            "line": {
             "colorbar": {
              "outlinewidth": 0,
              "ticks": ""
             }
            },
            "marker": {
             "colorbar": {
              "outlinewidth": 0,
              "ticks": ""
             }
            },
            "type": "scatter3d"
           }
          ],
          "scattercarpet": [
           {
            "marker": {
             "colorbar": {
              "outlinewidth": 0,
              "ticks": ""
             }
            },
            "type": "scattercarpet"
           }
          ],
          "scattergeo": [
           {
            "marker": {
             "colorbar": {
              "outlinewidth": 0,
              "ticks": ""
             }
            },
            "type": "scattergeo"
           }
          ],
          "scattergl": [
           {
            "marker": {
             "colorbar": {
              "outlinewidth": 0,
              "ticks": ""
             }
            },
            "type": "scattergl"
           }
          ],
          "scattermapbox": [
           {
            "marker": {
             "colorbar": {
              "outlinewidth": 0,
              "ticks": ""
             }
            },
            "type": "scattermapbox"
           }
          ],
          "scatterpolar": [
           {
            "marker": {
             "colorbar": {
              "outlinewidth": 0,
              "ticks": ""
             }
            },
            "type": "scatterpolar"
           }
          ],
          "scatterpolargl": [
           {
            "marker": {
             "colorbar": {
              "outlinewidth": 0,
              "ticks": ""
             }
            },
            "type": "scatterpolargl"
           }
          ],
          "scatterternary": [
           {
            "marker": {
             "colorbar": {
              "outlinewidth": 0,
              "ticks": ""
             }
            },
            "type": "scatterternary"
           }
          ],
          "surface": [
           {
            "colorbar": {
             "outlinewidth": 0,
             "ticks": ""
            },
            "colorscale": [
             [
              0,
              "#0d0887"
             ],
             [
              0.1111111111111111,
              "#46039f"
             ],
             [
              0.2222222222222222,
              "#7201a8"
             ],
             [
              0.3333333333333333,
              "#9c179e"
             ],
             [
              0.4444444444444444,
              "#bd3786"
             ],
             [
              0.5555555555555556,
              "#d8576b"
             ],
             [
              0.6666666666666666,
              "#ed7953"
             ],
             [
              0.7777777777777778,
              "#fb9f3a"
             ],
             [
              0.8888888888888888,
              "#fdca26"
             ],
             [
              1,
              "#f0f921"
             ]
            ],
            "type": "surface"
           }
          ],
          "table": [
           {
            "cells": {
             "fill": {
              "color": "#EBF0F8"
             },
             "line": {
              "color": "white"
             }
            },
            "header": {
             "fill": {
              "color": "#C8D4E3"
             },
             "line": {
              "color": "white"
             }
            },
            "type": "table"
           }
          ]
         },
         "layout": {
          "annotationdefaults": {
           "arrowcolor": "#2a3f5f",
           "arrowhead": 0,
           "arrowwidth": 1
          },
          "autotypenumbers": "strict",
          "coloraxis": {
           "colorbar": {
            "outlinewidth": 0,
            "ticks": ""
           }
          },
          "colorscale": {
           "diverging": [
            [
             0,
             "#8e0152"
            ],
            [
             0.1,
             "#c51b7d"
            ],
            [
             0.2,
             "#de77ae"
            ],
            [
             0.3,
             "#f1b6da"
            ],
            [
             0.4,
             "#fde0ef"
            ],
            [
             0.5,
             "#f7f7f7"
            ],
            [
             0.6,
             "#e6f5d0"
            ],
            [
             0.7,
             "#b8e186"
            ],
            [
             0.8,
             "#7fbc41"
            ],
            [
             0.9,
             "#4d9221"
            ],
            [
             1,
             "#276419"
            ]
           ],
           "sequential": [
            [
             0,
             "#0d0887"
            ],
            [
             0.1111111111111111,
             "#46039f"
            ],
            [
             0.2222222222222222,
             "#7201a8"
            ],
            [
             0.3333333333333333,
             "#9c179e"
            ],
            [
             0.4444444444444444,
             "#bd3786"
            ],
            [
             0.5555555555555556,
             "#d8576b"
            ],
            [
             0.6666666666666666,
             "#ed7953"
            ],
            [
             0.7777777777777778,
             "#fb9f3a"
            ],
            [
             0.8888888888888888,
             "#fdca26"
            ],
            [
             1,
             "#f0f921"
            ]
           ],
           "sequentialminus": [
            [
             0,
             "#0d0887"
            ],
            [
             0.1111111111111111,
             "#46039f"
            ],
            [
             0.2222222222222222,
             "#7201a8"
            ],
            [
             0.3333333333333333,
             "#9c179e"
            ],
            [
             0.4444444444444444,
             "#bd3786"
            ],
            [
             0.5555555555555556,
             "#d8576b"
            ],
            [
             0.6666666666666666,
             "#ed7953"
            ],
            [
             0.7777777777777778,
             "#fb9f3a"
            ],
            [
             0.8888888888888888,
             "#fdca26"
            ],
            [
             1,
             "#f0f921"
            ]
           ]
          },
          "colorway": [
           "#636efa",
           "#EF553B",
           "#00cc96",
           "#ab63fa",
           "#FFA15A",
           "#19d3f3",
           "#FF6692",
           "#B6E880",
           "#FF97FF",
           "#FECB52"
          ],
          "font": {
           "color": "#2a3f5f"
          },
          "geo": {
           "bgcolor": "white",
           "lakecolor": "white",
           "landcolor": "#E5ECF6",
           "showlakes": true,
           "showland": true,
           "subunitcolor": "white"
          },
          "hoverlabel": {
           "align": "left"
          },
          "hovermode": "closest",
          "mapbox": {
           "style": "light"
          },
          "paper_bgcolor": "white",
          "plot_bgcolor": "#E5ECF6",
          "polar": {
           "angularaxis": {
            "gridcolor": "white",
            "linecolor": "white",
            "ticks": ""
           },
           "bgcolor": "#E5ECF6",
           "radialaxis": {
            "gridcolor": "white",
            "linecolor": "white",
            "ticks": ""
           }
          },
          "scene": {
           "xaxis": {
            "backgroundcolor": "#E5ECF6",
            "gridcolor": "white",
            "gridwidth": 2,
            "linecolor": "white",
            "showbackground": true,
            "ticks": "",
            "zerolinecolor": "white"
           },
           "yaxis": {
            "backgroundcolor": "#E5ECF6",
            "gridcolor": "white",
            "gridwidth": 2,
            "linecolor": "white",
            "showbackground": true,
            "ticks": "",
            "zerolinecolor": "white"
           },
           "zaxis": {
            "backgroundcolor": "#E5ECF6",
            "gridcolor": "white",
            "gridwidth": 2,
            "linecolor": "white",
            "showbackground": true,
            "ticks": "",
            "zerolinecolor": "white"
           }
          },
          "shapedefaults": {
           "line": {
            "color": "#2a3f5f"
           }
          },
          "ternary": {
           "aaxis": {
            "gridcolor": "white",
            "linecolor": "white",
            "ticks": ""
           },
           "baxis": {
            "gridcolor": "white",
            "linecolor": "white",
            "ticks": ""
           },
           "bgcolor": "#E5ECF6",
           "caxis": {
            "gridcolor": "white",
            "linecolor": "white",
            "ticks": ""
           }
          },
          "title": {
           "x": 0.05
          },
          "xaxis": {
           "automargin": true,
           "gridcolor": "white",
           "linecolor": "white",
           "ticks": "",
           "title": {
            "standoff": 15
           },
           "zerolinecolor": "white",
           "zerolinewidth": 2
          },
          "yaxis": {
           "automargin": true,
           "gridcolor": "white",
           "linecolor": "white",
           "ticks": "",
           "title": {
            "standoff": 15
           },
           "zerolinecolor": "white",
           "zerolinewidth": 2
          }
         }
        },
        "title": {
         "text": "Price vs parks_nearest"
        },
        "xaxis": {
         "anchor": "y",
         "domain": [
          0,
          1
         ],
         "title": {
          "text": "parks_nearest"
         }
        },
        "yaxis": {
         "anchor": "x",
         "domain": [
          0,
          1
         ],
         "title": {
          "text": "last_price"
         }
        }
       }
      }
     },
     "metadata": {},
     "output_type": "display_data"
    }
   ],
   "source": [
    "# lets visualize the correlation with a scatter plot\n",
    "for var in vars:\n",
    "    #draw with px\n",
    "    fig = px.scatter(df, x=var, y='last_price', title=f'Price vs {var}')\n",
    "    fig.show()"
   ]
  },
  {
   "cell_type": "markdown",
   "metadata": {},
   "source": [
    "4. Fit a linear regression model with the same 5 variables as predictors, and price as the \n",
    "dependent variable. Comment on the overall significance and quality of the model. \n",
    "Interpret the coefficients. Make conclusions - are these variables important determinants \n",
    "of prices for apartments?\n"
   ]
  },
  {
   "cell_type": "code",
   "execution_count": null,
   "metadata": {},
   "outputs": [
    {
     "data": {
      "text/html": [
       "<div>\n",
       "<style scoped>\n",
       "    .dataframe tbody tr th:only-of-type {\n",
       "        vertical-align: middle;\n",
       "    }\n",
       "\n",
       "    .dataframe tbody tr th {\n",
       "        vertical-align: top;\n",
       "    }\n",
       "\n",
       "    .dataframe thead th {\n",
       "        text-align: right;\n",
       "    }\n",
       "</style>\n",
       "<table border=\"1\" class=\"dataframe\">\n",
       "  <thead>\n",
       "    <tr style=\"text-align: right;\">\n",
       "      <th></th>\n",
       "      <th>Coefficient</th>\n",
       "      <th>P-value</th>\n",
       "      <th>Standard Error</th>\n",
       "      <th>[95% Conf. Interval] Lower</th>\n",
       "      <th>[95% Conf. Interval] Upper</th>\n",
       "    </tr>\n",
       "  </thead>\n",
       "  <tbody>\n",
       "    <tr>\n",
       "      <th>const</th>\n",
       "      <td>-29506.50</td>\n",
       "      <td>0.00</td>\n",
       "      <td>7920.27</td>\n",
       "      <td>-45123.98</td>\n",
       "      <td>-13889.02</td>\n",
       "    </tr>\n",
       "    <tr>\n",
       "      <th>total_area</th>\n",
       "      <td>2178.37</td>\n",
       "      <td>0.00</td>\n",
       "      <td>257.84</td>\n",
       "      <td>1669.96</td>\n",
       "      <td>2686.78</td>\n",
       "    </tr>\n",
       "    <tr>\n",
       "      <th>rooms</th>\n",
       "      <td>-23435.90</td>\n",
       "      <td>0.00</td>\n",
       "      <td>4989.89</td>\n",
       "      <td>-33275.14</td>\n",
       "      <td>-13596.66</td>\n",
       "    </tr>\n",
       "    <tr>\n",
       "      <th>kitchen_area</th>\n",
       "      <td>2586.62</td>\n",
       "      <td>0.00</td>\n",
       "      <td>618.82</td>\n",
       "      <td>1366.40</td>\n",
       "      <td>3806.84</td>\n",
       "    </tr>\n",
       "    <tr>\n",
       "      <th>living_area</th>\n",
       "      <td>351.67</td>\n",
       "      <td>0.33</td>\n",
       "      <td>356.61</td>\n",
       "      <td>-351.51</td>\n",
       "      <td>1054.85</td>\n",
       "    </tr>\n",
       "    <tr>\n",
       "      <th>parks_nearest</th>\n",
       "      <td>16.17</td>\n",
       "      <td>0.06</td>\n",
       "      <td>8.58</td>\n",
       "      <td>-0.74</td>\n",
       "      <td>33.07</td>\n",
       "    </tr>\n",
       "  </tbody>\n",
       "</table>\n",
       "</div>"
      ],
      "text/plain": [
       "               Coefficient  P-value  Standard Error  \\\n",
       "const            -29506.50     0.00         7920.27   \n",
       "total_area         2178.37     0.00          257.84   \n",
       "rooms            -23435.90     0.00         4989.89   \n",
       "kitchen_area       2586.62     0.00          618.82   \n",
       "living_area         351.67     0.33          356.61   \n",
       "parks_nearest        16.17     0.06            8.58   \n",
       "\n",
       "               [95% Conf. Interval] Lower  [95% Conf. Interval] Upper  \n",
       "const                           -45123.98                   -13889.02  \n",
       "total_area                        1669.96                     2686.78  \n",
       "rooms                           -33275.14                   -13596.66  \n",
       "kitchen_area                      1366.40                     3806.84  \n",
       "living_area                       -351.51                     1054.85  \n",
       "parks_nearest                       -0.74                       33.07  "
      ]
     },
     "metadata": {},
     "output_type": "display_data"
    }
   ],
   "source": [
    "#4. Fit a linear regression model with the same 5 variables as predictors, and price as the dependent variable.\n",
    "import statsmodels.api as sm\n",
    "\n",
    "# define the variables\n",
    "X = df[vars]  # les 5 variables prédictives\n",
    "y = df['last_price']\n",
    "\n",
    "# add a constant to the model\n",
    "X = sm.add_constant(X)\n",
    "\n",
    "# adjust the model\n",
    "model = sm.OLS(y, X).fit()\n",
    "\n",
    "# we'll extract the results and put them in a dataframe\n",
    "results_df = pd.DataFrame({\n",
    "    \"Coefficient\": model.params,\n",
    "    \"P-value\": model.pvalues,\n",
    "    \"Standard Error\": model.bse,\n",
    "    \"[95% Conf. Interval] Lower\": model.conf_int()[0],\n",
    "    \"[95% Conf. Interval] Upper\": model.conf_int()[1]\n",
    "})\n",
    "\n",
    "# round the results to 2 decimal places\n",
    "results_df = results_df.round(2)\n",
    "\n",
    "# \n",
    "display(results_df)"
   ]
  },
  {
   "cell_type": "markdown",
   "metadata": {},
   "source": [
    "### **Conclusion on the Regression Results**  \n",
    "\n",
    "The regression analysis provides insights into how different factors influence apartment prices. Here’s what we can conclude:  \n",
    "\n",
    "1. **Total Area (+2178.37, p < 0.01)**  \n",
    "   - A significant positive effect on price. Larger apartments tend to be more expensive.  \n",
    "\n",
    "2. **Number of Rooms (-23435.90, p < 0.01)**  \n",
    "   - Surprisingly, the number of rooms has a **negative** coefficient, meaning more rooms **decrease** the price when controlling for other factors. This may indicate that larger but inefficiently divided spaces are less valuable.  \n",
    "\n",
    "3. **Kitchen Area (+2586.62, p < 0.01)**  \n",
    "   - A larger kitchen strongly increases the price, suggesting that buyers value spacious kitchens.  \n",
    "\n",
    "4. **Living Area (+351.67, p = 0.33)**  \n",
    "   - The effect is **not statistically significant** (p > 0.05), meaning we **cannot** conclude that living area size affects price in this model.  \n",
    "\n",
    "5. **Proximity to Parks (+16.17, p = 0.06)**  \n",
    "   - A weak positive effect, but it is **borderline insignificant** (p ≈ 0.06). It suggests that proximity to parks *may* slightly increase price, but the evidence is not strong.  \n",
    "\n",
    "6. **Intercept (-29506.50, p < 0.01)**  \n",
    "   - The negative constant suggests that, in the absence of other variables, the baseline price would be negative. However, this is not directly interpretable and mainly adjusts the model."
   ]
  },
  {
   "cell_type": "code",
   "execution_count": null,
   "metadata": {},
   "outputs": [],
   "source": []
  }
 ],
 "metadata": {
  "kernelspec": {
   "display_name": "Python 3",
   "language": "python",
   "name": "python3"
  },
  "language_info": {
   "codemirror_mode": {
    "name": "ipython",
    "version": 3
   },
   "file_extension": ".py",
   "mimetype": "text/x-python",
   "name": "python",
   "nbconvert_exporter": "python",
   "pygments_lexer": "ipython3",
   "version": "3.10.6"
  }
 },
 "nbformat": 4,
 "nbformat_minor": 2
}
